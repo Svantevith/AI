{
 "cells": [
  {
   "cell_type": "code",
   "execution_count": 404,
   "metadata": {
    "collapsed": true
   },
   "outputs": [],
   "source": [
    "import pandas as pd\n",
    "from matplotlib import pyplot as plt\n",
    "import numpy as np"
   ]
  },
  {
   "cell_type": "code",
   "execution_count": 405,
   "outputs": [],
   "source": [
    "melbourne_data_path = 'data/Melbourne_housing_FULL.csv'\n",
    "melbourne_df = pd.read_csv(melbourne_data_path)\n",
    "melbourne_df = melbourne_df.dropna(axis=0, how='any')"
   ],
   "metadata": {
    "collapsed": false,
    "pycharm": {
     "name": "#%%\n"
    }
   }
  },
  {
   "cell_type": "markdown",
   "source": [
    "# Review the data\n",
    "Use the command you learned to view summary statistics of the data. Then answer the following questions."
   ],
   "metadata": {
    "collapsed": false,
    "pycharm": {
     "name": "#%% md\n"
    }
   }
  },
  {
   "cell_type": "code",
   "execution_count": 406,
   "outputs": [
    {
     "data": {
      "text/plain": "             Rooms         Price     Distance     Postcode     Bedroom2  \\\ncount  8887.000000  8.887000e+03  8887.000000  8887.000000  8887.000000   \nmean      3.098909  1.092902e+06    11.199887  3111.662653     3.078204   \nstd       0.963786  6.793819e+05     6.813402   112.614268     0.966269   \nmin       1.000000  1.310000e+05     0.000000  3000.000000     0.000000   \n25%       2.000000  6.410000e+05     6.400000  3044.000000     2.000000   \n50%       3.000000  9.000000e+05    10.200000  3084.000000     3.000000   \n75%       4.000000  1.345000e+06    13.900000  3150.000000     4.000000   \nmax      12.000000  9.000000e+06    47.400000  3977.000000    12.000000   \n\n          Bathroom          Car      Landsize  BuildingArea    YearBuilt  \\\ncount  8887.000000  8887.000000   8887.000000   8887.000000  8887.000000   \nmean      1.646450     1.692247    523.480365    149.309477  1965.753348   \nstd       0.721611     0.975464   1061.324228     87.925580    37.040876   \nmin       1.000000     0.000000      0.000000      0.000000  1196.000000   \n25%       1.000000     1.000000    212.000000    100.000000  1945.000000   \n50%       2.000000     2.000000    478.000000    132.000000  1970.000000   \n75%       2.000000     2.000000    652.000000    180.000000  2000.000000   \nmax       9.000000    10.000000  42800.000000   3112.000000  2019.000000   \n\n         Lattitude   Longtitude  Propertycount  \ncount  8887.000000  8887.000000    8887.000000  \nmean    -37.804501   144.991393    7475.940137  \nstd       0.090549     0.118919    4375.024364  \nmin     -38.174360   144.423790     249.000000  \n25%     -37.858560   144.920000    4382.500000  \n50%     -37.798700   144.998500    6567.000000  \n75%     -37.748945   145.064560   10331.000000  \nmax     -37.407200   145.526350   21650.000000  ",
      "text/html": "<div>\n<style scoped>\n    .dataframe tbody tr th:only-of-type {\n        vertical-align: middle;\n    }\n\n    .dataframe tbody tr th {\n        vertical-align: top;\n    }\n\n    .dataframe thead th {\n        text-align: right;\n    }\n</style>\n<table border=\"1\" class=\"dataframe\">\n  <thead>\n    <tr style=\"text-align: right;\">\n      <th></th>\n      <th>Rooms</th>\n      <th>Price</th>\n      <th>Distance</th>\n      <th>Postcode</th>\n      <th>Bedroom2</th>\n      <th>Bathroom</th>\n      <th>Car</th>\n      <th>Landsize</th>\n      <th>BuildingArea</th>\n      <th>YearBuilt</th>\n      <th>Lattitude</th>\n      <th>Longtitude</th>\n      <th>Propertycount</th>\n    </tr>\n  </thead>\n  <tbody>\n    <tr>\n      <th>count</th>\n      <td>8887.000000</td>\n      <td>8.887000e+03</td>\n      <td>8887.000000</td>\n      <td>8887.000000</td>\n      <td>8887.000000</td>\n      <td>8887.000000</td>\n      <td>8887.000000</td>\n      <td>8887.000000</td>\n      <td>8887.000000</td>\n      <td>8887.000000</td>\n      <td>8887.000000</td>\n      <td>8887.000000</td>\n      <td>8887.000000</td>\n    </tr>\n    <tr>\n      <th>mean</th>\n      <td>3.098909</td>\n      <td>1.092902e+06</td>\n      <td>11.199887</td>\n      <td>3111.662653</td>\n      <td>3.078204</td>\n      <td>1.646450</td>\n      <td>1.692247</td>\n      <td>523.480365</td>\n      <td>149.309477</td>\n      <td>1965.753348</td>\n      <td>-37.804501</td>\n      <td>144.991393</td>\n      <td>7475.940137</td>\n    </tr>\n    <tr>\n      <th>std</th>\n      <td>0.963786</td>\n      <td>6.793819e+05</td>\n      <td>6.813402</td>\n      <td>112.614268</td>\n      <td>0.966269</td>\n      <td>0.721611</td>\n      <td>0.975464</td>\n      <td>1061.324228</td>\n      <td>87.925580</td>\n      <td>37.040876</td>\n      <td>0.090549</td>\n      <td>0.118919</td>\n      <td>4375.024364</td>\n    </tr>\n    <tr>\n      <th>min</th>\n      <td>1.000000</td>\n      <td>1.310000e+05</td>\n      <td>0.000000</td>\n      <td>3000.000000</td>\n      <td>0.000000</td>\n      <td>1.000000</td>\n      <td>0.000000</td>\n      <td>0.000000</td>\n      <td>0.000000</td>\n      <td>1196.000000</td>\n      <td>-38.174360</td>\n      <td>144.423790</td>\n      <td>249.000000</td>\n    </tr>\n    <tr>\n      <th>25%</th>\n      <td>2.000000</td>\n      <td>6.410000e+05</td>\n      <td>6.400000</td>\n      <td>3044.000000</td>\n      <td>2.000000</td>\n      <td>1.000000</td>\n      <td>1.000000</td>\n      <td>212.000000</td>\n      <td>100.000000</td>\n      <td>1945.000000</td>\n      <td>-37.858560</td>\n      <td>144.920000</td>\n      <td>4382.500000</td>\n    </tr>\n    <tr>\n      <th>50%</th>\n      <td>3.000000</td>\n      <td>9.000000e+05</td>\n      <td>10.200000</td>\n      <td>3084.000000</td>\n      <td>3.000000</td>\n      <td>2.000000</td>\n      <td>2.000000</td>\n      <td>478.000000</td>\n      <td>132.000000</td>\n      <td>1970.000000</td>\n      <td>-37.798700</td>\n      <td>144.998500</td>\n      <td>6567.000000</td>\n    </tr>\n    <tr>\n      <th>75%</th>\n      <td>4.000000</td>\n      <td>1.345000e+06</td>\n      <td>13.900000</td>\n      <td>3150.000000</td>\n      <td>4.000000</td>\n      <td>2.000000</td>\n      <td>2.000000</td>\n      <td>652.000000</td>\n      <td>180.000000</td>\n      <td>2000.000000</td>\n      <td>-37.748945</td>\n      <td>145.064560</td>\n      <td>10331.000000</td>\n    </tr>\n    <tr>\n      <th>max</th>\n      <td>12.000000</td>\n      <td>9.000000e+06</td>\n      <td>47.400000</td>\n      <td>3977.000000</td>\n      <td>12.000000</td>\n      <td>9.000000</td>\n      <td>10.000000</td>\n      <td>42800.000000</td>\n      <td>3112.000000</td>\n      <td>2019.000000</td>\n      <td>-37.407200</td>\n      <td>145.526350</td>\n      <td>21650.000000</td>\n    </tr>\n  </tbody>\n</table>\n</div>"
     },
     "execution_count": 406,
     "metadata": {},
     "output_type": "execute_result"
    }
   ],
   "source": [
    "melbourne_df.describe()"
   ],
   "metadata": {
    "collapsed": false,
    "pycharm": {
     "name": "#%%\n"
    }
   }
  },
  {
   "cell_type": "markdown",
   "source": [
    "What is the average lot size (rounded to nearest integer) ?"
   ],
   "metadata": {
    "collapsed": false,
    "pycharm": {
     "name": "#%% md\n"
    }
   }
  },
  {
   "cell_type": "code",
   "execution_count": 407,
   "outputs": [
    {
     "name": "stdout",
     "output_type": "stream",
     "text": [
      "149\n"
     ]
    }
   ],
   "source": [
    "avg_lot_size = melbourne_df['BuildingArea'].mean()\n",
    "print(round(avg_lot_size))"
   ],
   "metadata": {
    "collapsed": false,
    "pycharm": {
     "name": "#%%\n"
    }
   }
  },
  {
   "cell_type": "markdown",
   "source": [
    "As of today, how old is the newest home (current year - the date in which it was built)"
   ],
   "metadata": {
    "collapsed": false,
    "pycharm": {
     "name": "#%% md\n"
    }
   }
  },
  {
   "cell_type": "code",
   "execution_count": 408,
   "outputs": [
    {
     "name": "stdout",
     "output_type": "stream",
     "text": [
      "1\n"
     ]
    }
   ],
   "source": [
    "melbourne_df['YearBuilt'] = melbourne_df['YearBuilt'].astype(int)\n",
    "newest_home_age = 2020 - melbourne_df['YearBuilt'].max()\n",
    "print(newest_home_age)\n"
   ],
   "metadata": {
    "collapsed": false,
    "pycharm": {
     "name": "#%%\n"
    }
   }
  },
  {
   "cell_type": "code",
   "execution_count": 409,
   "outputs": [
    {
     "name": "stdout",
     "output_type": "stream",
     "text": [
      "                  Price\n",
      "YearBuilt              \n",
      "2000       1.013125e+06\n",
      "2001       9.217264e+05\n",
      "2002       8.712931e+05\n",
      "2003       8.709397e+05\n",
      "2004       8.437944e+05\n",
      "2005       9.438133e+05\n",
      "2006       1.003954e+06\n",
      "2007       9.803005e+05\n",
      "2008       9.679899e+05\n",
      "2009       9.801041e+05\n",
      "2010       9.293823e+05\n",
      "2011       8.852242e+05\n",
      "2012       9.221704e+05\n",
      "2013       9.567384e+05\n",
      "2014       9.277583e+05\n",
      "2015       1.242291e+06\n",
      "2016       1.415751e+06\n",
      "2017       1.100939e+06\n",
      "2018       1.099500e+06\n",
      "2019       1.100000e+06\n"
     ]
    }
   ],
   "source": [
    "after_2000 = melbourne_df[['Price', 'YearBuilt']]\n",
    "after_2000 = after_2000[after_2000['YearBuilt'] >= 2000].groupby('YearBuilt').mean()\n",
    "print(after_2000)"
   ],
   "metadata": {
    "collapsed": false,
    "pycharm": {
     "name": "#%%\n"
    }
   }
  },
  {
   "cell_type": "code",
   "execution_count": 410,
   "outputs": [
    {
     "data": {
      "text/plain": "<Figure size 720x360 with 1 Axes>",
      "image/png": "[encoded data removed]"
     },
     "metadata": {
      "needs_background": "light"
     },
     "output_type": "display_data"
    }
   ],
   "source": [
    "years_after_2000 = after_2000.index.tolist()\n",
    "plt.figure(figsize=(10, 5))\n",
    "plt.plot(\n",
    "    years_after_2000,\n",
    "    after_2000['Price'],\n",
    "    marker='o',\n",
    "    color='k',\n",
    "    label='Average price'\n",
    ")\n",
    "plt.legend()\n",
    "plt.xticks(years_after_2000, rotation='vertical')\n",
    "plt.show()"
   ],
   "metadata": {
    "collapsed": false,
    "pycharm": {
     "name": "#%%\n"
    }
   }
  },
  {
   "cell_type": "code",
   "execution_count": 411,
   "outputs": [
    {
     "name": "stdout",
     "output_type": "stream",
     "text": [
      "Index(['Suburb', 'Address', 'Rooms', 'Type', 'Price', 'Method', 'SellerG',\n",
      "       'Date', 'Distance', 'Postcode', 'Bedroom2', 'Bathroom', 'Car',\n",
      "       'Landsize', 'BuildingArea', 'YearBuilt', 'CouncilArea', 'Lattitude',\n",
      "       'Longtitude', 'Regionname', 'Propertycount'],\n",
      "      dtype='object')\n"
     ]
    }
   ],
   "source": [
    "print(melbourne_df.columns)"
   ],
   "metadata": {
    "collapsed": false,
    "pycharm": {
     "name": "#%%\n"
    }
   }
  },
  {
   "cell_type": "markdown",
   "source": [
    "# Choose features"
   ],
   "metadata": {
    "collapsed": false,
    "pycharm": {
     "name": "#%% md\n"
    }
   }
  },
  {
   "cell_type": "code",
   "execution_count": 412,
   "outputs": [
    {
     "data": {
      "text/plain": "        Suburb          Address  Rooms Type      Price Method SellerG  \\\n2   Abbotsford  25 Bloomburg St      2    h  1035000.0      S  Biggin   \n4   Abbotsford     5 Charles St      3    h  1465000.0     SP  Biggin   \n6   Abbotsford      55a Park St      4    h  1600000.0     VB  Nelson   \n11  Abbotsford     124 Yarra St      3    h  1876000.0      S  Nelson   \n14  Abbotsford    98 Charles St      2    h  1636000.0      S  Nelson   \n\n         Date  Distance  Postcode  ...  Bathroom  Car  Landsize  BuildingArea  \\\n2   4/02/2016       2.5    3067.0  ...       1.0  0.0     156.0          79.0   \n4   4/03/2017       2.5    3067.0  ...       2.0  0.0     134.0         150.0   \n6   4/06/2016       2.5    3067.0  ...       1.0  2.0     120.0         142.0   \n11  7/05/2016       2.5    3067.0  ...       2.0  0.0     245.0         210.0   \n14  8/10/2016       2.5    3067.0  ...       1.0  2.0     256.0         107.0   \n\n    YearBuilt         CouncilArea Lattitude  Longtitude  \\\n2        1900  Yarra City Council  -37.8079    144.9934   \n4        1900  Yarra City Council  -37.8093    144.9944   \n6        2014  Yarra City Council  -37.8072    144.9941   \n11       1910  Yarra City Council  -37.8024    144.9993   \n14       1890  Yarra City Council  -37.8060    144.9954   \n\n               Regionname Propertycount  \n2   Northern Metropolitan        4019.0  \n4   Northern Metropolitan        4019.0  \n6   Northern Metropolitan        4019.0  \n11  Northern Metropolitan        4019.0  \n14  Northern Metropolitan        4019.0  \n\n[5 rows x 21 columns]",
      "text/html": "<div>\n<style scoped>\n    .dataframe tbody tr th:only-of-type {\n        vertical-align: middle;\n    }\n\n    .dataframe tbody tr th {\n        vertical-align: top;\n    }\n\n    .dataframe thead th {\n        text-align: right;\n    }\n</style>\n<table border=\"1\" class=\"dataframe\">\n  <thead>\n    <tr style=\"text-align: right;\">\n      <th></th>\n      <th>Suburb</th>\n      <th>Address</th>\n      <th>Rooms</th>\n      <th>Type</th>\n      <th>Price</th>\n      <th>Method</th>\n      <th>SellerG</th>\n      <th>Date</th>\n      <th>Distance</th>\n      <th>Postcode</th>\n      <th>...</th>\n      <th>Bathroom</th>\n      <th>Car</th>\n      <th>Landsize</th>\n      <th>BuildingArea</th>\n      <th>YearBuilt</th>\n      <th>CouncilArea</th>\n      <th>Lattitude</th>\n      <th>Longtitude</th>\n      <th>Regionname</th>\n      <th>Propertycount</th>\n    </tr>\n  </thead>\n  <tbody>\n    <tr>\n      <th>2</th>\n      <td>Abbotsford</td>\n      <td>25 Bloomburg St</td>\n      <td>2</td>\n      <td>h</td>\n      <td>1035000.0</td>\n      <td>S</td>\n      <td>Biggin</td>\n      <td>4/02/2016</td>\n      <td>2.5</td>\n      <td>3067.0</td>\n      <td>...</td>\n      <td>1.0</td>\n      <td>0.0</td>\n      <td>156.0</td>\n      <td>79.0</td>\n      <td>1900</td>\n      <td>Yarra City Council</td>\n      <td>-37.8079</td>\n      <td>144.9934</td>\n      <td>Northern Metropolitan</td>\n      <td>4019.0</td>\n    </tr>\n    <tr>\n      <th>4</th>\n      <td>Abbotsford</td>\n      <td>5 Charles St</td>\n      <td>3</td>\n      <td>h</td>\n      <td>1465000.0</td>\n      <td>SP</td>\n      <td>Biggin</td>\n      <td>4/03/2017</td>\n      <td>2.5</td>\n      <td>3067.0</td>\n      <td>...</td>\n      <td>2.0</td>\n      <td>0.0</td>\n      <td>134.0</td>\n      <td>150.0</td>\n      <td>1900</td>\n      <td>Yarra City Council</td>\n      <td>-37.8093</td>\n      <td>144.9944</td>\n      <td>Northern Metropolitan</td>\n      <td>4019.0</td>\n    </tr>\n    <tr>\n      <th>6</th>\n      <td>Abbotsford</td>\n      <td>55a Park St</td>\n      <td>4</td>\n      <td>h</td>\n      <td>1600000.0</td>\n      <td>VB</td>\n      <td>Nelson</td>\n      <td>4/06/2016</td>\n      <td>2.5</td>\n      <td>3067.0</td>\n      <td>...</td>\n      <td>1.0</td>\n      <td>2.0</td>\n      <td>120.0</td>\n      <td>142.0</td>\n      <td>2014</td>\n      <td>Yarra City Council</td>\n      <td>-37.8072</td>\n      <td>144.9941</td>\n      <td>Northern Metropolitan</td>\n      <td>4019.0</td>\n    </tr>\n    <tr>\n      <th>11</th>\n      <td>Abbotsford</td>\n      <td>124 Yarra St</td>\n      <td>3</td>\n      <td>h</td>\n      <td>1876000.0</td>\n      <td>S</td>\n      <td>Nelson</td>\n      <td>7/05/2016</td>\n      <td>2.5</td>\n      <td>3067.0</td>\n      <td>...</td>\n      <td>2.0</td>\n      <td>0.0</td>\n      <td>245.0</td>\n      <td>210.0</td>\n      <td>1910</td>\n      <td>Yarra City Council</td>\n      <td>-37.8024</td>\n      <td>144.9993</td>\n      <td>Northern Metropolitan</td>\n      <td>4019.0</td>\n    </tr>\n    <tr>\n      <th>14</th>\n      <td>Abbotsford</td>\n      <td>98 Charles St</td>\n      <td>2</td>\n      <td>h</td>\n      <td>1636000.0</td>\n      <td>S</td>\n      <td>Nelson</td>\n      <td>8/10/2016</td>\n      <td>2.5</td>\n      <td>3067.0</td>\n      <td>...</td>\n      <td>1.0</td>\n      <td>2.0</td>\n      <td>256.0</td>\n      <td>107.0</td>\n      <td>1890</td>\n      <td>Yarra City Council</td>\n      <td>-37.8060</td>\n      <td>144.9954</td>\n      <td>Northern Metropolitan</td>\n      <td>4019.0</td>\n    </tr>\n  </tbody>\n</table>\n<p>5 rows × 21 columns</p>\n</div>"
     },
     "execution_count": 412,
     "metadata": {},
     "output_type": "execute_result"
    }
   ],
   "source": [
    "melbourne_df.head()"
   ],
   "metadata": {
    "collapsed": false,
    "pycharm": {
     "name": "#%%\n"
    }
   }
  },
  {
   "cell_type": "markdown",
   "source": [
    "Check if there are sub half-bathrooms"
   ],
   "metadata": {
    "collapsed": false,
    "pycharm": {
     "name": "#%% md\n"
    }
   }
  },
  {
   "cell_type": "markdown",
   "source": [
    "Function to check whether a column containing floats, can actually be converted into column of ints."
   ],
   "metadata": {
    "collapsed": false,
    "pycharm": {
     "name": "#%% md\n"
    }
   }
  },
  {
   "cell_type": "code",
   "execution_count": 413,
   "outputs": [],
   "source": [
    "def is_float_int(arr):\n",
    "    all_int = True\n",
    "    for n in np.unique(arr):\n",
    "        if round(n) != n:\n",
    "            all_int = False\n",
    "            break\n",
    "    if all_int:\n",
    "        arr = arr.astype(int)\n",
    "    return arr\n"
   ],
   "metadata": {
    "collapsed": false,
    "pycharm": {
     "name": "#%%\n"
    }
   }
  },
  {
   "cell_type": "code",
   "execution_count": 414,
   "outputs": [],
   "source": [
    "melbourne_df['Bathroom'] = is_float_int(melbourne_df['Bathroom'].values) # not necessary, changes float to int\n",
    "melbourne_features = ['Rooms', 'Bathroom', 'Landsize', 'Lattitude', 'Longtitude', 'Car']"
   ],
   "metadata": {
    "collapsed": false,
    "pycharm": {
     "name": "#%%\n"
    }
   }
  },
  {
   "cell_type": "code",
   "execution_count": 415,
   "outputs": [],
   "source": [
    "X = melbourne_df[melbourne_features]\n",
    "y = melbourne_df['Price']"
   ],
   "metadata": {
    "collapsed": false,
    "pycharm": {
     "name": "#%%\n"
    }
   }
  },
  {
   "cell_type": "code",
   "execution_count": 416,
   "outputs": [],
   "source": [
    "from sklearn.tree import DecisionTreeRegressor\n",
    "from sklearn.model_selection import train_test_split"
   ],
   "metadata": {
    "collapsed": false,
    "pycharm": {
     "name": "#%%\n"
    }
   }
  },
  {
   "cell_type": "code",
   "execution_count": 417,
   "outputs": [
    {
     "data": {
      "text/plain": "DecisionTreeRegressor(random_state=33)"
     },
     "execution_count": 417,
     "metadata": {},
     "output_type": "execute_result"
    }
   ],
   "source": [
    "melbourne_model = DecisionTreeRegressor(random_state=33)\n",
    "X_train, X_test, y_train, y_test = train_test_split(X, y, random_state=15)\n",
    "melbourne_model.fit(X_train, y_train)"
   ],
   "metadata": {
    "collapsed": false,
    "pycharm": {
     "name": "#%%\n"
    }
   }
  },
  {
   "cell_type": "markdown",
   "source": [
    "Make predictions on first 5 houses"
   ],
   "metadata": {
    "collapsed": false
   }
  },
  {
   "cell_type": "code",
   "execution_count": 418,
   "outputs": [
    {
     "name": "stdout",
     "output_type": "stream",
     "text": [
      "Making predictions of first 5 houses:\n"
     ]
    },
    {
     "data": {
      "text/plain": "       Rooms  Bathroom  Landsize  Lattitude  Longtitude  Car\n27013      4         2     690.0   -37.8451    145.1805  0.0\n3704       3         2     649.0   -37.7794    145.1224  2.0\n1389       3         1     565.0   -37.9262    145.0808  2.0\n12351      5         2     780.0   -37.9173    145.0142  2.0\n9156       2         2     141.0   -37.8389    144.9612  1.0",
      "text/html": "<div>\n<style scoped>\n    .dataframe tbody tr th:only-of-type {\n        vertical-align: middle;\n    }\n\n    .dataframe tbody tr th {\n        vertical-align: top;\n    }\n\n    .dataframe thead th {\n        text-align: right;\n    }\n</style>\n<table border=\"1\" class=\"dataframe\">\n  <thead>\n    <tr style=\"text-align: right;\">\n      <th></th>\n      <th>Rooms</th>\n      <th>Bathroom</th>\n      <th>Landsize</th>\n      <th>Lattitude</th>\n      <th>Longtitude</th>\n      <th>Car</th>\n    </tr>\n  </thead>\n  <tbody>\n    <tr>\n      <th>27013</th>\n      <td>4</td>\n      <td>2</td>\n      <td>690.0</td>\n      <td>-37.8451</td>\n      <td>145.1805</td>\n      <td>0.0</td>\n    </tr>\n    <tr>\n      <th>3704</th>\n      <td>3</td>\n      <td>2</td>\n      <td>649.0</td>\n      <td>-37.7794</td>\n      <td>145.1224</td>\n      <td>2.0</td>\n    </tr>\n    <tr>\n      <th>1389</th>\n      <td>3</td>\n      <td>1</td>\n      <td>565.0</td>\n      <td>-37.9262</td>\n      <td>145.0808</td>\n      <td>2.0</td>\n    </tr>\n    <tr>\n      <th>12351</th>\n      <td>5</td>\n      <td>2</td>\n      <td>780.0</td>\n      <td>-37.9173</td>\n      <td>145.0142</td>\n      <td>2.0</td>\n    </tr>\n    <tr>\n      <th>9156</th>\n      <td>2</td>\n      <td>2</td>\n      <td>141.0</td>\n      <td>-37.8389</td>\n      <td>144.9612</td>\n      <td>1.0</td>\n    </tr>\n  </tbody>\n</table>\n</div>"
     },
     "execution_count": 418,
     "metadata": {},
     "output_type": "execute_result"
    }
   ],
   "source": [
    "print('Making predictions of first 5 houses:')\n",
    "X_test.head()"
   ],
   "metadata": {
    "collapsed": false,
    "pycharm": {
     "name": "#%%\n"
    }
   }
  },
  {
   "cell_type": "code",
   "execution_count": 419,
   "outputs": [
    {
     "name": "stdout",
     "output_type": "stream",
     "text": [
      "Price predictions for the first 5 houses:\n",
      " [1260000. 1300000. 1020000. 2250000. 1920000.]\n",
      "Real prices of first 5 houses:\n",
      " [1120000. 1202000.  885000. 2140000. 2000000.]\n",
      "Differences between the real price and the prediction:\n",
      " [-140000.0, -98000.0, -135000.0, -110000.0, 80000.0]\n"
     ]
    }
   ],
   "source": [
    "predicted_home_prices = melbourne_model.predict(X_test) # predict on DataFrame or 2darray\n",
    "print('Price predictions for the first 5 houses:\\n', predicted_home_prices[:5])\n",
    "print('Real prices of first 5 houses:\\n', y_test[:5].values)\n",
    "print('Differences between the real price and the prediction:\\n',\n",
    "      [diff for diff in y_test[:5] - predicted_home_prices[:5]])"
   ],
   "metadata": {
    "collapsed": false,
    "pycharm": {
     "name": "#%%\n"
    }
   }
  },
  {
   "cell_type": "code",
   "execution_count": 420,
   "outputs": [],
   "source": [
    "from sklearn.metrics import mean_absolute_error"
   ],
   "metadata": {
    "collapsed": false,
    "pycharm": {
     "name": "#%%\n"
    }
   }
  },
  {
   "cell_type": "code",
   "execution_count": 421,
   "outputs": [
    {
     "name": "stdout",
     "output_type": "stream",
     "text": [
      "MAE:\n",
      " 112600.0\n"
     ]
    }
   ],
   "source": [
    "abs_error = mean_absolute_error(y_test[:5], predicted_home_prices[:5])\n",
    "print('MAE:\\n', abs_error)"
   ],
   "metadata": {
    "collapsed": false,
    "pycharm": {
     "name": "#%%\n"
    }
   }
  },
  {
   "cell_type": "markdown",
   "source": [
    "When we divide the houses amongst many leaves, we also have fewer houses in each leaf. Leaves with very few houses will make predictions that are quite close to those homes' actual values, but they may make very unreliable predictions for new data (because each prediction is based on only a few houses).\n",
    "\n",
    "This is a phenomenon called overfitting, where a model matches the training data almost perfectly, but does poorly in validation and other new data. On the flip side, if we make our tree very shallow, it doesn't divide up the houses into very distinct groups.\n",
    "\n",
    "At an extreme, if a tree divides houses into only 2 or 4, each group still has a wide variety of houses. Resulting predictions may be far off for most houses, even in the training data (and it will be bad in validation too for the same reason). When a model fails to capture important distinctions and patterns in the data, so it performs poorly even in training data, that is called underfitting."
   ],
   "metadata": {
    "collapsed": false,
    "pycharm": {
     "name": "#%% md\n"
    }
   }
  },
  {
   "cell_type": "markdown",
   "source": [
    "There are a few alternatives for controlling the tree depth, and many allow for some routes through the tree to have greater depth than other routes. But the max_leaf_nodes argument provides a very sensible way to control overfitting vs underfitting. The more leaves we allow the model to make, the more we move from the underfitting area in the above graph to the overfitting area."
   ],
   "metadata": {
    "collapsed": false,
    "pycharm": {
     "name": "#%% md\n"
    }
   }
  },
  {
   "cell_type": "code",
   "execution_count": 422,
   "outputs": [],
   "source": [
    "def get_MAE(max_leaf_nodes, X_train, X_test, y_train, y_test):\n",
    "    model = DecisionTreeRegressor(\n",
    "        max_leaf_nodes=max_leaf_nodes,\n",
    "        random_state=11\n",
    "    )\n",
    "    model.fit(X_train, y_train)\n",
    "    preds = model.predict(X_test)\n",
    "    mae = mean_absolute_error(y_test, preds)\n",
    "    return mae"
   ],
   "metadata": {
    "collapsed": false,
    "pycharm": {
     "name": "#%%\n"
    }
   }
  },
  {
   "cell_type": "code",
   "execution_count": 444,
   "outputs": [],
   "source": [
    "maes = dict()\n",
    "for i in [5, 50, 500, 5000, 10000]:\n",
    "    maes[i] = get_MAE(i, X_train, X_test, y_train, y_test)"
   ],
   "metadata": {
    "collapsed": false,
    "pycharm": {
     "name": "#%%\n"
    }
   }
  },
  {
   "cell_type": "code",
   "execution_count": 447,
   "outputs": [
    {
     "name": "stdout",
     "output_type": "stream",
     "text": [
      "500\n"
     ]
    }
   ],
   "source": [
    "best_max_leaves = min(maes.items(), key=lambda pair: pair[1])[0]\n",
    "print(best_max_leaves)"
   ],
   "metadata": {
    "collapsed": false,
    "pycharm": {
     "name": "#%%\n"
    }
   }
  },
  {
   "cell_type": "markdown",
   "source": [
    "# Conclusion\n",
    "Here's the takeaway: Models can suffer from either:\n",
    "\n",
    "Overfitting: capturing spurious patterns that won't recur in the future, leading to less accurate predictions, or\n",
    "Underfitting: failing to capture relevant patterns, again leading to less accurate predictions.\n",
    "We use validation data, which isn't used in model training, to measure a candidate model's accuracy. This lets us try many candidate models and keep the best one."
   ],
   "metadata": {
    "collapsed": false,
    "pycharm": {
     "name": "#%% md\n"
    }
   }
  }
 ],
 "metadata": {
  "kernelspec": {
   "display_name": "Python 3",
   "language": "python",
   "name": "python3"
  },
  "language_info": {
   "codemirror_mode": {
    "name": "ipython",
    "version": 2
   },
   "file_extension": ".py",
   "mimetype": "text/x-python",
   "name": "python",
   "nbconvert_exporter": "python",
   "pygments_lexer": "ipython2",
   "version": "2.7.6"
  }
 },
 "nbformat": 4,
 "nbformat_minor": 0
}