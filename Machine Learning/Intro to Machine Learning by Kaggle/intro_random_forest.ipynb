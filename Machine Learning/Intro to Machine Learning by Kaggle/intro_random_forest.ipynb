{
 "cells": [
  {
   "cell_type": "code",
   "execution_count": 39,
   "metadata": {
    "collapsed": true
   },
   "outputs": [],
   "source": [
    "import pandas as pd\n",
    "import numpy as np\n",
    "from matplotlib import pyplot as plt\n",
    "from sklearn.ensemble import RandomForestRegressor\n",
    "from sklearn.metrics import mean_absolute_error\n",
    "from sklearn.model_selection import train_test_split"
   ]
  },
  {
   "cell_type": "code",
   "execution_count": 40,
   "outputs": [],
   "source": [
    "path = 'data/Melbourne_housing_FULL.csv'\n",
    "house_df = pd.read_csv(path)\n",
    "house_df = house_df.dropna(axis=0, how='any')"
   ],
   "metadata": {
    "collapsed": false,
    "pycharm": {
     "name": "#%%\n"
    }
   }
  },
  {
   "cell_type": "code",
   "execution_count": 41,
   "outputs": [
    {
     "name": "stdout",
     "output_type": "stream",
     "text": [
      "Index(['Suburb', 'Address', 'Rooms', 'Type', 'Price', 'Method', 'SellerG',\n",
      "       'Date', 'Distance', 'Postcode', 'Bedroom2', 'Bathroom', 'Car',\n",
      "       'Landsize', 'BuildingArea', 'YearBuilt', 'CouncilArea', 'Lattitude',\n",
      "       'Longtitude', 'Regionname', 'Propertycount'],\n",
      "      dtype='object')\n"
     ]
    }
   ],
   "source": [
    "print(house_df.columns)"
   ],
   "metadata": {
    "collapsed": false,
    "pycharm": {
     "name": "#%%\n"
    }
   }
  },
  {
   "cell_type": "code",
   "execution_count": 42,
   "outputs": [],
   "source": [
    "X = house_df[['Rooms', 'Bathroom', 'Car', 'BuildingArea', 'Lattitude', 'Longtitude']]\n",
    "y = house_df['Price']"
   ],
   "metadata": {
    "collapsed": false,
    "pycharm": {
     "name": "#%%\n"
    }
   }
  },
  {
   "cell_type": "code",
   "execution_count": 43,
   "outputs": [],
   "source": [
    "X_train, X_test, y_train, y_test = train_test_split(X, y, random_state=22)"
   ],
   "metadata": {
    "collapsed": false,
    "pycharm": {
     "name": "#%%\n"
    }
   }
  },
  {
   "cell_type": "code",
   "execution_count": 44,
   "outputs": [],
   "source": [
    "house_model = RandomForestRegressor(random_state=17)\n",
    "house_model.fit(X_train, y_train)\n",
    "preds = house_model.predict(X_test)"
   ],
   "metadata": {
    "collapsed": false,
    "pycharm": {
     "name": "#%%\n"
    }
   }
  },
  {
   "cell_type": "code",
   "execution_count": 45,
   "outputs": [
    {
     "name": "stdout",
     "output_type": "stream",
     "text": [
      "[1154950.   2736650.   1729580.    849740.   1291377.76 1264850.\n",
      "  490278.88  417380.   2419425.    561008.86]\n",
      "[1064000. 2315000. 2200000.  950000. 1160000.  965000.  360000.  380000.\n",
      " 1810000.  563000.]\n"
     ]
    }
   ],
   "source": [
    "print(preds[:10])\n",
    "print(y_test[:10].values)"
   ],
   "metadata": {
    "collapsed": false,
    "pycharm": {
     "name": "#%%\n"
    }
   }
  },
  {
   "cell_type": "code",
   "execution_count": 46,
   "outputs": [
    {
     "name": "stdout",
     "output_type": "stream",
     "text": [
      "197562.29843577213\n"
     ]
    }
   ],
   "source": [
    "mae = mean_absolute_error(y_true=y_test, y_pred=preds)\n",
    "print(mae)"
   ],
   "metadata": {
    "collapsed": false,
    "pycharm": {
     "name": "#%%\n"
    }
   }
  },
  {
   "cell_type": "code",
   "execution_count": 47,
   "outputs": [],
   "source": [
    "from sklearn.model_selection import GridSearchCV"
   ],
   "metadata": {
    "collapsed": false,
    "pycharm": {
     "name": "#%%\n"
    }
   }
  },
  {
   "cell_type": "code",
   "execution_count": 48,
   "outputs": [],
   "source": [
    "param_grid = {\n",
    "    'n_estimators': [75, 100, 150],\n",
    "    'max_depth': [10, 20, 30],\n",
    "    'min_samples_leaf': [3, 5, 7],\n",
    "    'min_samples_split': [5, 10]\n",
    "}"
   ],
   "metadata": {
    "collapsed": false,
    "pycharm": {
     "name": "#%%\n"
    }
   }
  },
  {
   "cell_type": "markdown",
   "source": [
    "# Step 1: Compare Different Parameters\n",
    "You know the best tree size. If you were going to deploy this model in practice, you would make it even more accurate by\n",
    "using all of the data and keeping that tree size. That is, you don't need to hold out the validation data now that you've made all your modeling decisions."
   ],
   "metadata": {
    "collapsed": false,
    "pycharm": {
     "name": "#%% md\n"
    }
   }
  },
  {
   "cell_type": "code",
   "execution_count": 49,
   "outputs": [
    {
     "data": {
      "text/plain": "GridSearchCV(cv=5, estimator=RandomForestRegressor(random_state=17),\n             param_grid={'max_depth': [10, 20, 30],\n                         'min_samples_leaf': [3, 5, 7],\n                         'min_samples_split': [5, 10],\n                         'n_estimators': [75, 100, 150]})"
     },
     "execution_count": 49,
     "metadata": {},
     "output_type": "execute_result"
    }
   ],
   "source": [
    "model_gs = GridSearchCV(\n",
    "    house_model,\n",
    "    param_grid,\n",
    "    cv=5\n",
    ")\n",
    "model_gs.fit(X, y)"
   ],
   "metadata": {
    "collapsed": false,
    "pycharm": {
     "name": "#%%\n"
    }
   }
  },
  {
   "cell_type": "code",
   "execution_count": 50,
   "outputs": [
    {
     "name": "stdout",
     "output_type": "stream",
     "text": [
      "Best parameters for Random Forest Tree: {'max_depth': 20, 'min_samples_leaf': 3, 'min_samples_split': 5, 'n_estimators': 150}\n"
     ]
    }
   ],
   "source": [
    "print('Best parameters for Random Forest Tree:', model_gs.best_params_)\n",
    "best_n_estimators = model_gs.best_params_['n_estimators']\n",
    "best_max_depth = model_gs.best_params_['max_depth']\n",
    "best_min_samples_leaf = model_gs.best_params_['min_samples_leaf']\n",
    "best_min_samples_split = model_gs.best_params_['min_samples_split']"
   ],
   "metadata": {
    "collapsed": false,
    "pycharm": {
     "name": "#%%\n"
    }
   }
  },
  {
   "cell_type": "code",
   "execution_count": 51,
   "outputs": [
    {
     "data": {
      "text/plain": "RandomForestRegressor(min_samples_leaf=3, min_samples_split=8, n_estimators=75,\n                      random_state=17)"
     },
     "execution_count": 51,
     "metadata": {},
     "output_type": "execute_result"
    }
   ],
   "source": [
    "final_model = RandomForestRegressor(\n",
    "    n_estimators=75,\n",
    "    min_samples_leaf=3,\n",
    "    min_samples_split=8,\n",
    "    random_state=17\n",
    ")\n",
    "final_model.fit(X, y)"
   ],
   "metadata": {
    "collapsed": false,
    "pycharm": {
     "name": "#%%\n"
    }
   }
  },
  {
   "cell_type": "code",
   "execution_count": 52,
   "outputs": [
    {
     "name": "stdout",
     "output_type": "stream",
     "text": [
      "121411.13983298182\n",
      "Difference between tuned and default Random Forest Tree is 76151.15860279031\n"
     ]
    }
   ],
   "source": [
    "y_pred = final_model.predict(X)\n",
    "final_mae = mean_absolute_error(y_true=y, y_pred=y_pred)\n",
    "print(\n",
    "    final_mae\n",
    ")\n",
    "print('Difference between tuned and default Random Forest Tree is', mae - final_mae)"
   ],
   "metadata": {
    "collapsed": false,
    "pycharm": {
     "name": "#%%\n"
    }
   }
  }
 ],
 "metadata": {
  "kernelspec": {
   "display_name": "Python 3",
   "language": "python",
   "name": "python3"
  },
  "language_info": {
   "codemirror_mode": {
    "name": "ipython",
    "version": 2
   },
   "file_extension": ".py",
   "mimetype": "text/x-python",
   "name": "python",
   "nbconvert_exporter": "python",
   "pygments_lexer": "ipython2",
   "version": "2.7.6"
  }
 },
 "nbformat": 4,
 "nbformat_minor": 0
}