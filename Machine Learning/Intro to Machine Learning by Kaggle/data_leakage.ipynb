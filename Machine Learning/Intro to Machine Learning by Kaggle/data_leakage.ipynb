{
 "cells": [
  {
   "cell_type": "markdown",
   "metadata": {
    "collapsed": true,
    "pycharm": {
     "name": "#%% md\n"
    }
   },
   "source": [
    "# Data Leakage\n",
    "Data leakage (or leakage) happens when your training data contains information about the target, but similar data will\n",
    "not be available when the model is used for prediction. This leads to high performance on the training set (and\n",
    "possibly even the validation data), but the model will perform poorly in production.\n",
    "\n",
    "In other words, leakage causes a model to look accurate until you start making decisions with the model, and then the\n",
    "model becomes very inaccurate.\n",
    "\n",
    "There are two main types of leakage:\n",
    "\n",
    "    1.  target leakage\n",
    "    2.  train-test contamination.\n"
   ]
  },
  {
   "cell_type": "markdown",
   "source": [
    "# Target Leakage\n",
    "Target leakage occurs when your predictors include data that will not be available at the time you make predictions. It\n",
    "is important to think about target leakage in terms of the timing or chronological order that data becomes available,\n",
    "not merely whether a feature helps to make good predictions.\n",
    "\n",
    "An example will be helpful. Imagine you want to predict who will get sick with pneumonia.\n",
    "\n",
    "The top few rows of your raw data look like this:\n",
    "\n",
    "    got_pneumonia   age weight  male    took_antibiotic_medicine\n",
    "\n",
    "    False\t        65\t 100\t  False\t        False\n",
    "    False\t        72\t 130\t  True\t         False\n",
    "    True\t         58\t 100\t  False\t        True\n",
    "\n",
    "People take antibiotic medicines after getting pneumonia in order to recover. The raw data shows a strong relationship\n",
    "between those columns, but took_antibiotic_medicine is frequently changed after the value for got_pneumonia is\n",
    "determined. This is target leakage.\n",
    "\n",
    "The model would see that anyone who has a value of False for took_antibiotic_medicine didn't have pneumonia. Since\n",
    "validation data comes from the same source as training data, the pattern will repeat itself in validation, and the\n",
    "model will have great validation (or cross-validation) scores.\n",
    "\n",
    "But the model will be very inaccurate when subsequently deployed in the real world, because even patients who will get\n",
    "pneumonia won't have received antibiotics yet when we need to make predictions about their future health.\n",
    "\n",
    "To prevent this type of data leakage, any variable updated (or created) after the target value is realized should be\n",
    "excluded.\n",
    "\n",
    "    Generally: if a feature changes after the change of feature, it is useless and should be excluded:\n",
    "\n",
    "        - You can be sick, but haven't started taking medicines yet - False Negative\n",
    "        - You can take medicines prophylactically, even though you are not infected - False Positive"
   ],
   "metadata": {
    "collapsed": false,
    "pycharm": {
     "name": "#%% md\n"
    }
   }
  },
  {
   "cell_type": "markdown",
   "source": [
    "# Train - Test Contamination\n",
    "A different type of leak occurs when you aren't careful to distinguish training data from validation data.\n",
    "\n",
    "Recall that validation is meant to be a measure of how the model does on data that it hasn't considered before. You can\n",
    "corrupt this process in subtle ways if the validation data affects the preprocessing behavior. This is sometimes called\n",
    "train-test contamination.\n",
    "\n",
    "After all, you incorporated data from the validation or test data into how you make predictions, so the may do well on\n",
    "that particular data even if it can't generalize to new data. This problem becomes even more subtle (and more dangerous)\n",
    "when you do more complex feature engineering.\n",
    "\n",
    "If your validation is based on a simple train-test split, exclude the validation data from any type of fitting,\n",
    "including the fitting of preprocessing steps. This is easier if you use scikit-learn pipelines. When using\n",
    "cross-validation, it's even more critical that you do your preprocessing inside the pipeline!"
   ],
   "metadata": {
    "collapsed": false,
    "pycharm": {
     "name": "#%% md\n"
    }
   }
  },
  {
   "cell_type": "code",
   "execution_count": 73,
   "outputs": [],
   "source": [
    "import pandas as pd\n",
    "import numpy as np"
   ],
   "metadata": {
    "collapsed": false,
    "pycharm": {
     "name": "#%%\n"
    }
   }
  },
  {
   "cell_type": "markdown",
   "source": [
    "Use true_values and false_values, in order to change values 'yes' to True and 'no' to False."
   ],
   "metadata": {
    "collapsed": false,
    "pycharm": {
     "name": "#%% md\n"
    }
   }
  },
  {
   "cell_type": "code",
   "execution_count": 74,
   "outputs": [],
   "source": [
    "card_df = pd.read_csv('data/AER_credit_card_data.csv', true_values=['yes'], false_values=['no'])"
   ],
   "metadata": {
    "collapsed": false,
    "pycharm": {
     "name": "#%%\n"
    }
   }
  },
  {
   "cell_type": "code",
   "execution_count": 75,
   "outputs": [],
   "source": [
    "card_df['age'] = card_df['age'].apply(np.floor).astype(int)"
   ],
   "metadata": {
    "collapsed": false,
    "pycharm": {
     "name": "#%%\n"
    }
   }
  },
  {
   "cell_type": "code",
   "execution_count": 76,
   "outputs": [
    {
     "name": "stdout",
     "output_type": "stream",
     "text": [
      "   card  reports  age  income     share  expenditure  owner  selfemp  \\\n",
      "0  True        0   37  4.5200  0.033270   124.983300   True    False   \n",
      "1  True        0   33  2.4200  0.005217     9.854167  False    False   \n",
      "2  True        0   33  4.5000  0.004156    15.000000   True    False   \n",
      "3  True        0   30  2.5400  0.065214   137.869200  False    False   \n",
      "4  True        0   32  9.7867  0.067051   546.503300   True    False   \n",
      "\n",
      "   dependents  months  majorcards  active  \n",
      "0           3      54           1      12  \n",
      "1           3      34           1      13  \n",
      "2           4      58           1       5  \n",
      "3           0      25           1       7  \n",
      "4           2      64           1       5  \n"
     ]
    }
   ],
   "source": [
    "print(card_df.head())"
   ],
   "metadata": {
    "collapsed": false,
    "pycharm": {
     "name": "#%%\n"
    }
   }
  },
  {
   "cell_type": "code",
   "execution_count": 77,
   "outputs": [],
   "source": [
    "X = card_df.drop('card', axis=1)\n",
    "y = card_df['card']"
   ],
   "metadata": {
    "collapsed": false,
    "pycharm": {
     "name": "#%%\n"
    }
   }
  },
  {
   "cell_type": "code",
   "execution_count": 78,
   "outputs": [
    {
     "name": "stdout",
     "output_type": "stream",
     "text": [
      "Number of rows in the dataset: 1319\n"
     ]
    }
   ],
   "source": [
    "print('Number of rows in the dataset:', X.shape[0])"
   ],
   "metadata": {
    "collapsed": false,
    "pycharm": {
     "name": "#%%\n"
    }
   }
  },
  {
   "cell_type": "markdown",
   "source": [
    "Since the number of rows is 1319, it is considered to be a small set. We will use cross-validation to ensure accurate\n",
    "measures of model accuracy."
   ],
   "metadata": {
    "collapsed": false,
    "pycharm": {
     "name": "#%% md\n"
    }
   }
  },
  {
   "cell_type": "code",
   "execution_count": 79,
   "outputs": [],
   "source": [
    "from sklearn.pipeline import make_pipeline, Pipeline\n",
    "from sklearn.ensemble import RandomForestClassifier\n",
    "from sklearn.model_selection import cross_val_score"
   ],
   "metadata": {
    "collapsed": false,
    "pycharm": {
     "name": "#%%\n"
    }
   }
  },
  {
   "cell_type": "markdown",
   "source": [
    "Since there is no preprocessing in this dataset, there is no need to create a Pipeline\n",
    "    - however we will use it anyway as a better practice!"
   ],
   "metadata": {
    "collapsed": false,
    "pycharm": {
     "name": "#%% md\n"
    }
   }
  },
  {
   "cell_type": "code",
   "execution_count": 80,
   "outputs": [
    {
     "name": "stdout",
     "output_type": "stream",
     "text": [
      "Cross validation accuracy: 0.9795%\n"
     ]
    }
   ],
   "source": [
    "my_pipeline = make_pipeline(RandomForestClassifier(n_estimators=100, random_state=33))\n",
    "cv_scores = cross_val_score(my_pipeline, X, y,\n",
    "                            cv=5,\n",
    "                            scoring='accuracy')\n",
    "print('Cross validation accuracy: {:0.4f}%'.format(cv_scores.mean()))"
   ],
   "metadata": {
    "collapsed": false,
    "pycharm": {
     "name": "#%%\n"
    }
   }
  },
  {
   "cell_type": "markdown",
   "source": [
    "With experience, you'll find that it's very rare to find models that are accurate 98% of the time.\n",
    "\n",
    "It happens, but it's\n",
    "uncommon enough that we should inspect the data more closely for target leakage.\n",
    "\n",
    "Here is a summary of the data, which you can also find under the data tab:\n",
    "\n",
    "    ·   card: 1 if credit card application accepted, 0 if not\n",
    "    ·   reports: Number of major derogatory reports\n",
    "    ·   age: Age n years plus twelfths of a year\n",
    "    ·   income: Yearly income (divided by 10,000)\n",
    "    ·   share: Ratio of monthly credit card expenditure to yearly income\n",
    "    ·   expenditure: Average monthly credit card expenditure\n",
    "    ·   owner: 1 if owns home, 0 if rents\n",
    "    ·   selfempl: 1 if self-employed, 0 if not\n",
    "    ·   dependents: 1 + number of dependents\n",
    "    ·   months: Months living at current address\n",
    "    ·   majorcards: Number of major credit cards held\n",
    "    ·   active: Number of active credit accounts\n",
    "\n",
    "A few variables look suspicious.\n",
    "\n",
    "    For example:\n",
    "    - Does expenditure mean expenditure on this card\n",
    "    or on cards used before appying?\n",
    "\n",
    "At this point, basic data comparisons can be very helpful:"
   ],
   "metadata": {
    "collapsed": false,
    "pycharm": {
     "name": "#%% md\n"
    }
   }
  },
  {
   "cell_type": "code",
   "execution_count": 98,
   "outputs": [],
   "source": [
    "expenditure_cardholders = X.expenditure[y]  # Data for expenditure column, for cardholders.\n",
    "expenditure_non_cardholders = X.expenditure[~y] # Data for expenditure column, for non-cardholders."
   ],
   "metadata": {
    "collapsed": false,
    "pycharm": {
     "name": "#%%\n"
    }
   }
  },
  {
   "cell_type": "code",
   "execution_count": 99,
   "outputs": [
    {
     "name": "stdout",
     "output_type": "stream",
     "text": [
      "Fraction of those, who did not receive a card and had no expenditures: 1.00%\n",
      "Fraction of those, who received a card and had no expenditures: 0.78%\n"
     ]
    }
   ],
   "source": [
    "print('Fraction of those, who did not receive a card and had no expenditures: {:.2f}%'.format(\n",
    "    (expenditure_non_cardholders == 0).mean()\n",
    "))\n",
    "print('Fraction of those, who received a card and had no expenditures: {:.2f}%'.format(\n",
    "    (expenditure_cardholders == 0).mean()\n",
    "))"
   ],
   "metadata": {
    "collapsed": false,
    "pycharm": {
     "name": "#%%\n"
    }
   }
  },
  {
   "cell_type": "markdown",
   "source": [
    "As shown above, everyone who did not receive a card had no expenditures, while only 2% of those who received a card had\n",
    "no expenditures. It's not surprising that our model appeared to have a high accuracy. But this also seems to be a case\n",
    "of target leakage, where expenditures probably means expenditures on the card they applied for.\n",
    "\n",
    "    - No expenditures, because no card was received. That's pretty straightforward. But it was very important to check,\n",
    "    whether by the 'expenditures' the author meant expenditures before or after card application.\n",
    "\n",
    "Because it is straightforward, that there cannot be any expenditures if there is no cardholder, this is a great example\n",
    "of how the Target Leakage looks like - target is predicted on the features, that change after the target is applied.\n",
    "\n",
    "Since share is partially determined by expenditure, it should be excluded too. The variables active and majorcards are a\n",
    "little less clear, but from the description, they sound concerning. In most situations, it's better to be safe than\n",
    "sorry if you can't track down the people who created the data to find out more.\n",
    "\n",
    "We would run a model without target leakage as follows:\n",
    "\n",
    "    - expenditures - it is obvious that non-card holder cannot have any expenditures, causes target leakage\n",
    "    - share - it is ratio of monthly expenditures to yearly income, since shares are independent from expenditures,\n",
    "    they are causing target leakage\n",
    "    - majorcards and active cards - after you become a cardholder, does this card belong to majorcards or not? It\n",
    "    becomes an active card of course, so does this feature treat about previously or currently active cards? In order\n",
    "    be safe, better exclude these two features too."
   ],
   "metadata": {
    "collapsed": false,
    "pycharm": {
     "name": "#%% md\n"
    }
   }
  },
  {
   "cell_type": "code",
   "execution_count": 103,
   "outputs": [],
   "source": [
    "potential_leaks = ['expenditure', 'share', 'majorcards', 'active']\n",
    "new_X = X.drop(columns=potential_leaks, axis=1, inplace=False)"
   ],
   "metadata": {
    "collapsed": false,
    "pycharm": {
     "name": "#%%\n"
    }
   }
  },
  {
   "cell_type": "code",
   "execution_count": 104,
   "outputs": [
    {
     "name": "stdout",
     "output_type": "stream",
     "text": [
      "Cross validation accuracy: 0.8317%\n"
     ]
    }
   ],
   "source": [
    "new_cv_scores = cross_val_score(my_pipeline, new_X, y,\n",
    "                                cv=5,\n",
    "                                scoring='accuracy')\n",
    "print('Cross validation accuracy: {:0.4f}%'.format(new_cv_scores.mean()))"
   ],
   "metadata": {
    "collapsed": false,
    "pycharm": {
     "name": "#%%\n"
    }
   }
  },
  {
   "cell_type": "markdown",
   "source": [
    "# Conclusion\n",
    "Data leakage can be multi-million dollar mistake in many data science applications. Careful separation of training and\n",
    "validation data can prevent train-test contamination, and pipelines can help implement this separation. Likewise, a\n",
    "combination of caution, common sense, and data exploration can help identify target leakage."
   ],
   "metadata": {
    "collapsed": false,
    "pycharm": {
     "name": "#%% md\n"
    }
   }
  },
  {
   "cell_type": "markdown",
   "source": [
    "# 1. The Data Science of Shoelaces\n",
    "Nike has hired you as a data science consultant to help them save money on shoe materials. Your first assignment is to\n",
    "review a model one of their employees built to predict how many shoelaces they'll need each month. The features going\n",
    "into the machine learning model include:\n",
    "\n",
    "    1.  The current month (January, February, etc)\n",
    "    2.  Advertising expenditures in the previous month\n",
    "    3.  Various macroeconomic features (like the unemployment rate) as of the beginning of the current month\n",
    "    4.  The amount of leather they ended up using in the current month\n",
    "\n",
    "The results show the model is almost perfectly accurate if you include the feature about how much leather they used.\n",
    "But it is only moderately accurate if you leave that feature out. You realize this is because the amount of leather\n",
    "they use is a perfect indicator of how many shoes they produce, which in turn tells you how many shoelaces they need.\n",
    "\n",
    "Do you think the leather used feature constitutes a source of data leakage? If your answer is \"it depends,\" what does\n",
    "it depend on?\n",
    "\n",
    "    This is tricky, and it depends on details of how data is collected (which is common when thinking about leakage).\n",
    "    Would you at the beginning of the month decide how much leather will be used that month? If so, this is ok. But if\n",
    "    that is determined during the month, you would not have access to it when you make the prediction. If you have a\n",
    "    guess at the beginning of the month, and it is subsequently changed during the month, the actual amount used during\n",
    "    the month cannot be used as a feature (because it causes leakage).\n",
    "\n",
    "    - You cannot predict how many shoelaces you will need even if you decide how much leather you need to buy at the\n",
    "    beginning of the month - simply the number of purchased shoes may constantly change. The number of shoelaces will\n",
    "    change in parallel to the change of leather. You cannot use the feature, which will change within any change of the\n",
    "    target. It causes a target leakage. You do not have access to the feature during prediction of the target, if both\n",
    "    feature and target change together."
   ],
   "metadata": {
    "collapsed": false,
    "pycharm": {
     "name": "#%% md\n"
    }
   }
  },
  {
   "cell_type": "markdown",
   "source": [
    "# 2. Return of the Shoelaces\n",
    "You have a new idea. You could use the amount of leather Nike ordered (rather than the amount they actually used)\n",
    "leading up to a given month as a predictor in your shoelace model.\n",
    "\n",
    "Does this change your answer about whether there is a leakage problem? If you answer \"it depends,\" what does it depend\n",
    "on?\n",
    "\n",
    "    - This could be fine, but it depends on whether they order shoelaces first or leather first. If they order\n",
    "    shoelaces first, you won't know how much leather they've ordered when you predict their shoelace needs. If they\n",
    "    order leather first, then you'll have that number available when you place your shoelace order, and you should be\n",
    "    ok. But it will only work if the leather stock will be fixed. The shoelaces number will be dependent on the fixed\n",
    "    number of leather, so during the prediction, that feature cannot change - it will not cause leakage.\n",
    "\n",
    "    In general, if the feature cannot change after/during prediction, then it will not cause target leakage."
   ],
   "metadata": {
    "collapsed": false,
    "pycharm": {
     "name": "#%% md\n"
    }
   }
  },
  {
   "cell_type": "markdown",
   "source": [
    "# 3. Getting Rich With Cryptocurrencies?\n",
    "You saved Nike so much money that they gave you a bonus. Congratulations.\n",
    "\n",
    "Your friend, who is also a data scientist, says he has built a model that will let you turn your bonus into millions of\n",
    "dollars. Specifically, his model predicts the price of a new cryptocurrency (like Bitcoin, but a newer one) one day\n",
    "ahead of the moment of prediction. His plan is to purchase the cryptocurrency whenever the model says the price of the\n",
    "currency (in dollars) is about to go up.\n",
    "\n",
    "The most important features in his model are:\n",
    "\n",
    "    1.  Current price of the currency\n",
    "    2.  Amount of the currency sold in the last 24 hours\n",
    "    3.  Change in the currency price in the last 24 hours\n",
    "    4.  Change in the currency price in the last 1 hour\n",
    "    5.  Number of new tweets in the last 24 hours that mention the currency\n",
    "\n",
    "The value of the cryptocurrency in dollars has fluctuated up and down by over 100 𝑖𝑛𝑡ℎ𝑒𝑙𝑎𝑠𝑡𝑦𝑒𝑎𝑟,𝑎𝑛𝑑𝑦𝑒𝑡ℎ𝑖𝑠𝑚𝑜𝑑𝑒𝑙′\n",
    "𝑠𝑎𝑣𝑒𝑟𝑎𝑔𝑒𝑒𝑟𝑟𝑜𝑟𝑖𝑠𝑙𝑒𝑠𝑠𝑡ℎ𝑎𝑛 1. He says this is proof his model is accurate, and you should invest with him, buying the currency\n",
    "whenever the model says it is about to go up.\n",
    "\n",
    "Is he right? If there is a problem with his model, what is it?\n",
    "\n",
    "    - There is no source of leakage here - all of the feature data are gathered in past, there is no option for them to\n",
    "    change during prediction - their values are fixed. These features should be available at the moment you want to\n",
    "    make a predition, and they're unlikely to be changed in the training data after the prediction target is determined.\n",
    "\n",
    "    But, the way he describes accuracy could be misleading if you aren't careful. If the price moves gradually, today's\n",
    "    price will be an accurate predictor of tomorrow's price, but it may not tell you whether it's a good time to invest.\n",
    "\n",
    "    For instance, if it is 100 𝑡𝑜𝑑𝑎𝑦, 𝑎 𝑚𝑜𝑑𝑒𝑙 𝑝𝑟𝑒𝑑𝑖𝑐𝑡𝑖𝑛𝑔 𝑎 𝑝𝑟𝑖𝑐𝑒 𝑜𝑓 100 tomorrow may seem accurate, even if it can't tell you\n",
    "    whether the price is going up or down from the current price - simply it will not show you any further trend.\n",
    "\n",
    "    A better prediction target would be the change in price over the next day. If you can consistently predict whether\n",
    "    the price is about to go up or down (and by how much), you may have a winning investment opportunity."
   ],
   "metadata": {
    "collapsed": false
   }
  },
  {
   "cell_type": "markdown",
   "source": [
    "# 4. Preventing Infections\n",
    "An agency that provides healthcare wants to predict which patients from a rare surgery are at risk of infection, so it\n",
    "can alert the nurses to be especially careful when following up with those patients.\n",
    "\n",
    "You want to build a model. Each row in the modeling dataset will be a single patient who received the surgery, and the\n",
    "prediction target will be whether they got an infection.\n",
    "\n",
    "Some surgeons may do the procedure in a manner that raises or lowers the risk of infection. But how can you best\n",
    "incorporate the surgeon information into the model?\n",
    "\n",
    "You have a clever idea.\n",
    "\n",
    "Take all surgeries by each surgeon and calculate the infection rate among those surgeons.\n",
    "For each patient in the data, find out who the surgeon was and plug in that surgeon's average infection rate as a\n",
    "feature.\n",
    "\n",
    "Does this pose any target leakage issues? Does it pose any train-test contamination issues?\n",
    "\n",
    "    - This poses a risk of both target leakage and train-test contamination (though you may be able to avoid both if\n",
    "    you are careful).\n",
    "\n",
    "    You have target leakage if a given patient's outcome contributes to the infection rate for his surgeon, which is\n",
    "    then plugged back into the prediction model for whether that patient becomes infected. You can avoid target leakage\n",
    "    if you calculate the surgeon's infection rate by using only the surgeries before the patient we are predicting for.\n",
    "    Calculating this for each surgery in your training data may be a little tricky.\n",
    "\n",
    "    You also have a train-test contamination problem if you calculate this using all surgeries a surgeon performed,\n",
    "    including those from the test-set. The result would be that your model could look very accurate on the test set,\n",
    "    even if it wouldn't generalize well to new patients after the model is deployed. This would happen because the\n",
    "    surgeon-risk feature accounts for data in the test set. Test sets exist to estimate how the model will do when\n",
    "    seeing new data. So this contamination defeats the purpose of the test set."
   ],
   "metadata": {
    "collapsed": false,
    "pycharm": {
     "name": "#%% md\n"
    }
   }
  },
  {
   "cell_type": "markdown",
   "source": [
    "# 5. Housing Prices\n",
    "You will build a model to predict housing prices. The model will be deployed on an ongoing basis, to predict the price\n",
    "of a new house when a description is added to a website. Here are four features that could be used as predictors.\n",
    "\n",
    "    1.  Size of the house (in square meters)\n",
    "    2.  Average sales price of homes in the same neighborhood\n",
    "    3.  Latitude and longitude of the house\n",
    "    4.  Whether the house has a basement\n",
    "\n",
    "You have historic data to train and validate the model.\n",
    "\n",
    "Which of the features is most likely to be a source of leakage?\n",
    "\n",
    "    - 2 is the source of target leakage. Here is an analysis for each feature:\n",
    "\n",
    "    1.  The size of a house is unlikely to be changed after it is sold (though technically it's possible). But\n",
    "    typically this will be available when we need to make a prediction, and the data won't be modified after the home\n",
    "    is sold. So it is pretty safe.\n",
    "\n",
    "    2.  We don't know the rules for when this is updated. If the field is updated in the raw data after a home was sold,\n",
    "    and the home's sale is used to calculate the average, this constitutes a case of target leakage. At an extreme, if\n",
    "    only one home is sold in the neighborhood, and it is the home we are trying to predict, then the average will be\n",
    "    exactly equal to the value we are trying to predict. In general, for neighborhoods with few sales, the model will\n",
    "    perform very well on the training data. But when you apply the model, the home you are predicting won't have been\n",
    "    sold yet, so this feature won't work the same as it did in the training data.\n",
    "\n",
    "    3.  These don't change, and will be available at the time we want to make a prediction. So there's no risk of target\n",
    "    leakage here.\n",
    "\n",
    "    4.  This also doesn't change, and it is available at the time we want to make a prediction. So there's no risk of\n",
    "    target leakage here."
   ],
   "metadata": {
    "collapsed": false,
    "pycharm": {
     "name": "#%% md\n"
    }
   }
  },
  {
   "cell_type": "markdown",
   "source": [
    "# Conclusions v2:\n",
    "    - Target Leakage will occur if the feature can change after or during making the prediction. In case of data that\n",
    "    happened before the predictions, usually we say about fixed price at specific time interval, there is no risk of\n",
    "    target leakage. If a single feature directly changes the target at anytime and both feature and target are highly\n",
    "    dependent at any time, moreover the value of the feature is not fixed and can change at anytime - target leakage is\n",
    "    inevitable. For example, if you use number of sold smartphones as a feature to predict number of sold headphones,\n",
    "    you will experience target leakage, because anytime number of sold smarphones changes during prediction, the target\n",
    "    changes. Thus there is a leak of target. You could avoid this problem, if you use data from fixed time interval.\n",
    "\n",
    "    - Train - Test Contamination - occurs if you validate your model using the data, that was used during preprocessing\n",
    "    or training. If you train the model on specific data and then you validate its accuracy using same information, the\n",
    "    accuracy will be greatly higher than the real one. For example, if you predict whether the surgeon got infected,\n",
    "    using the same patient in training and validation set, you are experiencing train - test contamination. You could\n",
    "    avoid this problem, if you used data that your model hasn't seen before for validation purposes.\n"
   ],
   "metadata": {
    "collapsed": false,
    "pycharm": {
     "name": "#%% md\n"
    }
   }
  }
 ],
 "metadata": {
  "kernelspec": {
   "display_name": "Python 3",
   "language": "python",
   "name": "python3"
  },
  "language_info": {
   "codemirror_mode": {
    "name": "ipython",
    "version": 2
   },
   "file_extension": ".py",
   "mimetype": "text/x-python",
   "name": "python",
   "nbconvert_exporter": "python",
   "pygments_lexer": "ipython2",
   "version": "2.7.6"
  }
 },
 "nbformat": 4,
 "nbformat_minor": 0
}