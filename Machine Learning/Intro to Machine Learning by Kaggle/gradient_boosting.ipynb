{
 "cells": [
  {
   "cell_type": "markdown",
   "metadata": {
    "collapsed": true,
    "pycharm": {
     "name": "#%% md\n"
    }
   },
   "source": [
    "# Gradient Boosting\n",
    "Gradient boosting is a method that goes through cycles to iteratively add models into an ensemble.\n",
    "\n",
    "It begins by initializing the ensemble with a single model, whose predictions can be pretty naive. (Even if its\n",
    "predictions are wildly inaccurate, subsequent additions to the ensemble will address those errors.)\n",
    "\n",
    "Then, we start the cycle:\n",
    "\n",
    "    1.  First, we use the current ensemble to generate predictions for each observation in the dataset. To make a\n",
    "    prediction, we add the predictions from all models in the ensemble.\n",
    "    2.  These predictions are used to calculate a loss function (like mean squared error, for instance).\n",
    "    3.  Then, we use the loss function to fit a new model that will be added to the ensemble. Specifically, we\n",
    "    determine model parameters so that adding this new model to the ensemble will reduce the loss.\n",
    "\n",
    "    (Side note: The \"gradient\" in \"gradient boosting\" refers to the fact that we'll use gradient descent on the loss\n",
    "    function to determine the parameters in the new model.)\n",
    "\n",
    "    Finally, we add the new model to ensemble, and ...\n",
    "    ... repeat!\n",
    "\n",
    "XGBoost stands for extreme gradient boosting, which is an implementation of gradient boosting with several additional\n",
    "features focused on performance and speed.\n",
    "\n",
    "(Scikit-learn has another version of gradient boosting, but XGBoost has some\n",
    "technical advantages.)"
   ]
  },
  {
   "cell_type": "code",
   "execution_count": 367,
   "outputs": [],
   "source": [
    "import pandas as pd\n",
    "from pandas.api.types import is_numeric_dtype\n",
    "from sklearn.model_selection import train_test_split, cross_val_score\n",
    "from xgboost import XGBRegressor\n",
    "from sklearn.impute import SimpleImputer\n",
    "from sklearn.preprocessing import OneHotEncoder\n",
    "from sklearn.pipeline import Pipeline\n",
    "from sklearn.compose import ColumnTransformer\n",
    "from sklearn.metrics import mean_absolute_error\n",
    "from sklearn.model_selection import cross_val_score"
   ],
   "metadata": {
    "collapsed": false,
    "pycharm": {
     "name": "#%%\n"
    }
   }
  },
  {
   "cell_type": "code",
   "execution_count": 368,
   "outputs": [],
   "source": [
    "df = pd.read_csv('data/Melbourne_housing_FULL.csv')\n",
    "df.dropna(axis=0, subset=['Price'], inplace=True)"
   ],
   "metadata": {
    "collapsed": false,
    "pycharm": {
     "name": "#%%\n"
    }
   }
  },
  {
   "cell_type": "code",
   "execution_count": 369,
   "outputs": [],
   "source": [
    "X_full = df.drop(columns='Price', axis=1, inplace=False)"
   ],
   "metadata": {
    "collapsed": false,
    "pycharm": {
     "name": "#%%\n"
    }
   }
  },
  {
   "cell_type": "code",
   "execution_count": 370,
   "outputs": [],
   "source": [
    "numerical_columns = [col for col in X_full.columns if is_numeric_dtype(X_full[col])]\n",
    "categorical_columns = [col for col in X_full.columns if not is_numeric_dtype(X_full[col])]\n",
    "low_cardinality_columns = [col for col in X_full[categorical_columns].columns if X_full[col].nunique() <= 15]\n",
    "feature_columns = numerical_columns + categorical_columns\n",
    "target_column = 'Price'"
   ],
   "metadata": {
    "collapsed": false,
    "pycharm": {
     "name": "#%%\n"
    }
   }
  },
  {
   "cell_type": "code",
   "execution_count": 371,
   "outputs": [],
   "source": [
    "X = X_full[feature_columns]\n",
    "y = df[target_column]"
   ],
   "metadata": {
    "collapsed": false,
    "pycharm": {
     "name": "#%%\n"
    }
   }
  },
  {
   "cell_type": "code",
   "execution_count": 372,
   "outputs": [],
   "source": [
    "numerical_transformer = SimpleImputer(strategy='constant')\n",
    "categorical_transformer = Pipeline(\n",
    "    steps=[\n",
    "        ('imputer', SimpleImputer(strategy='most_frequent')),\n",
    "        ('one_hot_encoder', OneHotEncoder(handle_unknown='ignore', sparse=False))\n",
    "    ]\n",
    ")\n",
    "preprocessor = ColumnTransformer(\n",
    "    transformers=[\n",
    "        ('numerical', numerical_transformer, numerical_columns),\n",
    "        ('categorical', categorical_transformer, low_cardinality_columns)\n",
    "    ]\n",
    ")"
   ],
   "metadata": {
    "collapsed": false,
    "pycharm": {
     "name": "#%%\n"
    }
   }
  },
  {
   "cell_type": "code",
   "execution_count": 373,
   "outputs": [],
   "source": [
    "my_pipeline = Pipeline(\n",
    "    steps=[\n",
    "        ('preprocessor', preprocessor),\n",
    "        ('model', XGBRegressor(n_estimators=1000, learning_rate=0.01, n_jobs=-1))\n",
    "    ]\n",
    ")"
   ],
   "metadata": {
    "collapsed": false,
    "pycharm": {
     "name": "#%%\n"
    }
   }
  },
  {
   "cell_type": "code",
   "execution_count": 374,
   "outputs": [
    {
     "name": "stdout",
     "output_type": "stream",
     "text": [
      "[13:31:52] WARNING: src/objective/regression_obj.cu:152: reg:linear is now deprecated in favor of reg:squarederror.\n"
     ]
    },
    {
     "data": {
      "text/plain": "Pipeline(steps=[('preprocessor',\n                 ColumnTransformer(transformers=[('numerical',\n                                                  SimpleImputer(strategy='constant'),\n                                                  ['Rooms', 'Distance',\n                                                   'Postcode', 'Bedroom2',\n                                                   'Bathroom', 'Car',\n                                                   'Landsize', 'BuildingArea',\n                                                   'YearBuilt', 'Lattitude',\n                                                   'Longtitude',\n                                                   'Propertycount']),\n                                                 ('categorical',\n                                                  Pipeline(steps=[('imputer',\n                                                                   SimpleImputer(strategy='most_frequent')),\n                                                                  ('one_hot_encoder',\n                                                                   OneHotEncoder(handle_unknown='ignore',\n                                                                                 sparse=False))]),\n                                                  ['Type', 'Method',\n                                                   'Regionname'])])),\n                ('model',\n                 XGBRegressor(learning_rate=0.01, n_estimators=1000,\n                              n_jobs=-1))])"
     },
     "execution_count": 374,
     "metadata": {},
     "output_type": "execute_result"
    }
   ],
   "source": [
    "my_pipeline.fit(X, y)"
   ],
   "metadata": {
    "collapsed": false,
    "pycharm": {
     "name": "#%%\n"
    }
   }
  },
  {
   "cell_type": "code",
   "execution_count": 375,
   "outputs": [],
   "source": [
    "y_pred = my_pipeline.predict(X)"
   ],
   "metadata": {
    "collapsed": false,
    "pycharm": {
     "name": "#%%\n"
    }
   }
  },
  {
   "cell_type": "code",
   "execution_count": 376,
   "outputs": [
    {
     "name": "stdout",
     "output_type": "stream",
     "text": [
      "Mean absolute error using Pipeline on full X, y sets:\n",
      " 189114.38746352808\n"
     ]
    }
   ],
   "source": [
    "score = mean_absolute_error(y, y_pred)\n",
    "print('Mean absolute error using Pipeline on full X, y sets:\\n', score)"
   ],
   "metadata": {
    "collapsed": false,
    "pycharm": {
     "name": "#%%\n"
    }
   }
  },
  {
   "cell_type": "code",
   "execution_count": 377,
   "outputs": [
    {
     "name": "stdout",
     "output_type": "stream",
     "text": [
      "[13:32:00] WARNING: src/objective/regression_obj.cu:152: reg:linear is now deprecated in favor of reg:squarederror.\n",
      "[13:32:08] WARNING: src/objective/regression_obj.cu:152: reg:linear is now deprecated in favor of reg:squarederror.\n",
      "[13:32:16] WARNING: src/objective/regression_obj.cu:152: reg:linear is now deprecated in favor of reg:squarederror.\n",
      "[13:32:23] WARNING: src/objective/regression_obj.cu:152: reg:linear is now deprecated in favor of reg:squarederror.\n",
      "[13:32:35] WARNING: src/objective/regression_obj.cu:152: reg:linear is now deprecated in favor of reg:squarederror.\n"
     ]
    }
   ],
   "source": [
    "scores_KFold = (-1) * cross_val_score(\n",
    "    estimator=my_pipeline,\n",
    "    X=X,\n",
    "    y=y,\n",
    "    cv=5,\n",
    "    scoring='neg_mean_absolute_error'\n",
    ")"
   ],
   "metadata": {
    "collapsed": false,
    "pycharm": {
     "name": "#%%\n"
    }
   }
  },
  {
   "cell_type": "code",
   "execution_count": 378,
   "outputs": [
    {
     "name": "stdout",
     "output_type": "stream",
     "text": [
      "Mean absolute error using Cross-validation:\n",
      " 198830.23666186456\n"
     ]
    }
   ],
   "source": [
    "print('Mean absolute error using Cross-validation:\\n', scores_KFold.mean())"
   ],
   "metadata": {
    "collapsed": false,
    "pycharm": {
     "name": "#%%\n"
    }
   }
  },
  {
   "cell_type": "code",
   "execution_count": 379,
   "outputs": [],
   "source": [
    "X_train, X_test, y_train, y_test = train_test_split(X, y, random_state=22)"
   ],
   "metadata": {
    "collapsed": false,
    "pycharm": {
     "name": "#%%\n"
    }
   }
  },
  {
   "cell_type": "code",
   "execution_count": 380,
   "outputs": [],
   "source": [
    "num_imputer = SimpleImputer(strategy='constant')\n",
    "cat_imputer = SimpleImputer(strategy='most_frequent')\n",
    "oh_encoder = OneHotEncoder(handle_unknown='ignore', sparse=False)"
   ],
   "metadata": {
    "collapsed": false,
    "pycharm": {
     "name": "#%%\n"
    }
   }
  },
  {
   "cell_type": "code",
   "execution_count": 381,
   "outputs": [],
   "source": [
    "imputed_num_X_train = pd.DataFrame(\n",
    "    num_imputer.fit_transform(X_train[numerical_columns]),\n",
    "    columns=numerical_columns)\n",
    "\n",
    "imputed_cat_X_train = pd.DataFrame(\n",
    "    cat_imputer.fit_transform(X_train[low_cardinality_columns]),\n",
    "    columns=low_cardinality_columns)\n",
    "\n",
    "oh_train_cols = pd.DataFrame(\n",
    "    oh_encoder.fit_transform(imputed_cat_X_train),\n",
    "    index=imputed_cat_X_train.index)"
   ],
   "metadata": {
    "collapsed": false,
    "pycharm": {
     "name": "#%%\n"
    }
   }
  },
  {
   "cell_type": "code",
   "execution_count": 382,
   "outputs": [],
   "source": [
    "imputed_num_X_test = pd.DataFrame(\n",
    "    num_imputer.transform(X_test[numerical_columns]),\n",
    "    columns=numerical_columns)\n",
    "\n",
    "imputed_cat_X_test = pd.DataFrame(\n",
    "    cat_imputer.transform(X_test[low_cardinality_columns]),\n",
    "    columns=low_cardinality_columns\n",
    ")\n",
    "\n",
    "oh_test_cols = pd.DataFrame(\n",
    "    oh_encoder.transform(imputed_cat_X_test),\n",
    "    index=imputed_cat_X_test.index)"
   ],
   "metadata": {
    "collapsed": false,
    "pycharm": {
     "name": "#%%\n"
    }
   }
  },
  {
   "cell_type": "code",
   "execution_count": 383,
   "outputs": [],
   "source": [
    "preprocessed_X_train = pd.concat([imputed_num_X_train, oh_train_cols], axis=1)\n",
    "preprocessed_X_test = pd.concat([imputed_num_X_test, oh_test_cols], axis=1)"
   ],
   "metadata": {
    "collapsed": false,
    "pycharm": {
     "name": "#%%\n"
    }
   }
  },
  {
   "cell_type": "code",
   "execution_count": 384,
   "outputs": [],
   "source": [
    "xgboost_model = XGBRegressor()"
   ],
   "metadata": {
    "collapsed": false,
    "pycharm": {
     "name": "#%%\n"
    }
   }
  },
  {
   "cell_type": "code",
   "execution_count": 385,
   "outputs": [
    {
     "name": "stdout",
     "output_type": "stream",
     "text": [
      "[13:32:49] WARNING: src/objective/regression_obj.cu:152: reg:linear is now deprecated in favor of reg:squarederror.\n"
     ]
    }
   ],
   "source": [
    "xgboost_model.fit(preprocessed_X_train, y_train)\n",
    "new_y_pred = xgboost_model.predict(preprocessed_X_test)"
   ],
   "metadata": {
    "collapsed": false,
    "pycharm": {
     "name": "#%%\n"
    }
   }
  },
  {
   "cell_type": "code",
   "execution_count": 386,
   "outputs": [
    {
     "name": "stdout",
     "output_type": "stream",
     "text": [
      "Mean Absolute Error without Pipeline, single epoch:\n",
      " 193102.73758165736\n"
     ]
    }
   ],
   "source": [
    "new_score = mean_absolute_error(y_test, new_y_pred)\n",
    "print('Mean Absolute Error without Pipeline, single epoch:\\n', new_score)"
   ],
   "metadata": {
    "collapsed": false,
    "pycharm": {
     "name": "#%%\n"
    }
   }
  },
  {
   "cell_type": "markdown",
   "source": [
    "# Parameter Tuning\n",
    "· n_estimators\n",
    "\n",
    "    specifies how many times to go through the modeling cycle described above. It is equal to the number of models that\n",
    "    we include in the ensemble.\n",
    "\n",
    "    - Too low value causes underfitting, which leads to inaccurate predictions on both training data and test data.\n",
    "    - Too high value causes overfitting, which causes accurate predictions on training data, but inaccurate predictions\n",
    "    on test data (which is what we care about).\n",
    "\n",
    "    Typical values range from 100-1000, though this depends a lot on the learning_rate parameter discussed below.\n",
    "\n",
    "        model = XGBRegressor(n_estimators=500)\n",
    "        model.fit(X_train, y_train)"
   ],
   "metadata": {
    "collapsed": false,
    "pycharm": {
     "name": "#%% md\n"
    }
   }
  },
  {
   "cell_type": "markdown",
   "source": [
    "· early_stopping_rounds\n",
    "\n",
    "    early_stopping_rounds offers a way to automatically find the ideal value for n_estimators. Early stopping causes\n",
    "    the model to stop iterating when the validation score stops improving, even if we aren't at the hard stop for\n",
    "    n_estimators.\n",
    "\n",
    "    It's smart to set a high value for n_estimators and then use early_stopping_rounds to find the optimal time to stop\n",
    "    iterating.\n",
    "\n",
    "    Since random chance sometimes causes a single round where validation scores don't improve, you need to specify a\n",
    "    number for how many rounds of straight deterioration to allow before stopping. Setting early_stopping_rounds=5 is a\n",
    "    reasonable choice. In this case, we stop after 5 straight rounds of deteriorating validation scores.\n",
    "\n",
    "    When using early_stopping_rounds, you also need to set aside some data for calculating the validation scores - this\n",
    "    is done by setting the eval_set parameter.\n",
    "\n",
    "        model = XGBRegressor(n_estimators=500)\n",
    "        model.fit(X_train, y_train,\n",
    "                  early_stopping_rounds=5,\n",
    "                  eval_set=[(X_test, y_test)],\n",
    "                  verbose=False)"
   ],
   "metadata": {
    "collapsed": false,
    "pycharm": {
     "name": "#%% md\n"
    }
   }
  },
  {
   "cell_type": "markdown",
   "source": [
    "· learning_rate\n",
    "\n",
    "    Instead of getting predictions by simply adding up the predictions from each component model, we can multiply the\n",
    "    predictions from each model by a small number (known as the learning rate) before adding them in.\n",
    "\n",
    "    This means each tree we add to the ensemble helps us less. So, we can set a higher value for n_estimators without\n",
    "    overfitting. If we use early stopping, the appropriate number of trees will be determined automatically.\n",
    "\n",
    "    In general, a small learning rate and large number of estimators will yield more accurate XGBoost models, though it\n",
    "    will also take the model longer to train since it does more iterations through the cycle. As default, XGBoost sets\n",
    "    learning_rate=0.1.\n",
    "\n",
    "        model = XGBRegressor(n_estimators=1000, learning_rate=0.01)\n",
    "        model.fit(X_train, y_test,\n",
    "                  early_stopping_rounds=5,\n",
    "                  eval_set=[(X_test, y_test)],\n",
    "                  verbose=False)"
   ],
   "metadata": {
    "collapsed": false,
    "pycharm": {
     "name": "#%% md\n"
    }
   }
  },
  {
   "cell_type": "markdown",
   "source": [
    "· n_jobs\n",
    "\n",
    "    On larger datasets where runtime is a consideration, you can use parallelism to build your models faster. It's\n",
    "    common to set the parameter n_jobs equal to the number of cores on your machine. On smaller datasets, this won't\n",
    "    help.\n",
    "\n",
    "    The resulting model won't be any better, so micro-optimizing for fitting time is typically nothing but a\n",
    "    distraction. But, it's useful in large datasets where you would otherwise spend a long time waiting during the fit\n",
    "    command.\n",
    "\n",
    "        model = XGBRegressor(n_estimators=1000, learning_rate=0.01, n_jobs=4)\n",
    "        model.fit(X_train, y_train,\n",
    "                  early_stopping_rounds=5,\n",
    "                  eval_set=[(X_test, y_test)],\n",
    "                  verbose=False)"
   ],
   "metadata": {
    "collapsed": false,
    "pycharm": {
     "name": "#%% md\n"
    }
   }
  },
  {
   "cell_type": "markdown",
   "source": [
    "# Conclusions\n",
    "XGBoost is a the leading software library for working with standard tabular data (the type of data you store in Pandas\n",
    "DataFrames, as opposed to more exotic types of data like images and videos). With careful parameter tuning, you can\n",
    "train highly accurate models.\n"
   ],
   "metadata": {
    "collapsed": false,
    "pycharm": {
     "name": "#%% md\n"
    }
   }
  },
  {
   "cell_type": "code",
   "execution_count": 387,
   "outputs": [],
   "source": [
    "xgb_model = XGBRegressor(n_estimators=1000, learning_rate=0.1, n_jobs=4)"
   ],
   "metadata": {
    "collapsed": false,
    "pycharm": {
     "name": "#%%\n"
    }
   }
  },
  {
   "cell_type": "code",
   "execution_count": 388,
   "outputs": [
    {
     "name": "stdout",
     "output_type": "stream",
     "text": [
      "[13:32:52] WARNING: src/objective/regression_obj.cu:152: reg:linear is now deprecated in favor of reg:squarederror.\n"
     ]
    },
    {
     "data": {
      "text/plain": "XGBRegressor(n_estimators=1000, n_jobs=4)"
     },
     "execution_count": 388,
     "metadata": {},
     "output_type": "execute_result"
    }
   ],
   "source": [
    "xgb_model.fit(preprocessed_X_train, y_train,\n",
    "              early_stopping_rounds=5,\n",
    "              eval_set=[(preprocessed_X_test, y_test)],\n",
    "              verbose=False)"
   ],
   "metadata": {
    "collapsed": false,
    "pycharm": {
     "name": "#%%\n"
    }
   }
  },
  {
   "cell_type": "code",
   "execution_count": 389,
   "outputs": [],
   "source": [
    "xgb_preds = xgb_model.predict(preprocessed_X_test)"
   ],
   "metadata": {
    "collapsed": false,
    "pycharm": {
     "name": "#%%\n"
    }
   }
  },
  {
   "cell_type": "code",
   "execution_count": 391,
   "outputs": [
    {
     "name": "stdout",
     "output_type": "stream",
     "text": [
      "Score for XGBRegressor:\n",
      " 184049.9769386744\n"
     ]
    }
   ],
   "source": [
    "xgb_score = mean_absolute_error(y_test, xgb_preds)\n",
    "print('Score for XGBRegressor:\\n', xgb_score)"
   ],
   "metadata": {
    "collapsed": false,
    "pycharm": {
     "name": "#%%\n"
    }
   }
  },
  {
   "cell_type": "code",
   "execution_count": 390,
   "outputs": [],
   "source": [],
   "metadata": {
    "collapsed": false,
    "pycharm": {
     "name": "#%%\n"
    }
   }
  }
 ],
 "metadata": {
  "kernelspec": {
   "display_name": "Python 3",
   "language": "python",
   "name": "python3"
  },
  "language_info": {
   "codemirror_mode": {
    "name": "ipython",
    "version": 2
   },
   "file_extension": ".py",
   "mimetype": "text/x-python",
   "name": "python",
   "nbconvert_exporter": "python",
   "pygments_lexer": "ipython2",
   "version": "2.7.6"
  }
 },
 "nbformat": 4,
 "nbformat_minor": 0
}