{
 "cells": [
  {
   "cell_type": "markdown",
   "metadata": {
    "collapsed": true,
    "pycharm": {
     "name": "#%% md\n"
    }
   },
   "source": [
    "# What is Cross-validation?\n",
    "In cross-validation, we run our modeling process on different subsets of the data to get multiple measures of model\n",
    "quality.\n",
    "\n",
    "For example, we could begin by dividing the data into 5 pieces, each 20% of the full dataset. In this case, we say that\n",
    "we have broken the data into 5 \"folds\".\n",
    "\n",
    "Then, we run one experiment for each fold:\n",
    "\n",
    "    1.  In Experiment 1, we use the first fold as a validation (or holdout) set and everything else as training data. This\n",
    "    gives us a measure of model quality based on a 20% holdout set.\n",
    "\n",
    "    2.  In Experiment 2, we hold out data from the second fold (and use everything except the second fold for training the\n",
    "    model). The holdout set is then used to get a second estimate of model quality.\n",
    "\n",
    "    3.  We repeat this process, using every fold once as the holdout set. Putting this together, 100% of the data is used as\n",
    "    holdout at some point, and we end up with a measure of model quality that is based on all of the rows in the dataset\n",
    "    (even if we don't use all rows simultaneously)."
   ]
  },
  {
   "cell_type": "markdown",
   "source": [
    "# When should we use Cross-validation?\n",
    "Cross-validation gives a more accurate measure of model quality, which is especially important if you are making a lot\n",
    "of modeling decisions. However, it can take longer to run, because it estimates multiple models (one for each fold).\n",
    "\n",
    "Given these tradeoffs, when should we use the Cross-validation?\n",
    "\n",
    "    1.  For small datasets, where extra computational burden isn't a big deal, you should run cross-validation.\n",
    "    2.  For larger datasets, a single validation set is sufficient. Your code will run faster, and you may have enough\n",
    "    data, thus there's little need to re-use some of it to holdout.\n",
    "\n",
    "There is no simple threshold for what we call small or large dataset. But if your model takes a couple minutes or less\n",
    "to run, it's probably worth switching to cross-validation.\n",
    "\n",
    "Alternatively, you can run cross-validation and see if the scores for each experiment seem close. If each experiment\n",
    "yields similar results, a single validation set it probably sufficient."
   ],
   "metadata": {
    "collapsed": false,
    "pycharm": {
     "name": "#%% md\n"
    }
   }
  },
  {
   "cell_type": "markdown",
   "source": [
    "we define a pipeline that uses an imputer to fill in missing values and a random forest model to make predictions.\n",
    "\n",
    "While it's possible to do cross-validation without pipelines, it is quite difficult! Using a pipeline will make the\n",
    "code remarkably straightforward."
   ],
   "metadata": {
    "collapsed": false,
    "pycharm": {
     "name": "#%% md\n"
    }
   }
  },
  {
   "cell_type": "code",
   "execution_count": 57,
   "outputs": [],
   "source": [
    "import pandas as pd\n",
    "from sklearn.model_selection import train_test_split, cross_val_score\n",
    "from sklearn.ensemble import RandomForestRegressor\n",
    "from sklearn.impute import SimpleImputer\n",
    "from sklearn.preprocessing import OneHotEncoder\n",
    "from sklearn.pipeline import Pipeline\n",
    "from pandas.api.types import is_numeric_dtype\n",
    "from sklearn.compose import ColumnTransformer"
   ],
   "metadata": {
    "collapsed": false,
    "pycharm": {
     "name": "#%%\n"
    }
   }
  },
  {
   "cell_type": "code",
   "execution_count": 58,
   "outputs": [],
   "source": [
    "data = pd.read_csv('data/Melbourne_housing_FULL.csv')"
   ],
   "metadata": {
    "collapsed": false,
    "pycharm": {
     "name": "#%%\n"
    }
   }
  },
  {
   "cell_type": "code",
   "execution_count": 59,
   "outputs": [],
   "source": [
    "data.dropna(axis=0, subset=['Price'], inplace=True)"
   ],
   "metadata": {
    "collapsed": false,
    "pycharm": {
     "name": "#%%\n"
    }
   }
  },
  {
   "cell_type": "code",
   "execution_count": 60,
   "outputs": [],
   "source": [
    "X_full = data.drop(columns=['Price'], axis=1, inplace=False)"
   ],
   "metadata": {
    "collapsed": false,
    "pycharm": {
     "name": "#%%\n"
    }
   }
  },
  {
   "cell_type": "code",
   "execution_count": 61,
   "outputs": [],
   "source": [
    "numerical_columns = [col for col in X_full.columns if is_numeric_dtype(X_full[col])]\n",
    "categorical_data = [col for col in X_full.columns if not is_numeric_dtype(X_full[col])]\n",
    "low_cardinality_columns = [col for col in X_full[categorical_data].columns if X_full[col].nunique() <= 15]\n",
    "feature_columns = numerical_columns + low_cardinality_columns"
   ],
   "metadata": {
    "collapsed": false,
    "pycharm": {
     "name": "#%%\n"
    }
   }
  },
  {
   "cell_type": "code",
   "execution_count": 62,
   "outputs": [],
   "source": [
    "X = X_full[feature_columns]\n",
    "y = data['Price']\n",
    "my_model = RandomForestRegressor(n_estimators=100, random_state=11)"
   ],
   "metadata": {
    "collapsed": false,
    "pycharm": {
     "name": "#%%\n"
    }
   }
  },
  {
   "cell_type": "code",
   "execution_count": 63,
   "outputs": [],
   "source": [
    "numerical_transformer = SimpleImputer(strategy='constant')"
   ],
   "metadata": {
    "collapsed": false,
    "pycharm": {
     "name": "#%%\n"
    }
   }
  },
  {
   "cell_type": "markdown",
   "source": [
    "Remember, imputer is used also with the categorical data!"
   ],
   "metadata": {
    "collapsed": false,
    "pycharm": {
     "name": "#%% md\n"
    }
   }
  },
  {
   "cell_type": "code",
   "execution_count": 64,
   "outputs": [],
   "source": [
    "categorical_transformer = Pipeline(\n",
    "    steps=[\n",
    "        ('imputer', SimpleImputer(strategy='most_frequent')),\n",
    "        ('one_hot_encoder', OneHotEncoder(handle_unknown='ignore'))\n",
    "    ]\n",
    ")"
   ],
   "metadata": {
    "collapsed": false,
    "pycharm": {
     "name": "#%%\n"
    }
   }
  },
  {
   "cell_type": "code",
   "execution_count": 65,
   "outputs": [],
   "source": [
    "preprocessor = ColumnTransformer(\n",
    "    transformers=[\n",
    "        ('numerical', numerical_transformer, numerical_columns),\n",
    "        ('categorical', categorical_transformer, low_cardinality_columns)\n",
    "    ]\n",
    ")\n",
    "\n"
   ],
   "metadata": {
    "collapsed": false,
    "pycharm": {
     "name": "#%%\n"
    }
   }
  },
  {
   "cell_type": "code",
   "execution_count": 66,
   "outputs": [],
   "source": [
    "my_pipeline = Pipeline(\n",
    "    steps=[\n",
    "        ('preprocessor', preprocessor),\n",
    "        ('model', my_model)\n",
    "    ]\n",
    ")"
   ],
   "metadata": {
    "collapsed": false,
    "pycharm": {
     "name": "#%%\n"
    }
   }
  },
  {
   "cell_type": "code",
   "execution_count": 67,
   "outputs": [],
   "source": [
    "scores = (-1) * cross_val_score(\n",
    "    estimator=my_pipeline,\n",
    "    X=X,\n",
    "    y=y,\n",
    "    cv=5,\n",
    "    scoring='neg_mean_absolute_error'\n",
    ")"
   ],
   "metadata": {
    "collapsed": false,
    "pycharm": {
     "name": "#%%\n"
    }
   }
  },
  {
   "cell_type": "code",
   "execution_count": 68,
   "outputs": [
    {
     "name": "stdout",
     "output_type": "stream",
     "text": [
      "Mean Absolute Error scores for 5 cross-validations:\n",
      " [227326.65577777 186191.33448151 159232.2382077  167166.26433012\n",
      " 163272.05000634]\n"
     ]
    }
   ],
   "source": [
    "print('Mean Absolute Error scores for 5 cross-validations:\\n', scores)"
   ],
   "metadata": {
    "collapsed": false,
    "pycharm": {
     "name": "#%%\n"
    }
   }
  },
  {
   "cell_type": "code",
   "execution_count": 69,
   "outputs": [
    {
     "name": "stdout",
     "output_type": "stream",
     "text": [
      "Average Mean Absolute Error score across 5 cross-validations:\n",
      " 180637.7085606867\n"
     ]
    }
   ],
   "source": [
    "avg_mae = scores.mean()\n",
    "print('Average Mean Absolute Error score across 5 cross-validations:\\n', avg_mae)"
   ],
   "metadata": {
    "collapsed": false,
    "pycharm": {
     "name": "#%%\n"
    }
   }
  },
  {
   "cell_type": "code",
   "execution_count": 70,
   "outputs": [
    {
     "name": "stdout",
     "output_type": "stream",
     "text": [
      "Minimum Mean Absolute Error score across 5 cross-validations:\n",
      " 159232.238207698\n"
     ]
    }
   ],
   "source": [
    "min_mae = scores.min()\n",
    "print('Minimum Mean Absolute Error score across 5 cross-validations:\\n', min_mae)"
   ],
   "metadata": {
    "collapsed": false,
    "pycharm": {
     "name": "#%%\n"
    }
   }
  },
  {
   "cell_type": "code",
   "execution_count": 71,
   "outputs": [],
   "source": [
    "def get_score(n_estimators):\n",
    "\n",
    "    pipeline = Pipeline(\n",
    "    steps=[\n",
    "        ('preprocessor', preprocessor),\n",
    "        ('model', RandomForestRegressor(n_estimators=n_estimators, random_state=11))\n",
    "    ])\n",
    "\n",
    "    nmae_scores = (-1) * cross_val_score(\n",
    "        estimator=pipeline,\n",
    "        X=X,\n",
    "        y=y,\n",
    "        cv=5,\n",
    "        scoring='neg_mean_absolute_error'\n",
    "    )\n",
    "\n",
    "    return nmae_scores.mean()"
   ],
   "metadata": {
    "collapsed": false,
    "pycharm": {
     "name": "#%%\n"
    }
   }
  },
  {
   "cell_type": "code",
   "execution_count": 72,
   "outputs": [],
   "source": [
    "different_n_estimators = [i for i in range(50, 401, 50)]\n",
    "scores_for_n_estimators = dict()"
   ],
   "metadata": {
    "collapsed": false,
    "pycharm": {
     "name": "#%%\n"
    }
   }
  },
  {
   "cell_type": "code",
   "execution_count": 73,
   "outputs": [],
   "source": [
    "for n_estimators in different_n_estimators:\n",
    "    scores_for_n_estimators[n_estimators] = get_score(n_estimators)"
   ],
   "metadata": {
    "collapsed": false,
    "pycharm": {
     "name": "#%%\n"
    }
   }
  },
  {
   "cell_type": "code",
   "execution_count": 74,
   "outputs": [
    {
     "name": "stdout",
     "output_type": "stream",
     "text": [
      "{50: 181464.3368395975, 100: 180637.7085606867, 150: 180343.20882696073, 200: 180235.63432694203, 250: 179942.51481215618, 300: 179819.3634718268, 350: 179695.06084327225, 400: 179688.63764178238}\n"
     ]
    }
   ],
   "source": [
    "print(scores_for_n_estimators)"
   ],
   "metadata": {
    "collapsed": false,
    "pycharm": {
     "name": "#%%\n"
    }
   }
  },
  {
   "cell_type": "code",
   "execution_count": 76,
   "outputs": [],
   "source": [
    "best_n_estimators = min(scores_for_n_estimators, key=scores_for_n_estimators.get)"
   ],
   "metadata": {
    "collapsed": false,
    "pycharm": {
     "name": "#%%\n"
    }
   }
  },
  {
   "cell_type": "code",
   "execution_count": 77,
   "outputs": [
    {
     "name": "stdout",
     "output_type": "stream",
     "text": [
      "Best Mean Absolute Error: 179688.63764178238\n",
      "was obtained using 400\n"
     ]
    }
   ],
   "source": [
    "print(f'Best Mean Absolute Error: {scores_for_n_estimators[best_n_estimators]}\\n'\n",
    "      f'was obtained using {best_n_estimators}')"
   ],
   "metadata": {
    "collapsed": false,
    "pycharm": {
     "name": "#%%\n"
    }
   }
  },
  {
   "cell_type": "code",
   "execution_count": 78,
   "outputs": [],
   "source": [
    "import matplotlib\n",
    "from matplotlib import pyplot as plt"
   ],
   "metadata": {
    "collapsed": false,
    "pycharm": {
     "name": "#%%\n"
    }
   }
  },
  {
   "cell_type": "code",
   "execution_count": 80,
   "outputs": [
    {
     "data": {
      "text/plain": "<Figure size 720x360 with 1 Axes>",
      "image/png": "[encoded data removed]"
     },
     "metadata": {
      "needs_background": "light"
     },
     "output_type": "display_data"
    }
   ],
   "source": [
    "plt.figure(figsize=(10, 5))\n",
    "plt.plot(\n",
    "    scores_for_n_estimators.keys(),\n",
    "    scores_for_n_estimators.values(),\n",
    "    label='Mean Absolute Error'\n",
    ")\n",
    "plt.xlabel('n_estimators'), plt.ylabel('MAE')\n",
    "plt.legend()\n",
    "plt.show()"
   ],
   "metadata": {
    "collapsed": false,
    "pycharm": {
     "name": "#%%\n"
    }
   }
  }
 ],
 "metadata": {
  "kernelspec": {
   "display_name": "Python 3",
   "language": "python",
   "name": "python3"
  },
  "language_info": {
   "codemirror_mode": {
    "name": "ipython",
    "version": 2
   },
   "file_extension": ".py",
   "mimetype": "text/x-python",
   "name": "python",
   "nbconvert_exporter": "python",
   "pygments_lexer": "ipython2",
   "version": "2.7.6"
  }
 },
 "nbformat": 4,
 "nbformat_minor": 0
}