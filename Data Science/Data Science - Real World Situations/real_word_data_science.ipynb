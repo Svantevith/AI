{
 "cells": [
  {
   "cell_type": "markdown",
   "metadata": {
    "collapsed": true,
    "pycharm": {
     "name": "#%% md\n"
    }
   },
   "source": [
    "# Sales Analysis"
   ]
  },
  {
   "cell_type": "code",
   "execution_count": 34,
   "outputs": [],
   "source": [
    "import matplotlib\n",
    "import pandas as pd\n",
    "import os\n",
    "from matplotlib import pyplot as plt"
   ],
   "metadata": {
    "collapsed": false,
    "pycharm": {
     "name": "#%%\n"
    }
   }
  },
  {
   "cell_type": "markdown",
   "source": [
    "# Task 1: Merge the 12 months of sales into a single CSV files"
   ],
   "metadata": {
    "collapsed": false
   }
  },
  {
   "cell_type": "code",
   "execution_count": 35,
   "outputs": [],
   "source": [
    "df = pd.read_csv('data/sales_data/Sales_April_2019.csv')"
   ],
   "metadata": {
    "collapsed": false,
    "pycharm": {
     "name": "#%%\n"
    }
   }
  },
  {
   "cell_type": "code",
   "execution_count": 36,
   "outputs": [
    {
     "data": {
      "text/plain": "  Order ID                     Product Quantity Ordered Price Each  \\\n0   176558        USB-C Charging Cable                2      11.95   \n1      NaN                         NaN              NaN        NaN   \n2   176559  Bose SoundSport Headphones                1      99.99   \n3   176560                Google Phone                1        600   \n4   176560            Wired Headphones                1      11.99   \n\n       Order Date                      Purchase Address  \n0  04/19/19 08:46          917 1st St, Dallas, TX 75001  \n1             NaN                                   NaN  \n2  04/07/19 22:30     682 Chestnut St, Boston, MA 02215  \n3  04/12/19 14:38  669 Spruce St, Los Angeles, CA 90001  \n4  04/12/19 14:38  669 Spruce St, Los Angeles, CA 90001  ",
      "text/html": "<div>\n<style scoped>\n    .dataframe tbody tr th:only-of-type {\n        vertical-align: middle;\n    }\n\n    .dataframe tbody tr th {\n        vertical-align: top;\n    }\n\n    .dataframe thead th {\n        text-align: right;\n    }\n</style>\n<table border=\"1\" class=\"dataframe\">\n  <thead>\n    <tr style=\"text-align: right;\">\n      <th></th>\n      <th>Order ID</th>\n      <th>Product</th>\n      <th>Quantity Ordered</th>\n      <th>Price Each</th>\n      <th>Order Date</th>\n      <th>Purchase Address</th>\n    </tr>\n  </thead>\n  <tbody>\n    <tr>\n      <th>0</th>\n      <td>176558</td>\n      <td>USB-C Charging Cable</td>\n      <td>2</td>\n      <td>11.95</td>\n      <td>04/19/19 08:46</td>\n      <td>917 1st St, Dallas, TX 75001</td>\n    </tr>\n    <tr>\n      <th>1</th>\n      <td>NaN</td>\n      <td>NaN</td>\n      <td>NaN</td>\n      <td>NaN</td>\n      <td>NaN</td>\n      <td>NaN</td>\n    </tr>\n    <tr>\n      <th>2</th>\n      <td>176559</td>\n      <td>Bose SoundSport Headphones</td>\n      <td>1</td>\n      <td>99.99</td>\n      <td>04/07/19 22:30</td>\n      <td>682 Chestnut St, Boston, MA 02215</td>\n    </tr>\n    <tr>\n      <th>3</th>\n      <td>176560</td>\n      <td>Google Phone</td>\n      <td>1</td>\n      <td>600</td>\n      <td>04/12/19 14:38</td>\n      <td>669 Spruce St, Los Angeles, CA 90001</td>\n    </tr>\n    <tr>\n      <th>4</th>\n      <td>176560</td>\n      <td>Wired Headphones</td>\n      <td>1</td>\n      <td>11.99</td>\n      <td>04/12/19 14:38</td>\n      <td>669 Spruce St, Los Angeles, CA 90001</td>\n    </tr>\n  </tbody>\n</table>\n</div>"
     },
     "execution_count": 36,
     "metadata": {},
     "output_type": "execute_result"
    }
   ],
   "source": [
    "df.head()"
   ],
   "metadata": {
    "collapsed": false,
    "pycharm": {
     "name": "#%%\n"
    }
   }
  },
  {
   "cell_type": "code",
   "execution_count": 37,
   "outputs": [],
   "source": [
    "all_months_df = pd.DataFrame()\n",
    "files_list = [filename for filename in os.listdir('data/sales_data')]\n",
    "\n",
    "for filename in files_list:\n",
    "    temp_df = pd.read_csv('data/sales_data/' + filename)\n",
    "    all_months_df = pd.concat(\n",
    "        objs=[all_months_df, temp_df],\n",
    "        axis=0,\n",
    "    )"
   ],
   "metadata": {
    "collapsed": false,
    "pycharm": {
     "name": "#%%\n"
    }
   }
  },
  {
   "cell_type": "code",
   "execution_count": 38,
   "outputs": [
    {
     "data": {
      "text/plain": "  Order ID                     Product Quantity Ordered Price Each  \\\n0   176558        USB-C Charging Cable                2      11.95   \n1      NaN                         NaN              NaN        NaN   \n2   176559  Bose SoundSport Headphones                1      99.99   \n3   176560                Google Phone                1        600   \n4   176560            Wired Headphones                1      11.99   \n\n       Order Date                      Purchase Address  \n0  04/19/19 08:46          917 1st St, Dallas, TX 75001  \n1             NaN                                   NaN  \n2  04/07/19 22:30     682 Chestnut St, Boston, MA 02215  \n3  04/12/19 14:38  669 Spruce St, Los Angeles, CA 90001  \n4  04/12/19 14:38  669 Spruce St, Los Angeles, CA 90001  ",
      "text/html": "<div>\n<style scoped>\n    .dataframe tbody tr th:only-of-type {\n        vertical-align: middle;\n    }\n\n    .dataframe tbody tr th {\n        vertical-align: top;\n    }\n\n    .dataframe thead th {\n        text-align: right;\n    }\n</style>\n<table border=\"1\" class=\"dataframe\">\n  <thead>\n    <tr style=\"text-align: right;\">\n      <th></th>\n      <th>Order ID</th>\n      <th>Product</th>\n      <th>Quantity Ordered</th>\n      <th>Price Each</th>\n      <th>Order Date</th>\n      <th>Purchase Address</th>\n    </tr>\n  </thead>\n  <tbody>\n    <tr>\n      <th>0</th>\n      <td>176558</td>\n      <td>USB-C Charging Cable</td>\n      <td>2</td>\n      <td>11.95</td>\n      <td>04/19/19 08:46</td>\n      <td>917 1st St, Dallas, TX 75001</td>\n    </tr>\n    <tr>\n      <th>1</th>\n      <td>NaN</td>\n      <td>NaN</td>\n      <td>NaN</td>\n      <td>NaN</td>\n      <td>NaN</td>\n      <td>NaN</td>\n    </tr>\n    <tr>\n      <th>2</th>\n      <td>176559</td>\n      <td>Bose SoundSport Headphones</td>\n      <td>1</td>\n      <td>99.99</td>\n      <td>04/07/19 22:30</td>\n      <td>682 Chestnut St, Boston, MA 02215</td>\n    </tr>\n    <tr>\n      <th>3</th>\n      <td>176560</td>\n      <td>Google Phone</td>\n      <td>1</td>\n      <td>600</td>\n      <td>04/12/19 14:38</td>\n      <td>669 Spruce St, Los Angeles, CA 90001</td>\n    </tr>\n    <tr>\n      <th>4</th>\n      <td>176560</td>\n      <td>Wired Headphones</td>\n      <td>1</td>\n      <td>11.99</td>\n      <td>04/12/19 14:38</td>\n      <td>669 Spruce St, Los Angeles, CA 90001</td>\n    </tr>\n  </tbody>\n</table>\n</div>"
     },
     "execution_count": 38,
     "metadata": {},
     "output_type": "execute_result"
    }
   ],
   "source": [
    "all_months_df.head()"
   ],
   "metadata": {
    "collapsed": false,
    "pycharm": {
     "name": "#%%\n"
    }
   }
  },
  {
   "cell_type": "markdown",
   "source": [
    "# Clean up the dataframe, delete all NaN's"
   ],
   "metadata": {
    "collapsed": false
   }
  },
  {
   "cell_type": "code",
   "execution_count": 39,
   "outputs": [],
   "source": [
    "all_months_df = all_months_df.dropna(how='all')"
   ],
   "metadata": {
    "collapsed": false,
    "pycharm": {
     "name": "#%%\n"
    }
   }
  },
  {
   "cell_type": "markdown",
   "source": [
    "# Save the all data dataframe to csv"
   ],
   "metadata": {
    "collapsed": false,
    "pycharm": {
     "name": "#%% md\n"
    }
   }
  },
  {
   "cell_type": "code",
   "execution_count": 40,
   "outputs": [],
   "source": [
    "all_months_df.to_csv('data/output/all_months_data.csv', index=False)"
   ],
   "metadata": {
    "collapsed": false,
    "pycharm": {
     "name": "#%%\n"
    }
   }
  },
  {
   "cell_type": "markdown",
   "source": [
    "# Augment data with additional columns"
   ],
   "metadata": {
    "collapsed": false,
    "pycharm": {
     "name": "#%% md\n"
    }
   }
  },
  {
   "cell_type": "markdown",
   "source": [
    "# Task 2: Add month column"
   ],
   "metadata": {
    "collapsed": false,
    "pycharm": {
     "name": "#%% md\n"
    }
   }
  },
  {
   "cell_type": "code",
   "execution_count": 41,
   "outputs": [
    {
     "data": {
      "text/plain": "0    04/19/19 08:46\n2    04/07/19 22:30\n3    04/12/19 14:38\n4    04/12/19 14:38\n5    04/30/19 09:27\nName: Order Date, dtype: object"
     },
     "execution_count": 41,
     "metadata": {},
     "output_type": "execute_result"
    }
   ],
   "source": [
    "all_months_df['Order Date'].head()"
   ],
   "metadata": {
    "collapsed": false,
    "pycharm": {
     "name": "#%%\n"
    }
   }
  },
  {
   "cell_type": "code",
   "execution_count": 42,
   "outputs": [],
   "source": [
    "all_months_df['Order Date'] = all_months_df['Order Date'].astype('str')"
   ],
   "metadata": {
    "collapsed": false,
    "pycharm": {
     "name": "#%%\n"
    }
   }
  },
  {
   "cell_type": "code",
   "execution_count": 43,
   "outputs": [
    {
     "name": "stdout",
     "output_type": "stream",
     "text": [
      "Int64Index([  519,  1149,  1155,  2878,  2893,  3036,  3209,  3618,  4138,\n",
      "             4645,\n",
      "            ...\n",
      "             8644,  9325,  9502,  9615,  9954, 10000, 10387, 11399, 11468,\n",
      "            11574],\n",
      "           dtype='int64', length=355)\n"
     ]
    }
   ],
   "source": [
    "indices = all_months_df[all_months_df['Order Date'] == 'Order Date'].index\n",
    "print(\n",
    "    indices\n",
    ")"
   ],
   "metadata": {
    "collapsed": false,
    "pycharm": {
     "name": "#%%\n"
    }
   }
  },
  {
   "cell_type": "markdown",
   "source": [
    "# Task 3: Drop all rows with date='Order Date' (not datetime format)"
   ],
   "metadata": {
    "collapsed": false,
    "pycharm": {
     "name": "#%% md\n"
    }
   }
  },
  {
   "cell_type": "code",
   "execution_count": 44,
   "outputs": [],
   "source": [
    "all_months_df = all_months_df.drop(indices)"
   ],
   "metadata": {
    "collapsed": false,
    "pycharm": {
     "name": "#%%\n"
    }
   }
  },
  {
   "cell_type": "code",
   "execution_count": 45,
   "outputs": [],
   "source": [
    "all_months_df['Month'] = pd.DatetimeIndex(all_months_df['Order Date']).month"
   ],
   "metadata": {
    "collapsed": false,
    "pycharm": {
     "name": "#%%\n"
    }
   }
  },
  {
   "cell_type": "code",
   "execution_count": 46,
   "outputs": [
    {
     "name": "stdout",
     "output_type": "stream",
     "text": [
      "  Order ID                     Product Quantity Ordered Price Each  \\\n",
      "0   176558        USB-C Charging Cable                2      11.95   \n",
      "2   176559  Bose SoundSport Headphones                1      99.99   \n",
      "3   176560                Google Phone                1        600   \n",
      "4   176560            Wired Headphones                1      11.99   \n",
      "5   176561            Wired Headphones                1      11.99   \n",
      "\n",
      "       Order Date                      Purchase Address  Month  \n",
      "0  04/19/19 08:46          917 1st St, Dallas, TX 75001      4  \n",
      "2  04/07/19 22:30     682 Chestnut St, Boston, MA 02215      4  \n",
      "3  04/12/19 14:38  669 Spruce St, Los Angeles, CA 90001      4  \n",
      "4  04/12/19 14:38  669 Spruce St, Los Angeles, CA 90001      4  \n",
      "5  04/30/19 09:27     333 8th St, Los Angeles, CA 90001      4  \n"
     ]
    }
   ],
   "source": [
    "print(all_months_df.iloc[:5])"
   ],
   "metadata": {
    "collapsed": false,
    "pycharm": {
     "name": "#%%\n"
    }
   }
  },
  {
   "cell_type": "code",
   "execution_count": 47,
   "outputs": [
    {
     "name": "stdout",
     "output_type": "stream",
     "text": [
      "int64\n"
     ]
    }
   ],
   "source": [
    "print(all_months_df['Month'].dtypes)"
   ],
   "metadata": {
    "collapsed": false,
    "pycharm": {
     "name": "#%%\n"
    }
   }
  },
  {
   "cell_type": "markdown",
   "source": [
    "# Task 4: Add a sales column"
   ],
   "metadata": {
    "collapsed": false,
    "pycharm": {
     "name": "#%% md\n"
    }
   }
  },
  {
   "cell_type": "code",
   "execution_count": 48,
   "outputs": [],
   "source": [
    "all_months_df['Quantity Ordered'] = pd.to_numeric(all_months_df['Quantity Ordered']) # convert to int\n",
    "all_months_df['Price Each'] = pd.to_numeric(all_months_df['Price Each'])"
   ],
   "metadata": {
    "collapsed": false,
    "pycharm": {
     "name": "#%%\n"
    }
   }
  },
  {
   "cell_type": "code",
   "execution_count": 49,
   "outputs": [],
   "source": [
    "all_months_df['Sales'] = all_months_df['Quantity Ordered'] * all_months_df['Price Each']"
   ],
   "metadata": {
    "collapsed": false,
    "pycharm": {
     "name": "#%%\n"
    }
   }
  },
  {
   "cell_type": "code",
   "execution_count": 50,
   "outputs": [
    {
     "data": {
      "text/plain": "  Order ID                     Product  Quantity Ordered  Price Each  \\\n0   176558        USB-C Charging Cable                 2       11.95   \n2   176559  Bose SoundSport Headphones                 1       99.99   \n3   176560                Google Phone                 1      600.00   \n4   176560            Wired Headphones                 1       11.99   \n5   176561            Wired Headphones                 1       11.99   \n\n       Order Date                      Purchase Address  Month   Sales  \n0  04/19/19 08:46          917 1st St, Dallas, TX 75001      4   23.90  \n2  04/07/19 22:30     682 Chestnut St, Boston, MA 02215      4   99.99  \n3  04/12/19 14:38  669 Spruce St, Los Angeles, CA 90001      4  600.00  \n4  04/12/19 14:38  669 Spruce St, Los Angeles, CA 90001      4   11.99  \n5  04/30/19 09:27     333 8th St, Los Angeles, CA 90001      4   11.99  ",
      "text/html": "<div>\n<style scoped>\n    .dataframe tbody tr th:only-of-type {\n        vertical-align: middle;\n    }\n\n    .dataframe tbody tr th {\n        vertical-align: top;\n    }\n\n    .dataframe thead th {\n        text-align: right;\n    }\n</style>\n<table border=\"1\" class=\"dataframe\">\n  <thead>\n    <tr style=\"text-align: right;\">\n      <th></th>\n      <th>Order ID</th>\n      <th>Product</th>\n      <th>Quantity Ordered</th>\n      <th>Price Each</th>\n      <th>Order Date</th>\n      <th>Purchase Address</th>\n      <th>Month</th>\n      <th>Sales</th>\n    </tr>\n  </thead>\n  <tbody>\n    <tr>\n      <th>0</th>\n      <td>176558</td>\n      <td>USB-C Charging Cable</td>\n      <td>2</td>\n      <td>11.95</td>\n      <td>04/19/19 08:46</td>\n      <td>917 1st St, Dallas, TX 75001</td>\n      <td>4</td>\n      <td>23.90</td>\n    </tr>\n    <tr>\n      <th>2</th>\n      <td>176559</td>\n      <td>Bose SoundSport Headphones</td>\n      <td>1</td>\n      <td>99.99</td>\n      <td>04/07/19 22:30</td>\n      <td>682 Chestnut St, Boston, MA 02215</td>\n      <td>4</td>\n      <td>99.99</td>\n    </tr>\n    <tr>\n      <th>3</th>\n      <td>176560</td>\n      <td>Google Phone</td>\n      <td>1</td>\n      <td>600.00</td>\n      <td>04/12/19 14:38</td>\n      <td>669 Spruce St, Los Angeles, CA 90001</td>\n      <td>4</td>\n      <td>600.00</td>\n    </tr>\n    <tr>\n      <th>4</th>\n      <td>176560</td>\n      <td>Wired Headphones</td>\n      <td>1</td>\n      <td>11.99</td>\n      <td>04/12/19 14:38</td>\n      <td>669 Spruce St, Los Angeles, CA 90001</td>\n      <td>4</td>\n      <td>11.99</td>\n    </tr>\n    <tr>\n      <th>5</th>\n      <td>176561</td>\n      <td>Wired Headphones</td>\n      <td>1</td>\n      <td>11.99</td>\n      <td>04/30/19 09:27</td>\n      <td>333 8th St, Los Angeles, CA 90001</td>\n      <td>4</td>\n      <td>11.99</td>\n    </tr>\n  </tbody>\n</table>\n</div>"
     },
     "execution_count": 50,
     "metadata": {},
     "output_type": "execute_result"
    }
   ],
   "source": [
    "all_months_df.head()"
   ],
   "metadata": {
    "collapsed": false,
    "pycharm": {
     "name": "#%%\n"
    }
   }
  },
  {
   "cell_type": "markdown",
   "source": [
    "# Question 1: What was the best month for sales? How much was earned that month?"
   ],
   "metadata": {
    "collapsed": false
   }
  },
  {
   "cell_type": "markdown",
   "source": [
    "In order to see the sales for each month, we need to group the DataFrame and sum the parameters during a single month."
   ],
   "metadata": {
    "collapsed": false,
    "pycharm": {
     "name": "#%% md\n"
    }
   }
  },
  {
   "cell_type": "code",
   "execution_count": 51,
   "outputs": [
    {
     "name": "stdout",
     "output_type": "stream",
     "text": [
      "              Sales\n",
      "Month              \n",
      "1      1.786511e+06\n",
      "2      2.158127e+06\n",
      "3      2.755969e+06\n",
      "4      3.336376e+06\n",
      "5      3.101881e+06\n",
      "6      2.524465e+06\n",
      "7      2.587445e+06\n",
      "8      2.191698e+06\n",
      "9      2.050361e+06\n",
      "10     3.679254e+06\n",
      "11     3.149785e+06\n",
      "12     4.557905e+06\n"
     ]
    }
   ],
   "source": [
    "monthly = all_months_df[['Month', 'Sales']].groupby('Month').sum()\n",
    "print(monthly)"
   ],
   "metadata": {
    "collapsed": false,
    "pycharm": {
     "name": "#%%\n"
    }
   }
  },
  {
   "cell_type": "markdown",
   "source": [
    "Best month for sales"
   ],
   "metadata": {
    "collapsed": false,
    "pycharm": {
     "name": "#%% md\n"
    }
   }
  },
  {
   "cell_type": "code",
   "execution_count": 52,
   "outputs": [
    {
     "name": "stdout",
     "output_type": "stream",
     "text": [
      "Best month for sales is: 12\n",
      "Revenue for 12 is 4557905.42 USD[$]\n"
     ]
    }
   ],
   "source": [
    "best_month_index = monthly['Sales'].argmax()\n",
    "print('Best month for sales is:', monthly.iloc[best_month_index].name)\n",
    "print(f'Revenue for {best_month_index + 1} is {round(monthly.iloc[best_month_index, 0], 2)} USD[$]')"
   ],
   "metadata": {
    "collapsed": false,
    "pycharm": {
     "name": "#%%\n"
    }
   }
  },
  {
   "cell_type": "code",
   "execution_count": 53,
   "outputs": [
    {
     "data": {
      "text/plain": "<Figure size 432x288 with 1 Axes>",
      "image/png": "[encoded data removed]"
     },
     "metadata": {
      "needs_background": "light"
     },
     "output_type": "display_data"
    }
   ],
   "source": [
    "months = list(monthly.index)\n",
    "plt.bar(\n",
    "    x=months,\n",
    "    height=monthly['Sales'],\n",
    ")\n",
    "plt.xticks(months)\n",
    "plt.xlabel('Month'), plt.ylabel('Sales in USD [$]')\n",
    "plt.show()"
   ],
   "metadata": {
    "collapsed": false,
    "pycharm": {
     "name": "#%%\n"
    }
   }
  },
  {
   "cell_type": "code",
   "execution_count": 54,
   "outputs": [
    {
     "data": {
      "text/plain": "<Figure size 432x288 with 1 Axes>",
      "image/png": "[encoded data removed]"
     },
     "metadata": {
      "needs_background": "light"
     },
     "output_type": "display_data"
    }
   ],
   "source": [
    "monthly.plot()\n",
    "plt.show()"
   ],
   "metadata": {
    "collapsed": false,
    "pycharm": {
     "name": "#%%\n"
    }
   }
  },
  {
   "cell_type": "markdown",
   "source": [
    "# Task 5: Add a city column"
   ],
   "metadata": {
    "collapsed": false,
    "pycharm": {
     "name": "#%% md\n"
    }
   }
  },
  {
   "cell_type": "markdown",
   "source": [
    "Use the DataFrame apply(condition)."
   ],
   "metadata": {
    "collapsed": false,
    "pycharm": {
     "name": "#%% md\n"
    }
   }
  },
  {
   "cell_type": "code",
   "execution_count": 55,
   "outputs": [],
   "source": [
    "def get_city(address: str) -> str:\n",
    "    return address.split(',')[1].strip()"
   ],
   "metadata": {
    "collapsed": false,
    "pycharm": {
     "name": "#%%\n"
    }
   }
  },
  {
   "cell_type": "code",
   "execution_count": 56,
   "outputs": [],
   "source": [
    "def get_state(address: str) -> str:\n",
    "    postal = address.split(',')[2]\n",
    "    return postal.split()[0]"
   ],
   "metadata": {
    "collapsed": false,
    "pycharm": {
     "name": "#%%\n"
    }
   }
  },
  {
   "cell_type": "code",
   "execution_count": 57,
   "outputs": [],
   "source": [
    "all_months_df['City'] = all_months_df['Purchase Address']\\\n",
    "    .apply(lambda address: f'{get_city(address)} ({get_state(address)})')"
   ],
   "metadata": {
    "collapsed": false,
    "pycharm": {
     "name": "#%%\n"
    }
   }
  },
  {
   "cell_type": "code",
   "execution_count": 58,
   "outputs": [
    {
     "data": {
      "text/plain": "0               Dallas (TX)\n2               Boston (MA)\n3          Los Angeles (CA)\n4          Los Angeles (CA)\n5          Los Angeles (CA)\n                ...        \n11681      Los Angeles (CA)\n11682    San Francisco (CA)\n11683    San Francisco (CA)\n11684    San Francisco (CA)\n11685    San Francisco (CA)\nName: City, Length: 182735, dtype: object"
     },
     "execution_count": 58,
     "metadata": {},
     "output_type": "execute_result"
    }
   ],
   "source": [
    "all_months_df['City']"
   ],
   "metadata": {
    "collapsed": false,
    "pycharm": {
     "name": "#%%\n"
    }
   }
  },
  {
   "cell_type": "markdown",
   "source": [
    "# Task 6: Add a State column"
   ],
   "metadata": {
    "collapsed": false,
    "pycharm": {
     "name": "#%% md\n"
    }
   }
  },
  {
   "cell_type": "markdown",
   "source": [
    "# What city had the highest number of sales?"
   ],
   "metadata": {
    "collapsed": false,
    "pycharm": {
     "name": "#%% md\n"
    }
   }
  },
  {
   "cell_type": "code",
   "execution_count": 59,
   "outputs": [],
   "source": [
    "by_city = all_months_df[['City', 'Sales']].groupby('City').sum()"
   ],
   "metadata": {
    "collapsed": false,
    "pycharm": {
     "name": "#%%\n"
    }
   }
  },
  {
   "cell_type": "code",
   "execution_count": 60,
   "outputs": [
    {
     "data": {
      "text/plain": "                         Sales\nCity                          \nAtlanta (GA)      2.741642e+06\nAustin (TX)       1.786746e+06\nBoston (MA)       3.604081e+06\nDallas (TX)       2.717794e+06\nLos Angeles (CA)  5.354040e+06",
      "text/html": "<div>\n<style scoped>\n    .dataframe tbody tr th:only-of-type {\n        vertical-align: middle;\n    }\n\n    .dataframe tbody tr th {\n        vertical-align: top;\n    }\n\n    .dataframe thead th {\n        text-align: right;\n    }\n</style>\n<table border=\"1\" class=\"dataframe\">\n  <thead>\n    <tr style=\"text-align: right;\">\n      <th></th>\n      <th>Sales</th>\n    </tr>\n    <tr>\n      <th>City</th>\n      <th></th>\n    </tr>\n  </thead>\n  <tbody>\n    <tr>\n      <th>Atlanta (GA)</th>\n      <td>2.741642e+06</td>\n    </tr>\n    <tr>\n      <th>Austin (TX)</th>\n      <td>1.786746e+06</td>\n    </tr>\n    <tr>\n      <th>Boston (MA)</th>\n      <td>3.604081e+06</td>\n    </tr>\n    <tr>\n      <th>Dallas (TX)</th>\n      <td>2.717794e+06</td>\n    </tr>\n    <tr>\n      <th>Los Angeles (CA)</th>\n      <td>5.354040e+06</td>\n    </tr>\n  </tbody>\n</table>\n</div>"
     },
     "execution_count": 60,
     "metadata": {},
     "output_type": "execute_result"
    }
   ],
   "source": [
    "by_city.head()"
   ],
   "metadata": {
    "collapsed": false,
    "pycharm": {
     "name": "#%%\n"
    }
   }
  },
  {
   "cell_type": "code",
   "execution_count": 61,
   "outputs": [
    {
     "data": {
      "text/plain": "<Figure size 864x432 with 1 Axes>",
      "image/png": "[encoded data removed]"
     },
     "metadata": {
      "needs_background": "light"
     },
     "output_type": "display_data"
    }
   ],
   "source": [
    "cities = list(by_city.index)\n",
    "plt.figure(figsize=(12, 6))\n",
    "plt.bar(\n",
    "    x=cities,\n",
    "    height=by_city['Sales']\n",
    ")\n",
    "plt.xticks(cities, rotation='vertical')\n",
    "plt.xlabel('City name'), plt.ylabel('Sales in USD[$]')\n",
    "plt.show()"
   ],
   "metadata": {
    "collapsed": false,
    "pycharm": {
     "name": "#%%\n"
    }
   }
  },
  {
   "cell_type": "code",
   "execution_count": 62,
   "outputs": [
    {
     "name": "stdout",
     "output_type": "stream",
     "text": [
      "City with the highest number of sales is San Francisco (CA)\n"
     ]
    }
   ],
   "source": [
    "best_city = by_city['Sales'].argmax()\n",
    "print(f'City with the highest number of sales is {by_city.iloc[best_city].name}')"
   ],
   "metadata": {
    "collapsed": false,
    "pycharm": {
     "name": "#%%\n"
    }
   }
  },
  {
   "cell_type": "markdown",
   "source": [
    "# Question 3: What time should we display advertisements to maximize likelihood of customer's buying product?"
   ],
   "metadata": {
    "collapsed": false,
    "pycharm": {
     "name": "#%% md\n"
    }
   }
  },
  {
   "cell_type": "code",
   "execution_count": 63,
   "outputs": [],
   "source": [
    "all_months_df['Hours'] = pd.DatetimeIndex(all_months_df['Order Date']).hour\n",
    "all_months_df['Minute'] = pd.DatetimeIndex(all_months_df['Order Date']).minute"
   ],
   "metadata": {
    "collapsed": false,
    "pycharm": {
     "name": "#%%\n"
    }
   }
  },
  {
   "cell_type": "code",
   "execution_count": 64,
   "outputs": [
    {
     "name": "stdout",
     "output_type": "stream",
     "text": [
      "       Orders\n",
      "Hours        \n",
      "0        3844\n",
      "1        2313\n",
      "2        1227\n",
      "3         816\n",
      "4         843\n",
      "5        1293\n",
      "6        2445\n",
      "7        3945\n",
      "8        6184\n",
      "9        8583\n",
      "10      10721\n",
      "11      12202\n",
      "12      12360\n",
      "13      11913\n",
      "14      10810\n",
      "15       9981\n",
      "16      10179\n",
      "17      10702\n",
      "18      12074\n",
      "19      12685\n",
      "20      12040\n",
      "21      10738\n",
      "22       8663\n",
      "23       6174\n"
     ]
    }
   ],
   "source": [
    "by_hours = all_months_df[['Hours', 'Product']].groupby('Hours').count()\n",
    "by_hours.columns = ['Orders']\n",
    "print(by_hours)"
   ],
   "metadata": {
    "collapsed": false,
    "pycharm": {
     "name": "#%%\n"
    }
   }
  },
  {
   "cell_type": "code",
   "execution_count": 65,
   "outputs": [
    {
     "name": "stdout",
     "output_type": "stream",
     "text": [
      "Hour with highest number of orders is 19\n"
     ]
    }
   ],
   "source": [
    "best_hour = by_hours['Orders'].argmax()\n",
    "print(f'Hour with highest number of orders is {by_hours.iloc[best_hour].name}')"
   ],
   "metadata": {
    "collapsed": false,
    "pycharm": {
     "name": "#%%\n"
    }
   }
  },
  {
   "cell_type": "code",
   "execution_count": 66,
   "outputs": [
    {
     "data": {
      "text/plain": "<Figure size 720x360 with 1 Axes>",
      "image/png": "[encoded data removed]"
     },
     "metadata": {
      "needs_background": "light"
     },
     "output_type": "display_data"
    }
   ],
   "source": [
    "hours = list(by_hours.index)\n",
    "plt.figure(figsize=(10, 5))\n",
    "plt.plot(\n",
    "    hours,\n",
    "    by_hours['Orders'],\n",
    "    label='Orders per hour'\n",
    ")\n",
    "plt.xticks(hours)\n",
    "plt.xlabel('Time [Hour]'), plt.ylabel('Number of orders')\n",
    "plt.legend()\n",
    "plt.grid(True)\n",
    "plt.show()"
   ],
   "metadata": {
    "collapsed": false,
    "pycharm": {
     "name": "#%%\n"
    }
   }
  },
  {
   "cell_type": "markdown",
   "source": [
    "# Question 3: What Products are most often sold together?"
   ],
   "metadata": {
    "collapsed": false,
    "pycharm": {
     "name": "#%% md\n"
    }
   }
  },
  {
   "cell_type": "code",
   "execution_count": 140,
   "outputs": [
    {
     "name": "stdout",
     "output_type": "stream",
     "text": [
      "                        Product Order ID\n",
      "3                  Google Phone   176560\n",
      "4              Wired Headphones   176560\n",
      "18                 Google Phone   176574\n",
      "19         USB-C Charging Cable   176574\n",
      "30   Bose SoundSport Headphones   176585\n",
      "31   Bose SoundSport Headphones   176585\n",
      "32       AAA Batteries (4-pack)   176586\n",
      "33                 Google Phone   176586\n",
      "119    Lightning Charging Cable   176672\n",
      "120        USB-C Charging Cable   176672\n"
     ]
    }
   ],
   "source": [
    "same_orders = all_months_df[['Product', 'Order ID']]\n",
    "same_orders = same_orders[same_orders['Order ID'].duplicated(keep=False)] # leave only duplicated Order ID\n",
    "print(same_orders.iloc[:10])"
   ],
   "metadata": {
    "collapsed": false,
    "pycharm": {
     "name": "#%%\n"
    }
   }
  },
  {
   "cell_type": "code",
   "execution_count": 141,
   "outputs": [
    {
     "name": "stdout",
     "output_type": "stream",
     "text": [
      "                        Product Order ID  \\\n",
      "3                  Google Phone   176560   \n",
      "4              Wired Headphones   176560   \n",
      "18                 Google Phone   176574   \n",
      "19         USB-C Charging Cable   176574   \n",
      "30   Bose SoundSport Headphones   176585   \n",
      "31   Bose SoundSport Headphones   176585   \n",
      "32       AAA Batteries (4-pack)   176586   \n",
      "33                 Google Phone   176586   \n",
      "119    Lightning Charging Cable   176672   \n",
      "120        USB-C Charging Cable   176672   \n",
      "\n",
      "                                               Grouped  \n",
      "3                       Google Phone, Wired Headphones  \n",
      "4                       Google Phone, Wired Headphones  \n",
      "18                  Google Phone, USB-C Charging Cable  \n",
      "19                  Google Phone, USB-C Charging Cable  \n",
      "30   Bose SoundSport Headphones, Bose SoundSport He...  \n",
      "31   Bose SoundSport Headphones, Bose SoundSport He...  \n",
      "32                AAA Batteries (4-pack), Google Phone  \n",
      "33                AAA Batteries (4-pack), Google Phone  \n",
      "119     Lightning Charging Cable, USB-C Charging Cable  \n",
      "120     Lightning Charging Cable, USB-C Charging Cable  \n"
     ]
    }
   ],
   "source": [
    "same_orders['Grouped'] = same_orders.groupby('Order ID').transform(lambda product: ', '.join(product))\n",
    "print(same_orders.iloc[:10])"
   ],
   "metadata": {
    "collapsed": false,
    "pycharm": {
     "name": "#%%\n"
    }
   }
  },
  {
   "cell_type": "code",
   "execution_count": 144,
   "outputs": [
    {
     "name": "stdout",
     "output_type": "stream",
     "text": [
      "                                                    Grouped\n",
      "Order ID                                                   \n",
      "176560                       Google Phone, Wired Headphones\n",
      "176574                   Google Phone, USB-C Charging Cable\n",
      "176585    Bose SoundSport Headphones, Bose SoundSport He...\n",
      "176586                 AAA Batteries (4-pack), Google Phone\n",
      "176672       Lightning Charging Cable, USB-C Charging Cable\n",
      "176681            Apple Airpods Headphones, ThinkPad Laptop\n",
      "176689    Bose SoundSport Headphones, AAA Batteries (4-p...\n",
      "176739                 34in Ultrawide Monitor, Google Phone\n",
      "176774       Lightning Charging Cable, USB-C Charging Cable\n",
      "176781                     iPhone, Lightning Charging Cable\n"
     ]
    }
   ],
   "source": [
    "same_orders = same_orders[['Order ID', 'Grouped']].drop_duplicates().set_index('Order ID')\n",
    "print(same_orders.iloc[:10])"
   ],
   "metadata": {
    "collapsed": false,
    "pycharm": {
     "name": "#%%\n"
    }
   }
  },
  {
   "cell_type": "code",
   "execution_count": 138,
   "outputs": [],
   "source": [
    "from itertools import combinations\n",
    "from collections import Counter"
   ],
   "metadata": {
    "collapsed": false,
    "pycharm": {
     "name": "#%%\n"
    }
   }
  },
  {
   "cell_type": "code",
   "execution_count": 161,
   "outputs": [
    {
     "name": "stdout",
     "output_type": "stream",
     "text": [
      "('iPhone', 'Lightning Charging Cable') 973\n",
      "('Google Phone', 'USB-C Charging Cable') 954\n",
      "('iPhone', 'Wired Headphones') 437\n",
      "('Google Phone', 'Wired Headphones') 401\n",
      "('Vareebadd Phone', 'USB-C Charging Cable') 348\n",
      "('iPhone', 'Apple Airpods Headphones') 343\n",
      "('Google Phone', 'Bose SoundSport Headphones') 219\n",
      "('USB-C Charging Cable', 'Wired Headphones') 156\n",
      "('Vareebadd Phone', 'Wired Headphones') 141\n",
      "('Lightning Charging Cable', 'Wired Headphones') 92\n"
     ]
    }
   ],
   "source": [
    "product_counter = Counter()\n",
    "for products in same_orders['Grouped']:\n",
    "    products_list = products.split(', ')\n",
    "    product_counter.update(\n",
    "        Counter(\n",
    "            combinations(products_list, 2)\n",
    "        )\n",
    "    )\n",
    "\n",
    "product_pairs = []\n",
    "order_numbers = []\n",
    "\n",
    "for key, val in product_counter.most_common(10):\n",
    "    product_pairs.append(', '.join(key))\n",
    "    order_numbers.append(val)\n",
    "    print(key, val)"
   ],
   "metadata": {
    "collapsed": false,
    "pycharm": {
     "name": "#%%\n"
    }
   }
  },
  {
   "cell_type": "code",
   "execution_count": 157,
   "outputs": [
    {
     "name": "stdout",
     "output_type": "stream",
     "text": [
      "['iPhone, Lightning Charging Cable', 'Google Phone, USB-C Charging Cable', 'iPhone, Wired Headphones', 'Google Phone, Wired Headphones', 'Vareebadd Phone, USB-C Charging Cable', 'iPhone, Apple Airpods Headphones', 'Google Phone, Bose SoundSport Headphones', 'USB-C Charging Cable, Wired Headphones', 'Vareebadd Phone, Wired Headphones', 'Lightning Charging Cable, Wired Headphones']\n",
      "[973, 954, 437, 401, 348, 343, 219, 156, 141, 92]\n"
     ]
    }
   ],
   "source": [
    "print(product_pairs)\n",
    "print(order_numbers)"
   ],
   "metadata": {
    "collapsed": false,
    "pycharm": {
     "name": "#%%\n"
    }
   }
  },
  {
   "cell_type": "code",
   "execution_count": 162,
   "outputs": [
    {
     "data": {
      "text/plain": "<Figure size 432x288 with 1 Axes>",
      "image/png": "[encoded data removed]"
     },
     "metadata": {
      "needs_background": "light"
     },
     "output_type": "display_data"
    }
   ],
   "source": [
    "plt.bar(\n",
    "    x=product_pairs,\n",
    "    height=order_numbers,\n",
    "    label='Orders'\n",
    ")\n",
    "plt.xticks(rotation='vertical')\n",
    "plt.ylabel('Number of orders')\n",
    "plt.legend()\n",
    "plt.show()"
   ],
   "metadata": {
    "collapsed": false,
    "pycharm": {
     "name": "#%%\n"
    }
   }
  },
  {
   "cell_type": "markdown",
   "source": [
    "# Question 4: Which product had the highest order number?"
   ],
   "metadata": {
    "collapsed": false,
    "pycharm": {
     "name": "#%% md\n"
    }
   }
  },
  {
   "cell_type": "code",
   "execution_count": 165,
   "outputs": [
    {
     "name": "stdout",
     "output_type": "stream",
     "text": [
      "                            Quantity Ordered\n",
      "Product                                     \n",
      "20in Monitor                            4058\n",
      "27in 4K Gaming Monitor                  6134\n",
      "27in FHD Monitor                        7429\n",
      "34in Ultrawide Monitor                  6076\n",
      "AA Batteries (4-pack)                  27148\n",
      "AAA Batteries (4-pack)                 30487\n",
      "Apple Airpods Headphones               15383\n",
      "Bose SoundSport Headphones             13236\n",
      "Flatscreen TV                           4724\n",
      "Google Phone                            5440\n"
     ]
    }
   ],
   "source": [
    "most_products = all_months_df[['Product', 'Quantity Ordered']].groupby('Product').sum()\n",
    "print(most_products.iloc[:10])"
   ],
   "metadata": {
    "collapsed": false,
    "pycharm": {
     "name": "#%%\n"
    }
   }
  },
  {
   "cell_type": "code",
   "execution_count": 174,
   "outputs": [
    {
     "name": "stdout",
     "output_type": "stream",
     "text": [
      "float64\n"
     ]
    }
   ],
   "source": [
    "all_months_df['Price Each'] = pd.to_numeric(all_months_df['Price Each'])\n",
    "print(all_months_df['Price Each'].dtypes)"
   ],
   "metadata": {
    "collapsed": false,
    "pycharm": {
     "name": "#%%\n"
    }
   }
  },
  {
   "cell_type": "code",
   "execution_count": 183,
   "outputs": [
    {
     "name": "stdout",
     "output_type": "stream",
     "text": [
      "                            Price Each\n",
      "Product                               \n",
      "20in Monitor                    109.99\n",
      "27in 4K Gaming Monitor          389.99\n",
      "27in FHD Monitor                149.99\n",
      "34in Ultrawide Monitor          379.99\n",
      "AA Batteries (4-pack)             3.84\n",
      "AAA Batteries (4-pack)            2.99\n",
      "Apple Airpods Headphones        150.00\n",
      "Bose SoundSport Headphones       99.99\n",
      "Flatscreen TV                   300.00\n",
      "Google Phone                    600.00\n"
     ]
    }
   ],
   "source": [
    "# Group by the same product and return mean prices\n",
    "prices = all_months_df[['Product', 'Price Each']].groupby('Product').mean()\n",
    "print(prices.iloc[:10])"
   ],
   "metadata": {
    "collapsed": false,
    "pycharm": {
     "name": "#%%\n"
    }
   }
  },
  {
   "cell_type": "code",
   "execution_count": 210,
   "outputs": [
    {
     "data": {
      "text/plain": "<Figure size 864x432 with 2 Axes>",
      "image/png": "[encoded data removed]"
     },
     "metadata": {
      "needs_background": "light"
     },
     "output_type": "display_data"
    }
   ],
   "source": [
    "product_names = list(most_products.index)\n",
    "\n",
    "fig = plt.figure(figsize=(12, 6))\n",
    "\n",
    "ax1 = fig.add_subplot()\n",
    "ax2 = ax1.twinx()\n",
    "\n",
    "bar1 = ax1.bar(\n",
    "    x=product_names,\n",
    "    height=most_products['Quantity Ordered'],\n",
    "    width=0.5,\n",
    "    label='Orders',\n",
    ")\n",
    "plot2 = ax2.plot(\n",
    "    product_names,\n",
    "    prices['Price Each'],\n",
    "    color='r',\n",
    "    label='Prices'\n",
    ")\n",
    "\n",
    "ax1.set_xticklabels(product_names, rotation='vertical')\n",
    "ax1.set_xlabel('Product name')\n",
    "\n",
    "ax1.set_ylabel('Quantity Ordered', color='b', size=8)\n",
    "ax2.set_ylabel('Price Each [USD $]', color='r', size=8)\n",
    "\n",
    "ax1.yaxis.label.set_size(15)\n",
    "ax1.xaxis.label.set_size(15)\n",
    "ax2.yaxis.label.set_size(15)\n",
    "\n",
    "fig.legend(loc=\"upper right\", bbox_to_anchor=(1,1), bbox_transform=ax1.transAxes)\n",
    "\n",
    "plt.show()"
   ],
   "metadata": {
    "collapsed": false,
    "pycharm": {
     "name": "#%%\n"
    }
   }
  },
  {
   "cell_type": "code",
   "execution_count": null,
   "outputs": [],
   "source": [],
   "metadata": {
    "collapsed": false,
    "pycharm": {
     "name": "#%%\n"
    }
   }
  }
 ],
 "metadata": {
  "kernelspec": {
   "display_name": "Python 3",
   "language": "python",
   "name": "python3"
  },
  "language_info": {
   "codemirror_mode": {
    "name": "ipython",
    "version": 2
   },
   "file_extension": ".py",
   "mimetype": "text/x-python",
   "name": "python",
   "nbconvert_exporter": "python",
   "pygments_lexer": "ipython2",
   "version": "2.7.6"
  }
 },
 "nbformat": 4,
 "nbformat_minor": 0
}