{
 "cells": [
  {
   "cell_type": "code",
   "execution_count": 2,
   "outputs": [],
   "source": [
    "import torch\n",
    "import torchvision\n",
    "import torchvision.transforms as transforms\n",
    "import torch.nn as nn\n",
    "import torch.nn.functional as F\n",
    "import torch.optim as optim\n",
    "from torch.utils.data import DataLoader\n",
    "import numpy as np\n",
    "import matplotlib.pyplot as plt"
   ],
   "metadata": {
    "collapsed": false,
    "pycharm": {
     "name": "#%%\n"
    }
   }
  },
  {
   "cell_type": "markdown",
   "source": [
    "# Building The Model Is Next\n",
    "To build neural networks in PyTorch, we extend the torch.nn.Module PyTorch class. This means we need to utilize a\n",
    "little bit of object oriented programming (OOP) in Python.\n",
    "\n",
    "To build a convolutional neural network, we need to have a general understanding of how CNNs work and what components\n",
    "are used to build CNNs:\n",
    "\n",
    "    · Convolutional Filters\n",
    "    · Zero Padding\n",
    "    · Max Pooling\n",
    "    · Learnable Parameters in CNN"
   ],
   "metadata": {
    "collapsed": false
   }
  },
  {
   "cell_type": "markdown",
   "source": [
    "# PyTorch’s torch.nn Package\n",
    "To build neural networks in PyTorch, we use the torch.nn package, which is PyTorch’s neural network (nn) library.\n",
    "We typically import the package like so:\n",
    "\n",
    "    · import torch.nn as nn\n",
    "\n",
    "PyTorch’s neural network library contains all of the typical components needed to build neural networks.\n",
    "\n",
    "The primary component we'll need to build a neural network is a layer, and so, as we might expect, PyTorch's neural\n",
    "network library contains classes that aid us in constructing layers."
   ],
   "metadata": {
    "collapsed": false
   }
  },
  {
   "cell_type": "markdown",
   "source": [
    "# PyTorch's nn.Module Class\n",
    "As we know, deep neural networks are built using multiple layers. This is what makes the network deep. Each layer in a\n",
    "neural network has two primary components:\n",
    "\n",
    "    · A transformation (code)\n",
    "    · A collection of weights (data)\n",
    "\n",
    "Like many things in life, this fact makes layers great candidates to be represented as objects using OOP.\n",
    "\n",
    "Within the nn package, there is a class called Module, and it is the base class for all of neural network modules which\n",
    "includes layers.\n",
    "\n",
    "This means that all of the layers in PyTorch extend the nn.Module class and inherit all of PyTorch’s built-in\n",
    "functionality within the nn.Module class. In OOP this concept is known as inheritance."
   ],
   "metadata": {
    "collapsed": false
   }
  },
  {
   "cell_type": "markdown",
   "source": [
    "# PyTorch nn.Modules Have A forward() Method\n",
    "When we pass a tensor to our network as input, the tensor flows forward though each layer transformation until the\n",
    "tensor reaches the output layer. This process of a tensor flowing forward though the network is known as a forward pass\n",
    "or forward propagation.\n",
    "\n",
    "The tensor input is passed forward though the network.\n",
    "\n",
    "The goal of the overall transformation is to transform or map the input to the correct prediction output class, and\n",
    "during the training process, the layer weights (data) are updated in such a way that cause the mapping to adjust to\n",
    "make the output closer to the correct prediction.\n",
    "\n",
    "What this all means is that, every PyTorch nn.Module has a forward() method, and so when we are building layers and\n",
    "networks, we must provide an implementation of the forward() method. The forward method is the actual transformation."
   ],
   "metadata": {
    "collapsed": false
   }
  },
  {
   "cell_type": "markdown",
   "source": [
    "# PyTorch’s nn.functional Package\n",
    "When we implement the forward() method of our nn.Module subclass, we will typically use functions from the nn.functional\n",
    "package. This package provides us with many neural network operations that we can use for building layers. In fact,\n",
    "many of the nn.Module layer classes use nn.functional functions to perform their operations.\n",
    "\n",
    "The nn.functional package contains methods that subclasses of nn.Module use for implementing their forward() functions."
   ],
   "metadata": {
    "collapsed": false
   }
  },
  {
   "cell_type": "markdown",
   "source": [
    "# Building A Neural Network In PyTorch\n",
    "We now have enough information to provide an outline for building neural networks in PyTorch. The steps are as follows:\n",
    "\n",
    "Short version:\n",
    "\n",
    "    1.  Extend the nn.Module base class.\n",
    "    2.  Define layers as class attributes.\n",
    "    3.  Implement the forward() method.\n",
    "\n",
    "More detailed version:\n",
    "\n",
    "    1.   Create a neural network class that extends the nn.Module base class.\n",
    "    2.  In the class constructor, define the network’s layers as class attributes using pre-built layers from torch.nn.\n",
    "    3.  Use the network’s layer attributes as well as operations from the nn.functional API to define the network’s\n",
    "    forward pass."
   ],
   "metadata": {
    "collapsed": false
   }
  },
  {
   "cell_type": "markdown",
   "source": [
    "# Extending PyTorch’s nn.Module Class"
   ],
   "metadata": {
    "collapsed": false
   }
  },
  {
   "cell_type": "code",
   "execution_count": 3,
   "outputs": [],
   "source": [
    "class DummyNetwork:\n",
    "    def __init__(self):\n",
    "        self.layer = None,\n",
    "    def forward(self, tensor):\n",
    "        new_tensor = self.layer(tensor)\n",
    "        return new_tensor"
   ],
   "metadata": {
    "collapsed": false,
    "pycharm": {
     "name": "#%%\n"
    }
   }
  },
  {
   "cell_type": "markdown",
   "source": [
    "This gives us a simple network class that has a single dummy layer inside the constructor and a dummy implementation for\n",
    " the forward function.\n",
    "\n",
    "The implementation for the forward() function takes in a tensor t and transforms it using the dummy layer. After the\n",
    "tensor is transformed, the new tensor is returned.\n",
    "\n",
    "This is a good start, but the class hasn’t yet extended the nn.Module class. To make our Network class extend nn.Module,\n",
    "we must do two additional things:\n",
    "\n",
    "    1.  Specify the nn.Module class in parentheses on line 1.\n",
    "    2.  Insert a call to the super class constructor on line 3 inside the constructor."
   ],
   "metadata": {
    "collapsed": false
   }
  },
  {
   "cell_type": "code",
   "execution_count": 4,
   "outputs": [],
   "source": [
    "class SimpleNetwork(nn.Module):\n",
    "    def __init__(self):\n",
    "        super().__init__() # super class call . constructor from super class call\n",
    "        self.layer = None\n",
    "    def forward(self, t):\n",
    "        new_t = self.layer(t)\n",
    "        return new_t"
   ],
   "metadata": {
    "collapsed": false,
    "pycharm": {
     "name": "#%%\n"
    }
   }
  },
  {
   "cell_type": "markdown",
   "source": [
    "These changes transform our simple neural network into a PyTorch neural network because we are now extending PyTorch's\n",
    "nn.Module base class.\n",
    "\n",
    "With this, we are done! Now we have a Network class that has all of the functionality of the PyTorch nn.Module class."
   ],
   "metadata": {
    "collapsed": false
   }
  },
  {
   "cell_type": "markdown",
   "source": [
    "# Define The Network’s Layers As Class Attributes\n",
    "At the moment, our Network class has a single dummy layer as an attribute. Let’s replace this now with some real layers\n",
    "that come pre-built for us from PyTorch's nn library. We’re building a CNN, so the two types of layers we'll use are\n",
    "linear (dense) layers and convolutional layers."
   ],
   "metadata": {
    "collapsed": false
   }
  },
  {
   "cell_type": "code",
   "execution_count": 5,
   "outputs": [],
   "source": [
    "class BaseNetwork(nn.Module):\n",
    "    def __init__(self):\n",
    "        super().__init__() # call the constructor from super class!\n",
    "        self.conv1 = nn.Conv2d(\n",
    "            in_channels=1,\n",
    "            out_channels=6,\n",
    "            kernel_size=5\n",
    "        )\n",
    "        self.conv2 = nn.Conv2d(\n",
    "            in_channels=6,\n",
    "            out_channels=12,\n",
    "            kernel_size=5\n",
    "        )\n",
    "\n",
    "        self.fc1 = nn.Linear(\n",
    "            in_features=12 * 4 * 4,\n",
    "            out_features=120\n",
    "        )\n",
    "        self.fc2 = nn.Linear(\n",
    "            in_features=120,\n",
    "            out_features=60\n",
    "        )\n",
    "        self.out = nn.Linear(\n",
    "            in_features=60,\n",
    "            out_features=10\n",
    "        )\n",
    "\n",
    "    def forward(self, t):\n",
    "        # implement the forward pass\n",
    "        return t"
   ],
   "metadata": {
    "collapsed": false,
    "pycharm": {
     "name": "#%%\n"
    }
   }
  },
  {
   "cell_type": "markdown",
   "source": [
    "Alright. At this point, we have a Python class called Network that extends PyTorch’s nn.Module class. Inside of our\n",
    "Network class, we have five layers that are defined as attributes. We have two convolutional layers, self.conv1 and\n",
    "self.conv2, and three linear layers, self.fc1, self.fc2, self.out.\n",
    "\n",
    "We used the abbreviation fc in fc1 and fc2 because linear layers are also called fully connected layers. They also have\n",
    "a third name that we may hear sometimes called dense. So linear, dense, and fully connected are all ways to refer to the\n",
    "same type of layer. PyTorch uses the word linear, hence the nn.Linear class name.\n",
    "\n",
    "We used the name out for the last linear layer because the last layer in the network is the output layer."
   ],
   "metadata": {
    "collapsed": false
   }
  },
  {
   "cell_type": "markdown",
   "source": [
    "# PyTorch CNN Layer Parameters\n",
    "Parameter vs Argument:\n",
    "\n",
    "    · parameters are used in function definitions as place-holders, while arguments are the actual values/objects that\n",
    "    are passed to the function.\n",
    "    · parameters can be thought of as local variables that live inside a function\n",
    "\n",
    "Two Types Of Parameters:\n",
    "\n",
    "    1.  Hyperparameters\n",
    "    2.  Data dependent hyperparameters\n",
    "\n",
    "The main thing to remember about any type of parameter is that the parameter is a place-holder that will eventually\n",
    "hold or have a value (of the object that is passed in a function)\n",
    "\n",
    "When we construct a layer, we pass values for each parameter to the layer’s constructor. With our convolutional layers\n",
    "have three parameters and the linear layers have two parameters.\n",
    "\n",
    "    1.  Convolutional layers\n",
    "        · in_channels\n",
    "        · out_channels\n",
    "        · kernel_size\n",
    "    2.  Linear layers\n",
    "        · in_features\n",
    "        · out_features"
   ],
   "metadata": {
    "collapsed": false
   }
  },
  {
   "cell_type": "markdown",
   "source": [
    "# Hyperparameters\n",
    "In general, hyperparameters are parameters whose values are chosen manually and arbitrarily.\n",
    "\n",
    "As neural network programmers, we choose hyperparameter values mainly based on trial and error and increasingly by\n",
    "utilizing values that have proven to work well in the past. For building our CNN layers, these are the parameters we\n",
    "choose manually:\n",
    "\n",
    "        · kernel_size (Conv)\n",
    "        · out_channels (Conv)\n",
    "        · out_features (Linear)\n",
    "\n",
    "This means we simply choose the values for these parameters. In neural network programming, this is pretty common, and\n",
    "we usually test and tune these parameters to find values that work best.\n",
    "\n",
    "\n",
    "Parameter\tDescription\n",
    "\n",
    "    · kernel_size\t Sets the filter size. The words kernel and filter are interchangeable.\n",
    "    · out_channels\tSets the number of filters. One filter produces one output channel.\n",
    "    · out_features\tSets the size of the output tensor.\n",
    "\n",
    "On pattern that shows up quite often is that we increase our out_channels as we add additional conv layers, and after we\n",
    "switch to linear layers we shrink our out_features as we filter down to our number of output classes.\n",
    "\n",
    "All of these parameters impact our network's architecture. Specifically, these parameters directly impact the weight\n",
    "tensors inside the layers.\n"
   ],
   "metadata": {
    "collapsed": false
   }
  },
  {
   "cell_type": "markdown",
   "source": [
    "# Data Dependent Hyperparameters\n",
    "Data dependent hyperparameters are parameters whose values are dependent on data. The first two data dependent\n",
    "hyperparameters that stick out are the in_channels of the first convolutional layer, and the out_features of the output\n",
    "layer.\n",
    "\n",
    "You see, the in_channels of the first convolutional layer depend on the number of color channels present inside the\n",
    "images that make up the training set. Since we are dealing with grayscale images, we know that this value should be a 1.\n",
    "\n",
    "The out_features for the output layer depend on the number of classes that are present inside our training set. Since\n",
    "we have 10 classes of clothing inside the Fashion-MNIST dataset, we know that we need 10 output features.\n",
    "\n",
    "In general, the input to one layer is the output from the previous layer, and so all of the in_channels in the conv\n",
    "layers and in_features in the linear layers depend on the data coming from the previous layer.\n",
    "\n",
    "When we switch from a conv layer to a linear layer, we have to flatten our tensor. This is why we have 12*4*4.\n",
    "The twelve comes from the number of output channels in the previous layer, but why do we have the two 4s?"
   ],
   "metadata": {
    "collapsed": false
   }
  },
  {
   "cell_type": "markdown",
   "source": [
    "# Summary Of Layer Parameters\n",
    "    Layer\tParam name\tParam value\tThe param value is\n",
    "\n",
    "    · conv1\tin_channels\t1\tthe number of color channels in the input image (data dependent hyperparameter).\n",
    "    · conv1\tkernel_size\t5\ta hyperparameter.\n",
    "    · conv1\tout_channels\t6\ta hyperparameter.\n",
    "    · conv2\tin_channels\t6\tthe number of out_channels in previous layer.\n",
    "    · conv2\tkernel_size\t5\ta hyperparameter.\n",
    "    · conv2\tout_channels\t12\ta hyperparameter (higher than previous conv layer).\n",
    "    · fc1\tin_features\t12*4*4\tthe length of the flattened output from previous layer.\n",
    "    · fc1\tout_features\t120\ta hyperparameter.\n",
    "    · fc2\tin_features\t120\tthe number of out_features of previous layer.\n",
    "    · fc2\tout_features\t60\ta hyperparameter (lower than previous linear layer).\n",
    "    · out\tin_features\t60\tthe number of out_channels in previous layer.\n",
    "    · out\tout_features\t10\tthe number of prediction classes (data dependent hyperparameter)."
   ],
   "metadata": {
    "collapsed": false
   }
  },
  {
   "cell_type": "markdown",
   "source": [
    "# Learnable Parameters\n",
    "Learnable parameters are parameters whose values are learned during the training process.\n",
    "\n",
    "With learnable parameters, we typically start out with a set of arbitrary values, and these values then get updated in\n",
    "an iterative fashion as the network learns.\n",
    "\n",
    "In fact, when we say that a network is learning, we specifically mean that the network is learning the appropriate\n",
    "values for the learnable parameters. Appropriate values are values that minimize the loss function."
   ],
   "metadata": {
    "collapsed": false
   }
  },
  {
   "cell_type": "markdown",
   "source": [
    "# Getting An Instance The Network"
   ],
   "metadata": {
    "collapsed": false
   }
  },
  {
   "cell_type": "code",
   "execution_count": 6,
   "outputs": [
    {
     "name": "stdout",
     "output_type": "stream",
     "text": [
      "BaseNetwork(\n",
      "  (conv1): Conv2d(1, 6, kernel_size=(5, 5), stride=(1, 1))\n",
      "  (conv2): Conv2d(6, 12, kernel_size=(5, 5), stride=(1, 1))\n",
      "  (fc1): Linear(in_features=192, out_features=120, bias=True)\n",
      "  (fc2): Linear(in_features=120, out_features=60, bias=True)\n",
      "  (out): Linear(in_features=60, out_features=10, bias=True)\n",
      ")\n"
     ]
    }
   ],
   "source": [
    "network = BaseNetwork()\n",
    "print(network)"
   ],
   "metadata": {
    "collapsed": false,
    "pycharm": {
     "name": "#%%\n"
    }
   }
  },
  {
   "cell_type": "markdown",
   "source": [
    "The print() function prints to the console a string representation of our network. With a sharp eye, we can notice that\n",
    "the printed output here is detailing our network’s architecture listing out our network’s layers, and showing the values\n",
    "that were passed to the layer constructors."
   ],
   "metadata": {
    "collapsed": false
   }
  },
  {
   "cell_type": "markdown",
   "source": [
    "# Network String Representation\n",
    "We can override Python’s default string representation using the __repr__ function. This name is short for\n",
    "representation.\n",
    "\n",
    "    def __repr__(self):\n",
    "        return \"lizardnet\""
   ],
   "metadata": {
    "collapsed": false
   }
  },
  {
   "cell_type": "markdown",
   "source": [
    "# Convolutional Layers\n",
    "For the convolutional layers, the kernel_size argument is a Python tuple (5,5) even though we only passed the number 5\n",
    "in the constructor.\n",
    "\n",
    "    print(network)\n",
    "    >>\n",
    "        Network(\n",
    "        (conv1): Conv2d(1, 6, kernel_size=(5, 5), stride=(1, 1))\n",
    "        (conv2): Conv2d(6, 12, kernel_size=(5, 5), stride=(1, 1))\n",
    "        (fc1): Linear(in_features=192, out_features=120, bias=True)\n",
    "        (fc2): Linear(in_features=120, out_features=60, bias=True)\n",
    "        (out): Linear(in_features=60, out_features=10, bias=True)\n",
    "    )\n",
    "\n",
    "This is because our filters actually have a height and width, and when we pass a single number, the code inside the\n",
    "layer’s constructor assumes that we want a square filter.\n",
    "\n",
    "\n",
    "The stride is an additional parameter that we could have set, but we left it out. When the stride is not specified in\n",
    "the layer constructor, the layer automatically sets it to stride=(1, 1).\n",
    "\n",
    "The stride tells the conv layer how far the filter should slide after each operation in the overall convolution. This\n",
    "tuple says to slide by one unit when moving to the right and also by one unit when moving down."
   ],
   "metadata": {
    "collapsed": false
   }
  },
  {
   "cell_type": "markdown",
   "source": [
    "# Linear Layers\n",
    "For the linear layers, we have an additional parameter called bias which has a default parameter value of true. It is\n",
    "possible to turn this off by setting it to false."
   ],
   "metadata": {
    "collapsed": false
   }
  },
  {
   "cell_type": "markdown",
   "source": [
    "# Accessing The Network's Layers\n",
    "In Python and many other programming languages, we access attributes and methods of objects using dot notation.\n",
    "\n",
    "Something to notice about this that pertains directly to what we were just talking about with the string representation\n",
    "of the network is that each of these pieces of code are also giving us a string representation of each layer.\n",
    "\n",
    "In the network’s case, the network class is really just compiling all this data together to give us a single output."
   ],
   "metadata": {
    "collapsed": false
   }
  },
  {
   "cell_type": "code",
   "execution_count": 7,
   "outputs": [
    {
     "name": "stdout",
     "output_type": "stream",
     "text": [
      "Conv2d(6, 12, kernel_size=(5, 5), stride=(1, 1))\n",
      "Linear(in_features=192, out_features=120, bias=True)\n",
      "Linear(in_features=60, out_features=10, bias=True)\n"
     ]
    }
   ],
   "source": [
    "print(network.conv2)\n",
    "print(network.fc1)\n",
    "print(network.out)"
   ],
   "metadata": {
    "collapsed": false,
    "pycharm": {
     "name": "#%%\n"
    }
   }
  },
  {
   "cell_type": "markdown",
   "source": [
    "# Accessing The Layer Weights\n",
    "Now that we have access to each of our layers, we can access the weights inside each layer. Let’s see this for our first\n",
    "convolutional layer."
   ],
   "metadata": {
    "collapsed": false
   }
  },
  {
   "cell_type": "code",
   "execution_count": 8,
   "outputs": [
    {
     "name": "stdout",
     "output_type": "stream",
     "text": [
      "Parameter containing:\n",
      "tensor([[[[ 0.1286, -0.0964, -0.0938, -0.0088,  0.1372],\n",
      "          [ 0.1176,  0.1968,  0.1176, -0.0493,  0.0252],\n",
      "          [-0.0985, -0.0360,  0.1453,  0.0308,  0.0313],\n",
      "          [ 0.0316, -0.0961,  0.1433,  0.0123, -0.1044],\n",
      "          [-0.0978,  0.0483,  0.0139,  0.0330,  0.1033]]],\n",
      "\n",
      "\n",
      "        [[[ 0.0438, -0.0298, -0.0539,  0.1358, -0.0938],\n",
      "          [-0.0501, -0.1116, -0.0380,  0.0185, -0.1113],\n",
      "          [-0.1996, -0.0043,  0.1479,  0.0139,  0.0021],\n",
      "          [-0.0104, -0.1027,  0.1406,  0.0932,  0.0439],\n",
      "          [ 0.0424, -0.1627,  0.1499, -0.1887,  0.1181]]],\n",
      "\n",
      "\n",
      "        [[[-0.1045, -0.0645,  0.0957,  0.1842,  0.0730],\n",
      "          [ 0.0142,  0.0451, -0.1735, -0.1145,  0.0269],\n",
      "          [-0.0070, -0.0168, -0.0029,  0.0079,  0.1247],\n",
      "          [ 0.1884,  0.0991, -0.1161, -0.0263, -0.0984],\n",
      "          [-0.1861,  0.1013, -0.1887,  0.0015, -0.0855]]],\n",
      "\n",
      "\n",
      "        [[[ 0.1077, -0.1548, -0.0075,  0.0654,  0.1730],\n",
      "          [-0.1209,  0.1122, -0.1333, -0.0906, -0.0489],\n",
      "          [-0.0661,  0.1942, -0.0429, -0.0068, -0.0126],\n",
      "          [ 0.0148,  0.0849,  0.0607,  0.0130,  0.0799],\n",
      "          [-0.0355, -0.1948, -0.0823,  0.0437, -0.1700]]],\n",
      "\n",
      "\n",
      "        [[[ 0.0186,  0.1964, -0.1451, -0.1252, -0.0133],\n",
      "          [ 0.1176,  0.0019, -0.0930,  0.0217,  0.1760],\n",
      "          [ 0.1716, -0.0158,  0.1056, -0.1667, -0.0876],\n",
      "          [ 0.1638,  0.1601, -0.1003,  0.1801, -0.1848],\n",
      "          [ 0.0059, -0.1657, -0.1162, -0.1506, -0.0828]]],\n",
      "\n",
      "\n",
      "        [[[-0.0855,  0.0554, -0.0375,  0.1009, -0.1882],\n",
      "          [ 0.1767,  0.1681,  0.0004,  0.0646, -0.0704],\n",
      "          [ 0.0564,  0.1254,  0.1577, -0.0461,  0.1976],\n",
      "          [-0.1438,  0.1703, -0.1215, -0.0157, -0.0143],\n",
      "          [-0.1502,  0.0805, -0.1671,  0.0442, -0.0904]]]], requires_grad=True)\n"
     ]
    }
   ],
   "source": [
    "print(\n",
    "    network.conv1.weight\n",
    ")"
   ],
   "metadata": {
    "collapsed": false,
    "pycharm": {
     "name": "#%%\n"
    }
   }
  },
  {
   "cell_type": "markdown",
   "source": [
    "One thing to notice about the weight tensor output is that it says parameter containing at the top of the output. This\n",
    "is because this particular tensor is a special tensor because its values or scalar components are learnable parameters\n",
    "of our network.\n",
    "\n",
    "This means that the values inside this tensor, the ones we see above, are actually learned as the network is trained.\n",
    "As we train, these weight values are updated in such a way that the loss function is minimized."
   ],
   "metadata": {
    "collapsed": false
   }
  },
  {
   "cell_type": "markdown",
   "source": [
    "# PyTorch Parameter Class\n",
    "To keep track of all the weight tensors inside the network. PyTorch has a special class called Parameter. The Parameter\n",
    "class extends the tensor class, and so the weight tensor inside every layer is an instance of this Parameter class.\n",
    "This is why we see the Parameter containing text at the top of the string representation output.\n",
    "\n",
    "PyTorch’s nn.Module class is basically looking for any attributes whose values are instances of the Parameter class,\n",
    "and when it finds an instance of the parameter class, it keeps track of it."
   ],
   "metadata": {
    "collapsed": false
   }
  },
  {
   "cell_type": "markdown",
   "source": [
    "# Weight Tensor Shape\n",
    "The parameter values we pass to our layers directly impact our network’s weights.\n",
    "\n",
    "For the convolutional layers, the weight values live inside the filters, and in code, the filters are actually the\n",
    "weight tensors themselves.\n",
    "\n",
    "The convolution operation inside a layer is an operation between the input channels to the layer and the filter inside\n",
    "the layer. This means that what we really have is an operation between two tensors.\n",
    "\n",
    "For the first conv layer, we have 1 color channel that should be convolved by 6 filters of size 5x5 to produce 6 output\n",
    "channels. This is how we interpret the values inside our layer constructor."
   ],
   "metadata": {
    "collapsed": false
   }
  },
  {
   "cell_type": "code",
   "execution_count": 9,
   "outputs": [
    {
     "name": "stdout",
     "output_type": "stream",
     "text": [
      "Conv2d(1, 6, kernel_size=(5, 5), stride=(1, 1))\n"
     ]
    }
   ],
   "source": [
    "print(network.conv1)"
   ],
   "metadata": {
    "collapsed": false,
    "pycharm": {
     "name": "#%%\n"
    }
   }
  },
  {
   "cell_type": "markdown",
   "source": [
    "Inside our layer though, we don’t explicitly have 6 weight tensors for each of the 6 filters.\n",
    "We actually represent all 6 filters using a single weight tensor whose shape reflects or accounts for the 6 filters."
   ],
   "metadata": {
    "collapsed": false
   }
  },
  {
   "cell_type": "code",
   "execution_count": 10,
   "outputs": [
    {
     "name": "stdout",
     "output_type": "stream",
     "text": [
      "torch.Size([6, 1, 5, 5])\n"
     ]
    }
   ],
   "source": [
    "print(\n",
    "    network.conv1.weight.shape\n",
    ")"
   ],
   "metadata": {
    "collapsed": false,
    "pycharm": {
     "name": "#%%\n"
    }
   }
  },
  {
   "cell_type": "markdown",
   "source": [
    "The second axis has a length of 1 which accounts for the single input channel, and the last two axes account for the\n",
    "height and width of the filter.\n",
    "\n",
    "The way to think about this is as if we are packaging all of our filters into a single tensor.\n",
    "\n",
    "Now, the second conv layer has 12 filters, and instead of convolving a single input channel, there are 6 input channels\n",
    "coming from the previous layer."
   ],
   "metadata": {
    "collapsed": false
   }
  },
  {
   "cell_type": "code",
   "execution_count": 11,
   "outputs": [
    {
     "name": "stdout",
     "output_type": "stream",
     "text": [
      "torch.Size([12, 6, 5, 5])\n"
     ]
    }
   ],
   "source": [
    "print(\n",
    "    network.conv2.weight.shape\n",
    ")"
   ],
   "metadata": {
    "collapsed": false,
    "pycharm": {
     "name": "#%%\n"
    }
   }
  },
  {
   "cell_type": "markdown",
   "source": [
    "Think of this value of 6 here as giving each of the filters some depth. Instead of having a filter that convolves all of\n",
    "the channels iteratively, our filter has a depth that matches the number of channels.\n",
    "\n",
    "The two main takeaways about these convolutional layers is that our filters are represented using a single tensor and\n",
    "that each filter inside the tensor also has a depth that accounts for the input channels that are being convolved.\n",
    "\n",
    "    1.  All filters are represented using a single tensor.\n",
    "    2.  Filters have depth that accounts for the input channels.\n",
    "\n",
    "Our tensors are rank-4 tensors. The first axis represents the number of filters. The second axis represents the depth of\n",
    "each filter which corresponds to the number of input channels being convolved.\n",
    "\n",
    "The last two axes represent the height and width of each filter. We can pull out any single filter by indexing into the\n",
    "weight tensor’s first axis.\n",
    "\n",
    "    Weight tensor = [\n",
    "        Number of filters (output_channel),\n",
    "            Depth (input_channel),\n",
    "                Height,\n",
    "                     Width (kernel_size)\n",
    "                     ]\n",
    "\n",
    "This gives us a single filter that has a height and width of 5 and a depth of 6."
   ],
   "metadata": {
    "collapsed": false
   }
  },
  {
   "cell_type": "markdown",
   "source": [
    "# Weight Matrix\n",
    "With linear layers or fully connected layers, we have flattened rank-1 tensors as input and as output. The way we\n",
    "transform the in_features to the out_features in a linear layer is by using a rank-2 tensor that is commonly called a\n",
    "weight matrix.\n",
    "\n",
    "This is due to the fact that the weight tensor is of rank-2 with height and width axes."
   ],
   "metadata": {
    "collapsed": false
   }
  },
  {
   "cell_type": "code",
   "execution_count": 12,
   "outputs": [
    {
     "name": "stdout",
     "output_type": "stream",
     "text": [
      "torch.Size([120, 192])\n",
      "torch.Size([60, 120])\n",
      "torch.Size([10, 60])\n"
     ]
    }
   ],
   "source": [
    "print(network.fc1.weight.shape)\n",
    "print(network.fc2.weight.shape)\n",
    "print(network.out.weight.shape)"
   ],
   "metadata": {
    "collapsed": false,
    "pycharm": {
     "name": "#%%\n"
    }
   }
  },
  {
   "cell_type": "markdown",
   "source": [
    "Here we can see that each of our linear layers have a rank-2 weight tensor. The pattern that we can see here is that the\n",
    "height of the weight tensor has the length of the desired output features and a width of the input features - the first\n",
    "axis represents the out_features, and second axis represents the in_features. out_features from conv(n-1) layer are\n",
    "in_features to conv(n) layer."
   ],
   "metadata": {
    "collapsed": false
   }
  },
  {
   "cell_type": "markdown",
   "source": [
    "# Linear Function Represented Using A Matrix\n",
    "The important thing about matrix multiplications like this is that they represent linear functions that we can use to\n",
    "build up our neural network.\n",
    "\n",
    "Specifically, the weight matrix is a linear function also called a linear map that maps a vector space of 4 dimensions\n",
    "to a vector space of 3 dimensions.\n",
    "\n",
    "When we change the weight values inside the matrix, we are actually changing this function, and this is exactly what we\n",
    "want to do as we search for the function that our network is ultimately approximating."
   ],
   "metadata": {
    "collapsed": false
   }
  },
  {
   "cell_type": "markdown",
   "source": [
    "# Using PyTorch For Matrix Multiplication\n",
    "Here, we have the in_features and the weight_matrix as tensors, and we’re using the tensor method called matmul() to\n",
    "perform the operation. The name matmul() as we now know is short for matrix multiplication.\n",
    "\n",
    "    weight_matrix.matmul(in_features)\n",
    "        >> tensor([30., 40., 50.])\n"
   ],
   "metadata": {
    "collapsed": false
   }
  },
  {
   "cell_type": "markdown",
   "source": [
    "# Accessing The Networks Parameters\n",
    "The first example is the most common way, and we’ll use this to iterate over our weights when we update them during the\n",
    "training process."
   ],
   "metadata": {
    "collapsed": false
   }
  },
  {
   "cell_type": "code",
   "execution_count": 13,
   "outputs": [
    {
     "name": "stdout",
     "output_type": "stream",
     "text": [
      "torch.Size([6, 1, 5, 5])\n",
      "torch.Size([6])\n",
      "torch.Size([12, 6, 5, 5])\n",
      "torch.Size([12])\n",
      "torch.Size([120, 192])\n",
      "torch.Size([120])\n",
      "torch.Size([60, 120])\n",
      "torch.Size([60])\n",
      "torch.Size([10, 60])\n",
      "torch.Size([10])\n"
     ]
    }
   ],
   "source": [
    "for param in network.parameters():\n",
    "    print(param.shape)"
   ],
   "metadata": {
    "collapsed": false,
    "pycharm": {
     "name": "#%%\n"
    }
   }
  },
  {
   "cell_type": "markdown",
   "source": [
    "The second way is just to show how we can see the name as well. This reveals something that we won’t cover in detail,\n",
    "the bias is also a learnable parameter. Each layer has a bias by default, so for each layer we have a weight tensor and\n",
    "a bias tensor."
   ],
   "metadata": {
    "collapsed": false
   }
  },
  {
   "cell_type": "code",
   "execution_count": 14,
   "outputs": [
    {
     "name": "stdout",
     "output_type": "stream",
     "text": [
      "conv1.weight \t\t torch.Size([6, 1, 5, 5])\n",
      "conv1.bias \t\t torch.Size([6])\n",
      "conv2.weight \t\t torch.Size([12, 6, 5, 5])\n",
      "conv2.bias \t\t torch.Size([12])\n",
      "fc1.weight \t\t torch.Size([120, 192])\n",
      "fc1.bias \t\t torch.Size([120])\n",
      "fc2.weight \t\t torch.Size([60, 120])\n",
      "fc2.bias \t\t torch.Size([60])\n",
      "out.weight \t\t torch.Size([10, 60])\n",
      "out.bias \t\t torch.Size([10])\n"
     ]
    }
   ],
   "source": [
    "for name, param in network.named_parameters():\n",
    "    print(name, '\\t\\t', param.shape)"
   ],
   "metadata": {
    "collapsed": false,
    "pycharm": {
     "name": "#%%\n"
    }
   }
  },
  {
   "cell_type": "markdown",
   "source": [
    "# How Linear Layers Work\n",
    "When the input features are received by a linear layer, they are received in the form of a flattened 1-dimensional\n",
    "tensor and are then multiplied by the weight matrix. This matrix multiplication produces the output features."
   ],
   "metadata": {
    "collapsed": false
   }
  },
  {
   "cell_type": "markdown",
   "source": [
    "# Transform Using A Matrix"
   ],
   "metadata": {
    "collapsed": false
   }
  },
  {
   "cell_type": "code",
   "execution_count": 15,
   "outputs": [
    {
     "name": "stdout",
     "output_type": "stream",
     "text": [
      "tensor([30., 40., 50.])\n"
     ]
    }
   ],
   "source": [
    "temp_in_features = torch.tensor(\n",
    "    data=[1, 2, 3, 4],\n",
    "    dtype=torch.float32\n",
    ")\n",
    "\n",
    "temp_weight_matrix = torch.tensor(\n",
    "    data=[\n",
    "        [1, 2, 3, 4],\n",
    "        [2, 3, 4, 5],\n",
    "        [3, 4, 5, 6]\n",
    "    ],\n",
    "    dtype=torch.float32\n",
    ")\n",
    "\n",
    "print(\n",
    "    temp_weight_matrix.matmul(temp_in_features)\n",
    ")"
   ],
   "metadata": {
    "collapsed": false,
    "pycharm": {
     "name": "#%%\n"
    }
   }
  },
  {
   "cell_type": "markdown",
   "source": [
    "Here, we have created a 1-dimensional tensor called in_features. We have also created a weight matrix which of course is\n",
    "a 2-dimensional tensor. Then, we've use the matmul() function to preform the matrix multiplication operation that\n",
    "produces a 1-dimensional tensor.\n",
    "\n",
    "In general, the weight matrix defines a linear function that maps a 1-dimensional tensor with four elements to a\n",
    "1-dimensional tensor that has three elements. We can think of this function as a mapping from 4-dimensional Euclidean\n",
    "space to 3-dimensional Euclidean space.\n",
    "\n",
    "This is how linear layers work as well. They map an in_feature space to an out_feature space using a weight matrix."
   ],
   "metadata": {
    "collapsed": false
   }
  },
  {
   "cell_type": "markdown",
   "source": [
    "# Transform Using A PyTorch Linear Layer\n",
    "Let's see how to create a PyTorch linear layer that will do this same operation."
   ],
   "metadata": {
    "collapsed": false
   }
  },
  {
   "cell_type": "code",
   "execution_count": 16,
   "outputs": [],
   "source": [
    "temp_fc = nn.Linear(\n",
    "    in_features=4,\n",
    "    out_features=3,\n",
    "    bias=False\n",
    ")"
   ],
   "metadata": {
    "collapsed": false,
    "pycharm": {
     "name": "#%%\n"
    }
   }
  },
  {
   "cell_type": "markdown",
   "source": [
    "Here, we have it. We've defined a linear layer that accepts 4 in features and transforms these into 3 out features, so\n",
    "we go from 4-dimensional space to 3-dimensional space. We know that a weight matrix is used to preform this operation,\n",
    "but where is the weight matrix in this example?\n",
    "\n",
    "We'll the weight matrix is lives inside the PyTorch LinearLayer class and is created by PyTorch. The PyTorch LinearLayer\n",
    "class uses the numbers 4 and 3 that are passed to the constructor to create a 3 x 4 weight matrix."
   ],
   "metadata": {
    "collapsed": false
   }
  },
  {
   "cell_type": "code",
   "execution_count": 17,
   "outputs": [
    {
     "name": "stdout",
     "output_type": "stream",
     "text": [
      "tensor([-2.4422, -1.2583,  0.6285], grad_fn=<SqueezeBackward3>)\n"
     ]
    }
   ],
   "source": [
    "print(temp_fc(temp_in_features))"
   ],
   "metadata": {
    "collapsed": false,
    "pycharm": {
     "name": "#%%\n"
    }
   }
  },
  {
   "cell_type": "markdown",
   "source": [
    "PyTorch creates a weight matrix and initializes it with random values. This means that the linear functions from the two\n",
    "examples are different, so we are using different function to produce these outputs.\n",
    "\n",
    "Remember the values inside the weight matrix define the linear function. This demonstrates how the network's mapping\n",
    "changes as the weights are updated during the training process.\n",
    "\n",
    "Let's explicitly set the weight matrix of the linear layer to be the same as the one we used in our other example."
   ],
   "metadata": {
    "collapsed": false
   }
  },
  {
   "cell_type": "code",
   "execution_count": 18,
   "outputs": [],
   "source": [
    "temp_fc.weight = nn.Parameter(temp_weight_matrix)"
   ],
   "metadata": {
    "collapsed": false,
    "pycharm": {
     "name": "#%%\n"
    }
   }
  },
  {
   "cell_type": "markdown",
   "source": [
    "PyTorch module weights need to be parameters. This is why we wrap the weight matrix tensor inside a parameter class\n",
    "instance."
   ],
   "metadata": {
    "collapsed": false
   }
  },
  {
   "cell_type": "code",
   "execution_count": 19,
   "outputs": [
    {
     "name": "stdout",
     "output_type": "stream",
     "text": [
      "tensor([30., 40., 50.], grad_fn=<SqueezeBackward3>)\n"
     ]
    }
   ],
   "source": [
    "print(temp_fc(temp_in_features))"
   ],
   "metadata": {
    "collapsed": false,
    "pycharm": {
     "name": "#%%\n"
    }
   }
  },
  {
   "cell_type": "markdown",
   "source": [
    "The output will not be exact because the linear layer is adding a bias tensor to the output. Watch what happens when we\n",
    "turn the bias off. We do this by passing a False flag to the constructor.\n",
    "\n",
    "The results are now the same for both linear functions."
   ],
   "metadata": {
    "collapsed": false
   }
  },
  {
   "cell_type": "markdown",
   "source": [
    "# Mathematical Notation Of The Linear Transformation\n",
    "Sometimes we'll see linear layer operation referred to as\n",
    "\n",
    "    y = Ax + b\n",
    "\n",
    "    Variable\tDefinition\n",
    "    · A  Weight matrix tensor\n",
    "    · x  Input tensor\n",
    "    · b  Bias tensor\n",
    "    · y  Output tensor\n",
    "\n",
    "We'll note that this is similar to the equation for a line y = mx + b."
   ],
   "metadata": {
    "collapsed": false
   }
  },
  {
   "cell_type": "markdown",
   "source": [
    "# Callable Layers And Neural Networks\n",
    "We pointed out before how it was kind of strange that we called the layer object instance as if it were a function."
   ],
   "metadata": {
    "collapsed": false
   }
  },
  {
   "cell_type": "code",
   "execution_count": 20,
   "outputs": [
    {
     "name": "stdout",
     "output_type": "stream",
     "text": [
      "tensor([30., 40., 50.], grad_fn=<SqueezeBackward3>)\n"
     ]
    }
   ],
   "source": [
    "print(\n",
    "    temp_fc(temp_in_features)\n",
    "    # to see the output, simply call the object instance as a function, passing in_features as parameter.async\n",
    "    # the output is a result of multiplication of the flattend 1d input tensor and the weight matrix.\n",
    ")"
   ],
   "metadata": {
    "collapsed": false,
    "pycharm": {
     "name": "#%%\n"
    }
   }
  },
  {
   "cell_type": "markdown",
   "source": [
    "What makes this possible is that PyTorch module classes implement another special Python function called __call__().\n",
    "If a class implements the __call__() method, the special call method will be invoked anytime the object instance is\n",
    "called.\n",
    "\n",
    "This fact is an important PyTorch concept because of the way the __call__() method interacts with the forward() method for our layers and networks.\n",
    "\n",
    "Instead of calling the forward() method directly, we call the object instance. After the object instance is called, the\n",
    "__call__() method is invoked under the hood, and the __call__() in turn invokes the forward() method. This applies to\n",
    "all PyTorch neural network modules, namely, networks and layers."
   ],
   "metadata": {
    "collapsed": false
   }
  },
  {
   "cell_type": "markdown",
   "source": [
    "# CNN Forward Pass Implementation\n",
    "Use the network's layer attributes as well nn.functional API operations to define the network's forward pass."
   ],
   "metadata": {
    "collapsed": false,
    "pycharm": {
     "name": "#%% md\n"
    }
   }
  },
  {
   "cell_type": "markdown",
   "source": [
    "# Implementing The forward() Method\n",
    "Input Layer #1\n",
    "\n",
    "    The input layer of any neural network is determined by the input data. For example, if our input tensor contains\n",
    "    three elements, our network would have three nodes contained in its input layer.\n",
    "\n",
    "    For this reason, we can think of the input layer as the identity transformation.\n",
    "    Mathematically, this is the function f(x) = x\n",
    "\n",
    "    We give any x as the input, and we get back the same x as the output. This logic is the same regardless of whether\n",
    "    we're working with a tensor that has three elements, or a tensor that represents an image with three channels.\n",
    "    The in is the data out!\n",
    "\n",
    "Hidden Convolutional Layers: Layers #2 And #3\n",
    "\n",
    "    Both of the hidden convolutional layers are going to be very similar in terms of performing the transformation.\n",
    "    all layers that are not the input or output layers are called hidden layers, and this is why we are referring to\n",
    "    these convolutional layers as hidden layers.\n",
    "\n",
    "    To preform the convolution operation, we pass the tensor to the forward method of the first convolutional layer,\n",
    "    self.conv1. We've learned how all PyTorch neural network modules have forward() methods, and when we call the\n",
    "    forward() method of a nn.Module, there is a special way that we make the call.\n",
    "\n",
    "    When want to call the forward() method of a nn.Module instance, we call the actual instance instead of calling the\n",
    "    forward() method directly.\n",
    "\n",
    "    Instead of doing this self.conv1.forward(tensor), we do this self.conv1(tensor).\n",
    "\n",
    "Let's go ahead and add all the calls needed to implement both of our convolutional layers.\n",
    "\n",
    "        # Hidden conv layer conv1 (conv1 is the first hidden layer!)\n",
    "        t = self.conv1(t)\n",
    "        t = F.relu(t)\n",
    "        t = F.max_pool2d(t, kernel_size=2, stride=2)\n",
    "\n",
    "        # Hidden conv layer conv2\n",
    "        t = self.conv2(t)\n",
    "        t = F.relu(t)\n",
    "        t = F.max_pool2d(t, kernel_size=2, stride=2)"
   ],
   "metadata": {
    "collapsed": false,
    "pycharm": {
     "name": "#%% md\n"
    }
   }
  },
  {
   "cell_type": "markdown",
   "source": [
    "    As we can see here, our input tensor is transformed as we move through the convolutional layers. The first\n",
    "    convolutional layer has a convolutional operation, followed by a relu activation operation whose output is then passed\n",
    "    to a max pooling operation with kernel_size=2 and stride=2.\n",
    "\n",
    "    The output tensor t of the first convolutional layer is then passed to the next convolutional layer, which is identical\n",
    "    except for the fact that we call self.conv2() instead of self.conv1().\n",
    "\n",
    "    Each of these layers is comprised of a collection of weights (data) and a collection of operations (code). The weights\n",
    "    are encapsulated inside the nn.Conv2d() class instance. The relu() and the max_pool2d() calls are just pure operations.\n",
    "    Neither of these have weights, and this is why we call them directly from the nn.functional API.\n",
    "\n",
    "    Sometimes we may see pooling operations referred to as pooling layers. Sometimes we may even hear activation operations\n",
    "    called activation layers (Tensorflow, Keras).\n",
    "\n",
    "    However, what makes a layer distinct from an operation is that layers have weights. Since pooling operations and\n",
    "    activation functions do not have weights, we will refer to them as operations and view them as being added to the\n",
    "    collection of layer operations.\n",
    "\n",
    "    Mathematically, the entire network is just a composition of functions, and a composition of functions is a function\n",
    "    itself. So a network is just a function. All the terms like layers, activation functions, and weights, are just used to\n",
    "    help describe the different parts.\n",
    "\n",
    "Hidden Linear Layers: Layers #4 And #5\n",
    "\n",
    "    Before we pass our input to the first hidden linear layer, we must reshape() or flatten our tensor. This will be the\n",
    "    case any time we are passing output from a convolutional layer as input to a linear layer.\n",
    "\n",
    "            # Hidden linear layer fc1 (connection between conv and linear layers needs reshaping!)\n",
    "            t = t.reshape(-1, 12 * 4 * 4)\n",
    "            t = self.fc1(t)\n",
    "            t = F.relu(t)\n",
    "\n",
    "            # Hidden linear layer fc2\n",
    "            t = self.fc2(t)\n",
    "            t = F.relu(t)\n",
    "\n",
    "    We saw in the post on CNN weights that the number 12 in the reshaping operation is determined by the number of\n",
    "    output channels coming from the previous convolutional layer.\n",
    "\n",
    "    The 4 * 4 is actually the height and width of each of the 12 output channels.\n",
    "\n",
    "    We started with a 1 x 28 x 28 input tensor. This gives a single color channel, 28 x 28 image, and by the time our\n",
    "    tensor arrives at the first linear layer, the dimensions have changed.\n",
    "\n",
    "    The height and width dimensions have been reduced from 28 x 28 to 4 x 4 by the convolution and pooling operations.\n",
    "\n",
    "    Convolution and pooling operations are reduction operations on the height and width dimensions.\n",
    "\n",
    "\n",
    "Output Layer #6\n",
    "\n",
    "    The sixth and last layer of our network is a linear layer we call the output layer. When we pass our tensor to the\n",
    "    output layer, the result will be the prediction tensor. Since our data has ten prediction classes, we know our\n",
    "    output tensor will have ten elements.\n",
    "\n",
    "        # Output linear layer\n",
    "        t = self.out(t)\n",
    "        # t = F.softmax(t, dim=1)\n",
    "        # we will use F.cross_entropy() loss function, which implicitly performs softmax operation on its inputm\n",
    "\n",
    "    The values inside each of the ten components will correspond to the prediction value for each of our prediction\n",
    "    classes.\n",
    "\n",
    "    Inside the network we usually use relu() as our non-linear activation function, but for the output layer, whenever\n",
    "    we have a single category that we are trying to predict, we use softmax(). The softmax function returns a positive\n",
    "    probability for each of the prediction classes, and the probabilities sum to 1.\n",
    "\n",
    "    However, in our case, we won't use softmax() because the loss function that we'll use, F.cross_entropy(), implicitly\n",
    "    performs the softmax() operation on its input, so we'll just return the result of the last linear transformation.\n",
    "\n",
    "    The implication of this is that our network will be trained using the softmax operation but will not need to compute the\n",
    "    additional operation when the network is used for inference after the training process is complete.\n"
   ],
   "metadata": {
    "collapsed": false,
    "pycharm": {
     "name": "#%% md\n"
    }
   }
  },
  {
   "cell_type": "code",
   "execution_count": 21,
   "outputs": [],
   "source": [
    "class Network(nn.Module):\n",
    "    def __init__(self):\n",
    "        super().__init__()\n",
    "        self.conv1 = nn.Conv2d(\n",
    "            in_channels=1,\n",
    "            out_channels=6,\n",
    "            kernel_size=5,\n",
    "        )\n",
    "        self.conv2 = nn.Conv2d(\n",
    "            in_channels=6,\n",
    "            out_channels=12,\n",
    "            kernel_size=5,\n",
    "        )\n",
    "\n",
    "        self.fc1 = nn.Linear(\n",
    "            in_features=12 * 4 * 4,\n",
    "            out_features=120,\n",
    "        )\n",
    "        self.fc2 = nn.Linear(\n",
    "            in_features=120,\n",
    "            out_features=60,\n",
    "        )\n",
    "        self.out = nn.Linear(\n",
    "            in_features=60,\n",
    "            out_features=10\n",
    "        )\n",
    "\n",
    "    def forward(self, t):\n",
    "        # First Convolutional Hidden Layer\n",
    "        t = self.conv1(t)\n",
    "        t = F.relu(t)\n",
    "        t = F.max_pool2d(t, kernel_size=2, stride=2)\n",
    "\n",
    "        # Second Convolutional Hidden Layer\n",
    "        t = self.conv2(t)\n",
    "        t = F.relu(t)\n",
    "        t = F.max_pool2d(t, kernel_size=2, stride=2)\n",
    "\n",
    "        # First Linear Layer (needs reshaping!)\n",
    "        t = t.reshape(-1, 12 * 4 * 4)\n",
    "        # reshape the tensor, so it has 12 * 4 * 4 input features (axis=1) and corresponding number of outputs (axis=0)\n",
    "        t = self.fc1(t)\n",
    "        t = F.relu(t)\n",
    "\n",
    "        # Second Linear Layer (does not need reshaping, it was reshaped during the transition between conv to linear)\n",
    "        t = self.fc2(t)\n",
    "        t = F.relu(t)\n",
    "\n",
    "        # Output layer\n",
    "        t = self.out(t)\n",
    "        # t = F.softmax(t, dim=1) # dim=1 as input because dim=0 is the output.\n",
    "        # we do not use the softmax operation there, because our loss function cross_entropy uses it for us.\n",
    "\n",
    "        return t"
   ],
   "metadata": {
    "collapsed": false,
    "pycharm": {
     "name": "#%%\n"
    }
   }
  },
  {
   "cell_type": "markdown",
   "source": [
    "# What Is Forward Propagation?\n",
    "Forward propagation is the process of transforming an input tensor to an output tensor. At its core, a neural network is\n",
    "a function that maps an input tensor to an output tensor, and forward propagation is just a special name for the process\n",
    "of passing an input to the network and receiving the output from the network.\n",
    "\n",
    "As we have seen, neural networks operate on data in the form of tensors. The concept forward propagate is used to\n",
    "indicate that the input tensor data is transmitted through the network in the forward direction.\n",
    "\n",
    "For our network, what this means is simply passing our input tensor to the network and receiving the output tensor. To\n",
    "do this, we pass our sample data to the network's forward() method.\n",
    "\n",
    "This is why, the forward() method has the name forward, the execution of the forward() is the process of forward\n",
    "propagation.\n",
    "\n",
    "However, the word propagate means to move or transmit through some medium. In the case of neural networks, data propagates through the layers of the network.\n",
    "\n",
    "There is a notion of backward propagation (backpropagation) as well which makes the term forward propagation suitable as\n",
    "a first step. During the training process, backpropagation occurs after forward propagation.\n",
    "\n",
    "The computation graph keeps track of the network's mapping by tracking each computation that happens. The graph is used\n",
    "during the training process to calculate the derivative (gradient) of the loss function with respect to the network’s\n",
    "weights.\n",
    "\n",
    "This process of tracking calculations happens in real-time, as the calculations occur. PyTorch uses a dynamic\n",
    "computational graph."
   ],
   "metadata": {
    "collapsed": false,
    "pycharm": {
     "name": "#%% md\n"
    }
   }
  },
  {
   "cell_type": "markdown",
   "source": [
    "# Passing A Single Image To The Network"
   ],
   "metadata": {
    "collapsed": false,
    "pycharm": {
     "name": "#%% md\n"
    }
   }
  },
  {
   "cell_type": "code",
   "execution_count": 22,
   "outputs": [],
   "source": [
    "train_set = torchvision.datasets.FashionMNIST(\n",
    "    root='./data',\n",
    "    train=True,\n",
    "    download=True,\n",
    "    transform=transforms.Compose([\n",
    "        transforms.ToTensor()\n",
    "    ])\n",
    ")\n",
    "\n",
    "data_loader = DataLoader(\n",
    "    dataset=train_set,\n",
    "    batch_size=10,\n",
    "    shuffle=True\n",
    ")"
   ],
   "metadata": {
    "collapsed": false,
    "pycharm": {
     "name": "#%%\n"
    }
   }
  },
  {
   "cell_type": "markdown",
   "source": [
    "Sample is a first element of iteration on train_set"
   ],
   "metadata": {
    "collapsed": false,
    "pycharm": {
     "name": "#%% md\n"
    }
   }
  },
  {
   "cell_type": "code",
   "execution_count": 23,
   "outputs": [],
   "source": [
    "sample = next(\n",
    "    iter(train_set)\n",
    ")"
   ],
   "metadata": {
    "collapsed": false,
    "pycharm": {
     "name": "#%%\n"
    }
   }
  },
  {
   "cell_type": "markdown",
   "source": [
    "while Batch is a first element of iteration on data_loader"
   ],
   "metadata": {
    "collapsed": false,
    "pycharm": {
     "name": "#%% md\n"
    }
   }
  },
  {
   "cell_type": "code",
   "execution_count": 24,
   "outputs": [
    {
     "name": "stdout",
     "output_type": "stream",
     "text": [
      "Sample:  Image: torch.Size([1, 28, 28]), Label: torch.Size([])\n",
      "Batch:   Images: torch.Size([10, 1, 28, 28]), Labels: torch.Size([10])\n",
      "First image:  torch.Size([1, 28, 28]) tensor(2)\n"
     ]
    }
   ],
   "source": [
    "batch = next(\n",
    "    iter(data_loader)\n",
    ")\n",
    "\n",
    "single_image, single_label = sample\n",
    "images, labels = batch\n",
    "\n",
    "print('Sample:  Image: {}, Label: {}'.format(single_image.shape, torch.tensor(single_label).shape))\n",
    "print('Batch:   Images: {}, Labels: {}'.format(images.shape, labels.shape))\n",
    "\n",
    "print('First image: ', images[0].shape, labels[0])"
   ],
   "metadata": {
    "collapsed": false,
    "pycharm": {
     "name": "#%%\n"
    }
   }
  },
  {
   "cell_type": "markdown",
   "source": [
    "When we pass a tensor to our network, the network is expecting a batch, so even if we want to pass a single image, we\n",
    "still need a batch.\n",
    "\n",
    "This is no problem. We can create a batch that contains a single image. All of this will be packaged into a single four\n",
    "dimensional tensor that reflects the following dimensions.\n",
    "\n",
    "       · (batch_size, in_channels, height, width)\n",
    "\n",
    "This requirement of the network arises from the fact that the forward() method's in the nn.Conv2d convolutional layer\n",
    "classes expect their tenors to have 4 dimensions. This is pretty standard as most neural network implementations deal\n",
    "with batches of input samples rather than single samples."
   ],
   "metadata": {
    "collapsed": false,
    "pycharm": {
     "name": "#%% md\n"
    }
   }
  },
  {
   "cell_type": "code",
   "execution_count": 25,
   "outputs": [
    {
     "name": "stdout",
     "output_type": "stream",
     "text": [
      "torch.Size([1, 28, 28])\n"
     ]
    }
   ],
   "source": [
    "print(single_image.shape)"
   ],
   "metadata": {
    "collapsed": false,
    "pycharm": {
     "name": "#%%\n"
    }
   }
  },
  {
   "cell_type": "markdown",
   "source": [
    "To put our single sample image tensor into a batch with a size of 1, we just need to unsqueeze() the tensor to add an\n",
    "additional dimension."
   ],
   "metadata": {
    "collapsed": false,
    "pycharm": {
     "name": "#%% md\n"
    }
   }
  },
  {
   "cell_type": "code",
   "execution_count": 26,
   "outputs": [
    {
     "name": "stdout",
     "output_type": "stream",
     "text": [
      "torch.Size([1, 1, 28, 28])\n"
     ]
    }
   ],
   "source": [
    "print(single_image.unsqueeze(dim=0).shape)"
   ],
   "metadata": {
    "collapsed": false,
    "pycharm": {
     "name": "#%%\n"
    }
   }
  },
  {
   "cell_type": "markdown",
   "source": [
    "Using this, we can now pass the unsqueezed image to our network and get the network's prediction."
   ],
   "metadata": {
    "collapsed": false,
    "pycharm": {
     "name": "#%% md\n"
    }
   }
  },
  {
   "cell_type": "code",
   "execution_count": 27,
   "outputs": [
    {
     "name": "stdout",
     "output_type": "stream",
     "text": [
      "torch.Size([1, 10])\n"
     ]
    }
   ],
   "source": [
    "network = Network()\n",
    "\n",
    "single_pred = network(\n",
    "    single_image.unsqueeze(dim=0)\n",
    ")\n",
    "print(single_pred.shape)"
   ],
   "metadata": {
    "collapsed": false,
    "pycharm": {
     "name": "#%%\n"
    }
   }
  },
  {
   "cell_type": "markdown",
   "source": [
    "The shape of the prediction tensor is 1 x 10. This tells us that the first axis has a length of one while the second\n",
    "axis has a length of ten. The interpretation of this is that we have one image in our batch and ten prediction classes.\n",
    "\n",
    "    · (batch size, number of prediction classes)"
   ],
   "metadata": {
    "collapsed": false,
    "pycharm": {
     "name": "#%% md\n"
    }
   }
  },
  {
   "cell_type": "code",
   "execution_count": 28,
   "outputs": [
    {
     "name": "stdout",
     "output_type": "stream",
     "text": [
      "tensor(0.1331, grad_fn=<MaxBackward1>)\n",
      "Prediction: tensor([1])\n",
      "Actual label: 9\n"
     ]
    }
   ],
   "source": [
    "print(single_pred.max())\n",
    "print('Prediction:', single_pred.argmax(dim=1)) # dim=1 because we want to search horizontally (1, 10) by column!\n",
    "print('Actual label:', single_label)"
   ],
   "metadata": {
    "collapsed": false,
    "pycharm": {
     "name": "#%%\n"
    }
   }
  },
  {
   "cell_type": "markdown",
   "source": [
    "For each input in the batch, and for each prediction class, we have a prediction value. If we wanted these values to be\n",
    "probabilities, we could just the softmax() function from the nn.functional package."
   ],
   "metadata": {
    "collapsed": false,
    "pycharm": {
     "name": "#%% md\n"
    }
   }
  },
  {
   "cell_type": "markdown",
   "source": [
    "Search for the predictions in axis=1 (horizontally), because the pred tensor has shape of (1, 10).\n",
    "Searching by axis=0 will result in 10 values, while we search for a single value."
   ],
   "metadata": {
    "collapsed": false,
    "pycharm": {
     "name": "#%% md\n"
    }
   }
  },
  {
   "cell_type": "code",
   "execution_count": 29,
   "outputs": [
    {
     "name": "stdout",
     "output_type": "stream",
     "text": [
      "tensor([[0.1079, 0.1139, 0.1089, 0.0909, 0.1078, 0.0952, 0.0901, 0.0990, 0.1017,\n",
      "         0.0846]], grad_fn=<SoftmaxBackward>)\n",
      "tensor(1., grad_fn=<SumBackward0>)\n"
     ]
    }
   ],
   "source": [
    "print(\n",
    "    F.softmax(single_pred, dim=1)\n",
    ")\n",
    "print(\n",
    "    F.softmax(single_pred, dim=1).sum()\n",
    ")"
   ],
   "metadata": {
    "collapsed": false,
    "pycharm": {
     "name": "#%%\n"
    }
   }
  },
  {
   "cell_type": "markdown",
   "source": [
    "The label for the first image in our training set is 9, and using the argmax() function we can see that the highest\n",
    "value in our prediction tensor occurred at the class represented by index 7.\n",
    "\n",
    "        · Prediction: Sneaker (7)\n",
    "        · Actual: Ankle boot (9)"
   ],
   "metadata": {
    "collapsed": false,
    "pycharm": {
     "name": "#%% md\n"
    }
   }
  },
  {
   "cell_type": "markdown",
   "source": [
    "# Network Weights Are Randomly Generated\n",
    "There are a couple of important things we need to point out about these results. Most of the probabilities came in close\n",
    "to 10%, and this makes sense because our network is guessing and we have ten prediction classes coming from a balanced\n",
    "dataset.\n",
    "\n",
    "Another implication of the randomly generated weights is that each time we create a new instance of our network, the\n",
    "weights within the network will be different. This means that the predictions we get will be different if we create\n",
    "different networks."
   ],
   "metadata": {
    "collapsed": false,
    "pycharm": {
     "name": "#%% md\n"
    }
   }
  },
  {
   "cell_type": "markdown",
   "source": [
    "# Passing A Batch Of Images To The Network\n",
    "The data loader returns a batch of images that are packaged into a single tensor with a shape that reflects the\n",
    "following axes.\n",
    "\n",
    "    · (batch size, input channels, height, width)"
   ],
   "metadata": {
    "collapsed": false,
    "pycharm": {
     "name": "#%% md\n"
    }
   }
  },
  {
   "cell_type": "code",
   "execution_count": 30,
   "outputs": [
    {
     "name": "stdout",
     "output_type": "stream",
     "text": [
      "torch.Size([10, 1, 28, 28])\n"
     ]
    }
   ],
   "source": [
    "print(images.shape)"
   ],
   "metadata": {
    "collapsed": false,
    "pycharm": {
     "name": "#%%\n"
    }
   }
  },
  {
   "cell_type": "markdown",
   "source": [
    "Alright. Let’s get a prediction by passing the images tensor to the network."
   ],
   "metadata": {
    "collapsed": false,
    "pycharm": {
     "name": "#%% md\n"
    }
   }
  },
  {
   "cell_type": "code",
   "execution_count": 31,
   "outputs": [
    {
     "name": "stdout",
     "output_type": "stream",
     "text": [
      "torch.Size([10, 10])\n"
     ]
    }
   ],
   "source": [
    "preds = network(images)\n",
    "print(preds.shape)"
   ],
   "metadata": {
    "collapsed": false,
    "pycharm": {
     "name": "#%%\n"
    }
   }
  },
  {
   "cell_type": "markdown",
   "source": [
    "The prediction tensor has a shape of 10 by 10, which gives us two axes that each have a length of ten. This reflects the\n",
    "fact that we have ten images and for each of these ten images we have ten prediction classes.\n",
    "\n",
    "    · (batch size, number of prediction classes)"
   ],
   "metadata": {
    "collapsed": false,
    "pycharm": {
     "name": "#%% md\n"
    }
   }
  },
  {
   "cell_type": "markdown",
   "source": [
    "# Using Argmax: Prediction Vs Label\n",
    "To check the predictions against the labels, we use the argmax() function to figure out which index contains the highest\n",
    "prediction value. Once we know which index has the highest prediction value, we can compare the index with the label to\n",
    "see if there is a match.\n",
    "\n",
    "To do this, we call the argmax() function on the prediction tensor, and we specify second dimension.\n",
    "\n",
    "The second dimension is the last dimension of our prediction tensor. Remember from all of our work on tensors, the last\n",
    "dimension of a tensor always contains numbers while every other dimension contains other smaller tensor."
   ],
   "metadata": {
    "collapsed": false,
    "pycharm": {
     "name": "#%% md\n"
    }
   }
  },
  {
   "cell_type": "code",
   "execution_count": 32,
   "outputs": [
    {
     "name": "stdout",
     "output_type": "stream",
     "text": [
      "tensor([1, 1, 1, 1, 0, 1, 1, 1, 1, 1])\n",
      "tensor([2, 4, 3, 1, 3, 8, 9, 9, 8, 2])\n",
      "tensor(1)\n"
     ]
    }
   ],
   "source": [
    "print(preds.argmax(dim=1))\n",
    "print(labels)\n",
    "\n",
    "print(\n",
    "    preds.argmax(dim=1).eq(labels).sum()\n",
    ")"
   ],
   "metadata": {
    "collapsed": false,
    "pycharm": {
     "name": "#%%\n"
    }
   }
  },
  {
   "cell_type": "markdown",
   "source": [
    "We can wrap this last call into a function called get_num_correct() that accepts the predictions and the labels, and\n",
    "uses the item() method to return the Python number of correct predictions"
   ],
   "metadata": {
    "collapsed": false
   }
  },
  {
   "cell_type": "code",
   "execution_count": 33,
   "outputs": [],
   "source": [
    "def get_num_correct(y_pred, y_true):\n",
    "    return y_pred.argmax(dim=1).eq(y_true).sum().item()"
   ],
   "metadata": {
    "collapsed": false,
    "pycharm": {
     "name": "#%%\n"
    }
   }
  },
  {
   "cell_type": "code",
   "execution_count": 34,
   "outputs": [
    {
     "name": "stdout",
     "output_type": "stream",
     "text": [
      "Number of correctly predicted labels: 1 of 10\n"
     ]
    }
   ],
   "source": [
    "print('Number of correctly predicted labels:',\n",
    "    get_num_correct(preds, labels),\n",
    "      'of', len(labels)\n",
    ")"
   ],
   "metadata": {
    "collapsed": false,
    "pycharm": {
     "name": "#%%\n"
    }
   }
  },
  {
   "cell_type": "markdown",
   "source": [
    "# The relu() Activation Function\n",
    "\n",
    "    · f(x) = 0 for x < 0 and x if x >= 0"
   ],
   "metadata": {
    "collapsed": false,
    "pycharm": {
     "name": "#%% md\n"
    }
   }
  },
  {
   "cell_type": "code",
   "execution_count": 35,
   "outputs": [
    {
     "name": "stdout",
     "output_type": "stream",
     "text": [
      "-0.18432478606700897\n",
      "0.0\n"
     ]
    }
   ],
   "source": [
    "print(\n",
    "    preds.min().item()\n",
    ")\n",
    "print(\n",
    "    F.relu(\n",
    "        preds.min()\n",
    "    ).item()\n",
    ")"
   ],
   "metadata": {
    "collapsed": false,
    "pycharm": {
     "name": "#%%\n"
    }
   }
  },
  {
   "cell_type": "markdown",
   "source": [
    "# The Max Pooling Operation\n",
    "The pooling operation reduces the shape of our tensor further by extracting the maximum value from each m x n location\n",
    "within our tensor.\n",
    "\n",
    "    t.shape\n",
    "        >> torch.Size([1, 6, 24, 24])\n",
    "\n",
    "    t = F.max_pool2d(t, kernel_size=2, stride=2)\n",
    "    t.shape\n",
    "        >> torch.Size([1, 6, 12, 12])"
   ],
   "metadata": {
    "collapsed": false
   }
  },
  {
   "cell_type": "markdown",
   "source": [
    "# Convolution Layer Summary\n",
    "The shapes of the tensor input to and output from the convolutional layer is given by:\n",
    "\n",
    "    · Input shape: [1, 1, 28, 28]\n",
    "    · Output shape: [1, 6, 12, 12]\n",
    "\n",
    "Summary of each operation that occurs:\n",
    "\n",
    "    1.  The convolution layer convolves the input tensor using six randomly initialized 5x5 filters.\n",
    "    2.  This reduces the height and width dimensions by four.\n",
    "    3.  The relu activation function operation maps all negative values to 0.\n",
    "    4.  This means that all the values in the tensor are now positive.\n",
    "    5.  The max pooling operation extracts the max value from each 2x2 section of the six feature maps that were created by the convolutions.\n",
    "    6.  This reduced the height and width dimensions by twelve.\n",
    "\n",
    "CNN Output Size Formula (Square)\n",
    "\n",
    "output size = (n - f + 2p)/(s) + 1, where n is nxn input, f is fxf filter, p is padding and stride is s\n",
    "\n",
    "    self.conv2.weight.shape\n",
    "        >> torch.Size([12, 6, 5, 5])\n",
    "    t.shape\n",
    "        >> torch.Size([1, 6, 12, 12])\n",
    "\n",
    "    t = self.conv2(t)\n",
    "    t.shape\n",
    "        >> torch.Size([1, 12, 8, 8]) -> (12 - 5)/1 + 1 = 8, no zero padding using filer 5x5 and stride=1\n",
    "\n",
    "    > t = F.max_pool2d(t, kernel_size=2, stride=2)\n",
    "    > t.shape\n",
    "    torch.Size([1, 12, 4, 4])\n",
    "\n",
    "The shape of the resulting output of self.conv2 allows us to see why we reshape the tensor using 12*4*4 before passing\n",
    "the tensor to the first linear layer, self.fc1.\n",
    "\n",
    "This table summarizes the shape changing operations and the resulting shape of each:\n",
    "\n",
    "    Operation\tOutput Shape\n",
    "    · Identity function\ttorch.Size([1, 1, 28, 28])\n",
    "    · Convolution (5 x 5)\ttorch.Size([1, 6, 24, 24]) # no zero padding, using filter 5x5 and stride=1\n",
    "    · Max pooling (2 x 2)\ttorch.Size([1, 6, 12, 12])\n",
    "    · Convolution (5 x 5)\ttorch.Size([1, 12, 8, 8])\n",
    "    · Max pooling (2 x 2)\ttorch.Size([1, 12, 4, 4])\n",
    "    · Flatten (reshape)\ttorch.Size([1, 192])\n",
    "    · Linear transformation\ttorch.Size([1, 120])\n",
    "    · Linear transformation\ttorch.Size([1, 60])\n",
    "    · Linear transformation\ttorch.Size([1, 10])"
   ],
   "metadata": {
    "collapsed": false,
    "pycharm": {
     "name": "#%% md\n"
    }
   }
  },
  {
   "cell_type": "markdown",
   "source": [
    "# Training: What We Do After The Forward Pass\n",
    "\n",
    "    1.  Get batch from the training set.\n",
    "    2.  Pass batch to network.\n",
    "    3.  Calculate the loss (difference between the predicted values and the true values).\n",
    "    4.  Calculate the gradient of the loss function w.r.t the network's weights.\n",
    "    5.  Update the weights using the gradients to reduce the loss.\n",
    "    6.  Repeat steps 1-5 until one epoch is completed.\n",
    "    7.  Repeat steps 1-6 for as many epochs required to reach the minimum loss.\n",
    "We already know exactly how to do steps 1 and 2. If you've already covered the deep learning fundamentals series, then\n",
    "you know that we use a loss function to perform step 3, and you know that we use backpropagation and an optimization\n",
    "algorithm to perform step 4 and 5. Steps 6 and 7 are just standard Python loops (the training loop). Let's see how this\n",
    "is done in code."
   ],
   "metadata": {
    "collapsed": false,
    "pycharm": {
     "name": "#%% md\n"
    }
   }
  },
  {
   "cell_type": "markdown",
   "source": [
    "# Preparing For The Forward Pass\n",
    "We'll begin by:\n",
    "\n",
    "    1.  Creating an instance of our Network class.\n",
    "    2.  Creating a data loader that provides batches of size 100 from our training set.\n",
    "    3.  Unpacking the images and labels from one of these batches."
   ],
   "metadata": {
    "collapsed": false,
    "pycharm": {
     "name": "#%% md\n"
    }
   }
  },
  {
   "cell_type": "code",
   "execution_count": 36,
   "outputs": [],
   "source": [
    "network = Network()\n",
    "train_loader = DataLoader(\n",
    "    train_set,\n",
    "    batch_size=100\n",
    ")\n",
    "batch = next(iter(train_loader)) # image set is divided into 60 000 / 100 batches\n",
    "images, labels = batch # batch of 100 images and 100 corresponding labels"
   ],
   "metadata": {
    "collapsed": false,
    "pycharm": {
     "name": "#%%\n"
    }
   }
  },
  {
   "cell_type": "markdown",
   "source": [
    "# Calculating The Loss\n",
    "To do this we will use the cross_entropy() loss function that is available in PyTorch's nn.functional API. Once we have\n",
    "the loss, we can print it, and also check the number of correct predictions using the function we created a previous\n",
    "post."
   ],
   "metadata": {
    "collapsed": false,
    "pycharm": {
     "name": "#%% md\n"
    }
   }
  },
  {
   "cell_type": "code",
   "execution_count": 37,
   "outputs": [],
   "source": [
    "preds = network(images)"
   ],
   "metadata": {
    "collapsed": false,
    "pycharm": {
     "name": "#%%\n"
    }
   }
  },
  {
   "cell_type": "code",
   "execution_count": 38,
   "outputs": [
    {
     "name": "stdout",
     "output_type": "stream",
     "text": [
      "2.295222043991089\n"
     ]
    }
   ],
   "source": [
    "loss = F.cross_entropy(\n",
    "    input=preds,\n",
    "    target=labels\n",
    ")\n",
    "print(loss.item())"
   ],
   "metadata": {
    "collapsed": false,
    "pycharm": {
     "name": "#%%\n"
    }
   }
  },
  {
   "cell_type": "markdown",
   "source": [
    "Remember that the values are located in the last dimension! In case of predictions (rank=2, dim=0, 1), the predicted\n",
    "labels are located on dim=1."
   ],
   "metadata": {
    "collapsed": false,
    "pycharm": {
     "name": "#%% md\n"
    }
   }
  },
  {
   "cell_type": "code",
   "execution_count": 39,
   "outputs": [
    {
     "name": "stdout",
     "output_type": "stream",
     "text": [
      "9\n"
     ]
    }
   ],
   "source": [
    "print(\n",
    "    preds.argmax(dim=1).eq(labels).sum().item()\n",
    ")"
   ],
   "metadata": {
    "collapsed": false,
    "pycharm": {
     "name": "#%%\n"
    }
   }
  },
  {
   "cell_type": "markdown",
   "source": [
    "The cross_entropy() function returned a scalar valued tenor, and so we used the item() method to print the loss as a\n",
    "Python number. We got 9 out of 100 correct, and since we have 10 prediction classes, this is what we'd expect by\n",
    "guessing at random."
   ],
   "metadata": {
    "collapsed": false,
    "pycharm": {
     "name": "#%% md\n"
    }
   }
  },
  {
   "cell_type": "markdown",
   "source": [
    "# Calculating The Gradients\n",
    "Before we calculate the gradients, let's verify that we currently have no gradients inside our conv1 layer. The\n",
    "gradients are tensors that are accessible in the grad (short for gradient) attribute of the weight tensor of each layer."
   ],
   "metadata": {
    "collapsed": false,
    "pycharm": {
     "name": "#%% md\n"
    }
   }
  },
  {
   "cell_type": "code",
   "execution_count": 40,
   "outputs": [
    {
     "name": "stdout",
     "output_type": "stream",
     "text": [
      "True\n"
     ]
    }
   ],
   "source": [
    "print(\n",
    "    network.conv1.weight.grad is None\n",
    ")"
   ],
   "metadata": {
    "collapsed": false,
    "pycharm": {
     "name": "#%%\n"
    }
   }
  },
  {
   "cell_type": "markdown",
   "source": [
    "To calculate the gradients, we call the backward() method (Gradient is calculated during back propagation) method on\n",
    "the loss tensor, like so:"
   ],
   "metadata": {
    "collapsed": false,
    "pycharm": {
     "name": "#%% md\n"
    }
   }
  },
  {
   "cell_type": "code",
   "execution_count": 41,
   "outputs": [],
   "source": [
    "loss.backward(retain_graph=True)"
   ],
   "metadata": {
    "collapsed": false,
    "pycharm": {
     "name": "#%%\n"
    }
   }
  },
  {
   "cell_type": "markdown",
   "source": [
    "Now, the gradients of the loss function have been stored inside weight tensors."
   ],
   "metadata": {
    "collapsed": false,
    "pycharm": {
     "name": "#%% md\n"
    }
   }
  },
  {
   "cell_type": "code",
   "execution_count": 42,
   "outputs": [
    {
     "name": "stdout",
     "output_type": "stream",
     "text": [
      "torch.Size([6, 1, 5, 5])\n"
     ]
    }
   ],
   "source": [
    "print(\n",
    "    network.conv1.weight.grad.shape\n",
    ")"
   ],
   "metadata": {
    "collapsed": false,
    "pycharm": {
     "name": "#%%\n"
    }
   }
  },
  {
   "cell_type": "markdown",
   "source": [
    "# Updating The Weights\n",
    "To the Adam class constructor, we pass the network parameters (this is how the optimizer is able to access the\n",
    "gradients), and we pass the learning rate .\n",
    "\n",
    "Finally, all we have to do is update the weights is to tell the optimizer to use the gradients to step in the\n",
    "direction of the loss function's minimum."
   ],
   "metadata": {
    "collapsed": false,
    "pycharm": {
     "name": "#%% md\n"
    }
   }
  },
  {
   "cell_type": "code",
   "execution_count": 43,
   "outputs": [],
   "source": [
    "optimizer = optim.Adam(\n",
    "    network.parameters(),\n",
    "    lr=0.01\n",
    ")\n",
    "optimizer.step() # Updating weights"
   ],
   "metadata": {
    "collapsed": false,
    "pycharm": {
     "name": "#%%\n"
    }
   }
  },
  {
   "cell_type": "markdown",
   "source": [
    "When the step() function is called, the optimizer updates the weights using the gradients that are stored in the\n",
    "network's parameters. This means that we should expect our loss to be reduced if we pass the same batch through the\n",
    "network again. Checking this, we can see that this is indeed the case:"
   ],
   "metadata": {
    "collapsed": false,
    "pycharm": {
     "name": "#%% md\n"
    }
   }
  },
  {
   "cell_type": "code",
   "execution_count": 44,
   "outputs": [
    {
     "name": "stdout",
     "output_type": "stream",
     "text": [
      "2.266753673553467\n",
      "15\n"
     ]
    }
   ],
   "source": [
    "preds = network(images)\n",
    "loss = F.cross_entropy(\n",
    "    input=preds,\n",
    "    target=labels\n",
    ")\n",
    "print(loss.item())\n",
    "print(\n",
    "    preds.argmax(dim=1).eq(labels).sum().item()\n",
    ")"
   ],
   "metadata": {
    "collapsed": false,
    "pycharm": {
     "name": "#%%\n"
    }
   }
  },
  {
   "cell_type": "markdown",
   "source": [
    "# Train Using A Single Batch\n",
    "We can summarize the code for training with a single batch in the following way:"
   ],
   "metadata": {
    "collapsed": false,
    "pycharm": {
     "name": "#%% md\n"
    }
   }
  },
  {
   "cell_type": "code",
   "execution_count": 45,
   "outputs": [
    {
     "name": "stdout",
     "output_type": "stream",
     "text": [
      "Non-optimized loss: tensor(2.2993, grad_fn=<NllLossBackward>)\n",
      "Optimized loss: tensor(2.2784, grad_fn=<NllLossBackward>)\n"
     ]
    }
   ],
   "source": [
    "network = Network()\n",
    "\n",
    "train_set = torchvision.datasets.FashionMNIST(\n",
    "    train=True,\n",
    "    root='./data',\n",
    "    download=True,\n",
    "    transform=transforms.Compose([\n",
    "        transforms.ToTensor()\n",
    "    ])\n",
    ")\n",
    "train_loader = torch.utils.data.DataLoader(\n",
    "    dataset=train_set,\n",
    "    batch_size=100,\n",
    "    shuffle=True\n",
    ")\n",
    "\n",
    "batch = next(\n",
    "    iter(train_loader)\n",
    ")\n",
    "images, labels = batch\n",
    "\n",
    "predictions = network(images)\n",
    "\n",
    "loss_noptim = F.cross_entropy(\n",
    "    input=predictions,\n",
    "    target=labels\n",
    ")\n",
    "\n",
    "loss_noptim.backward() # Calculate gradients\n",
    "\n",
    "# Use to optimizer to update weights and predict one more time.\n",
    "optimizer = torch.optim.Adam(\n",
    "    params=network.parameters(),\n",
    "    lr=0.01\n",
    ")\n",
    "optimizer.step() # Update weights (after calculating gradients by loss_noptim)\n",
    "\n",
    "predictions = network(images)\n",
    "\n",
    "loss = F.cross_entropy(\n",
    "    input=predictions,\n",
    "    target=labels\n",
    ")\n",
    "loss.backward() # Calculate gradients after optimization\n",
    "\n",
    "print('Non-optimized loss:', loss_noptim)\n",
    "print('Optimized loss:', loss)"
   ],
   "metadata": {
    "collapsed": false,
    "pycharm": {
     "name": "#%%\n"
    }
   }
  },
  {
   "cell_type": "markdown",
   "source": [
    "The loss function is used to calculate the gradients.\n",
    "\n",
    "The gradients are then used by the optimizer to update the weights.\n",
    "\n",
    "After the weights are updated, the loss function will be reduced."
   ],
   "metadata": {
    "collapsed": false,
    "pycharm": {
     "name": "#%% md\n"
    }
   }
  },
  {
   "cell_type": "markdown",
   "source": [
    "# Training With All Batches (Single Epoch)\n",
    "Now, to train with all of the batches available inside our data loader, we need to make a few changes and add one\n",
    "additional line of code:"
   ],
   "metadata": {
    "collapsed": false,
    "pycharm": {
     "name": "#%% md\n"
    }
   }
  },
  {
   "cell_type": "code",
   "execution_count": 46,
   "outputs": [
    {
     "name": "stdout",
     "output_type": "stream",
     "text": [
      "Epoch: 0 \n",
      "Total_correct: 46681 \n",
      "Total_loss: 347.30973121523857 \n",
      "Accuracy: 77.80166666666666 %\n"
     ]
    }
   ],
   "source": [
    "network = Network()\n",
    "\n",
    "train_loader = DataLoader(\n",
    "    dataset=train_set,\n",
    "    batch_size=100,\n",
    "    shuffle=True\n",
    ")\n",
    "optimizer = optim.Adam(\n",
    "    params=network.parameters(),\n",
    "    lr=0.01\n",
    ")\n",
    "\n",
    "total_loss = 0\n",
    "total_correct = 0\n",
    "\n",
    "for batch in train_loader:\n",
    "    images, labels = batch\n",
    "\n",
    "    predictions = network(images)\n",
    "    loss = F.cross_entropy(\n",
    "        input=predictions,\n",
    "        target=labels\n",
    "    )\n",
    "\n",
    "    optimizer.zero_grad()\n",
    "    loss.backward()\n",
    "    optimizer.step()\n",
    "\n",
    "    total_loss += loss.item()\n",
    "    total_correct += predictions.argmax(dim=1).eq(labels).sum().item()\n",
    "print(\n",
    "    'Epoch:', 0,\n",
    "    '\\nTotal_correct:', total_correct,\n",
    "    '\\nTotal_loss:', total_loss,\n",
    "    '\\nAccuracy:', total_correct/len(train_set) * 100, '%'\n",
    ")"
   ],
   "metadata": {
    "collapsed": false,
    "pycharm": {
     "name": "#%%\n"
    }
   }
  },
  {
   "cell_type": "markdown",
   "source": [
    "That's pretty good after only one epoch (a single full pass over the data). Even though we did one epoch, we still have\n",
    "to keep in mind that the weights were updated 600 times, and this fact depends on our batch size. If made our\n",
    "batch_batch size larger, say 10,000, the weights would only be updated 6 times, and the results wouldn't be quite as\n",
    "good.\n",
    "\n",
    "    Epoch - single iteration over whole dataset (if dataset=1000, batch_size=100, single epoch would constist of\n",
    "    10 iterations)"
   ],
   "metadata": {
    "collapsed": false,
    "pycharm": {
     "name": "#%% md\n"
    }
   }
  },
  {
   "cell_type": "markdown",
   "source": [
    "In PyTorch, we need to set the gradients to zero before starting to do backpropragation, because PyTorch accumulates\n",
    "the gradients on subsequent backward passes. This is convenient while training RNNs. The default action is to\n",
    "accumulate (i.e. sum) the gradients on every loss.backward() call.\n",
    "\n",
    "Because of this, when you start your training loop, ideally you should zero out the gradients so that you do the\n",
    "parameter update correctly. Else the gradient would point in some other direction than the intended direction towards\n",
    "the minimum (or maximum, in case of maximization objectives).\n",
    "\n",
    "After we call the backward() method on our loss tensor, we know the gradients will be calculated and added to the grad\n",
    "attributes of our network's parameters. For this reason, we need to zero out these gradients.\n",
    "\n",
    "        1.  optimizer.zero_grad() - zero out the gradients\n",
    "        2.  loss.backward() - calculate the gradients using backpropagation\n",
    "        3.  optimizer.step() - update the weights"
   ],
   "metadata": {
    "collapsed": false,
    "pycharm": {
     "name": "#%% md\n"
    }
   }
  },
  {
   "cell_type": "markdown",
   "source": [
    "# Training With Multiple Epochs"
   ],
   "metadata": {
    "collapsed": false,
    "pycharm": {
     "name": "#%% md\n"
    }
   }
  },
  {
   "cell_type": "code",
   "execution_count": 47,
   "outputs": [],
   "source": [
    "network = Network()\n",
    "\n",
    "optimizer = torch.optim.Adam(\n",
    "    params=network.parameters(),\n",
    "    lr=0.01\n",
    ")\n",
    "\n",
    "train_set = torchvision.datasets.FashionMNIST(\n",
    "    root='./data',\n",
    "    train=True,\n",
    "    download=True,\n",
    "    transform=transforms.Compose([\n",
    "        transforms.ToTensor()\n",
    "    ])\n",
    ")\n",
    "\n",
    "train_loader = torch.utils.data.DataLoader(\n",
    "    dataset=train_set,\n",
    "    batch_size=100,\n",
    "    shuffle=True\n",
    ")"
   ],
   "metadata": {
    "collapsed": false,
    "pycharm": {
     "name": "#%%\n"
    }
   }
  },
  {
   "cell_type": "markdown",
   "source": [
    "Just a quick review of what we do during training:\n",
    "\n",
    "    1.  Get batch from the training set.\n",
    "    2.  Pass batch to network.\n",
    "    3.  Calculate the loss (difference between the predicted values and the true values).\n",
    "    4.  Calculate the gradient of the loss function w.r.t the network's weights.\n",
    "    5.  Update the weights using the gradients to reduce the loss.\n",
    "    6.  Repeat steps 1-5 until one epoch is completed.\n",
    "    7.  Repeat steps 1-6 for as many epochs required to reach the minimum loss."
   ],
   "metadata": {
    "collapsed": false,
    "pycharm": {
     "name": "#%% md\n"
    }
   }
  },
  {
   "cell_type": "code",
   "execution_count": 48,
   "outputs": [
    {
     "name": "stdout",
     "output_type": "stream",
     "text": [
      "Epoch: 0 \n",
      "Total_correct: 47267 \n",
      "Total_loss: 338.7649166435003 \n",
      "Accuracy: 0.7877833333333333\n",
      "Epoch: 1 \n",
      "Total_correct: 51503 \n",
      "Total_loss: 229.65345931053162 \n",
      "Accuracy: 0.8583833333333334\n",
      "Epoch: 2 \n",
      "Total_correct: 52161 \n",
      "Total_loss: 209.96502673625946 \n",
      "Accuracy: 0.86935\n",
      "Epoch: 3 \n",
      "Total_correct: 52571 \n",
      "Total_loss: 200.80134943127632 \n",
      "Accuracy: 0.8761833333333333\n",
      "Epoch: 4 \n",
      "Total_correct: 52843 \n",
      "Total_loss: 195.2149475812912 \n",
      "Accuracy: 0.8807166666666667\n",
      "Epoch: 5 \n",
      "Total_correct: 53007 \n",
      "Total_loss: 188.78152999281883 \n",
      "Accuracy: 0.88345\n",
      "Epoch: 6 \n",
      "Total_correct: 53067 \n",
      "Total_loss: 187.06489123404026 \n",
      "Accuracy: 0.88445\n",
      "Epoch: 7 \n",
      "Total_correct: 53140 \n",
      "Total_loss: 185.62753687798977 \n",
      "Accuracy: 0.8856666666666667\n",
      "Epoch: 8 \n",
      "Total_correct: 53261 \n",
      "Total_loss: 181.0988917723298 \n",
      "Accuracy: 0.8876833333333334\n",
      "Epoch: 9 \n",
      "Total_correct: 53364 \n",
      "Total_loss: 177.99109853059053 \n",
      "Accuracy: 0.8894\n"
     ]
    }
   ],
   "source": [
    "for epoch in range(10):\n",
    "\n",
    "    total_loss_per_epoch = 0\n",
    "    total_correct_per_epoch = 0\n",
    "\n",
    "    for batch in train_loader:\n",
    "\n",
    "        images, labels = batch # 1. Get Batch\n",
    "\n",
    "        predictions = network(images) # 2. Pass Batch into Network\n",
    "\n",
    "        loss = nn.functional.cross_entropy(\n",
    "            input=predictions,\n",
    "            target=labels\n",
    "        ) # 3. Calculate Loss Function\n",
    "\n",
    "        optimizer.zero_grad() # 4A. Zero out the gradients\n",
    "        loss.backward() # 4B. Calculate the gradients\n",
    "        optimizer.step() # 5. Update the weights\n",
    "\n",
    "        total_loss_per_epoch += loss.item()\n",
    "        total_correct_per_epoch += predictions.argmax(dim=1).eq(labels).sum().item()\n",
    "        # 6. Iterate over all batches from the dataset\n",
    "\n",
    "    print(\n",
    "        'Epoch:', epoch,\n",
    "        '\\nTotal_correct:', total_correct_per_epoch,\n",
    "        '\\nTotal_loss:', total_loss_per_epoch,\n",
    "        '\\nAccuracy:', total_correct_per_epoch/len(train_set)\n",
    "    )\n",
    "    # 7. Iterate through next epochs until the loss function is minimized"
   ],
   "metadata": {
    "collapsed": false,
    "pycharm": {
     "name": "#%%\n"
    }
   }
  },
  {
   "cell_type": "markdown",
   "source": [
    "# Get Predictions For The Entire Training Set\n",
    "depending on the computing resources and the size of the training set if we were training on a different data set, we\n",
    "need a way to prediction on smaller batches and collect the results. To collect the results, we'll use the torch.cat()\n",
    "function to concatenate the output tensors together to obtain our single prediction tensor. Let's build a function to\n",
    "do this."
   ],
   "metadata": {
    "collapsed": false,
    "pycharm": {
     "name": "#%% md\n"
    }
   }
  },
  {
   "cell_type": "markdown",
   "source": [
    "# Building A Function To Get Predictions For ALL Samples\n",
    "All the function needs to do is iterate over the data loader passing the batches to the model and concatenating the\n",
    "results of each batch to a prediction tensor that will returned to the caller."
   ],
   "metadata": {
    "collapsed": false,
    "pycharm": {
     "name": "#%% md\n"
    }
   }
  },
  {
   "cell_type": "code",
   "execution_count": 49,
   "outputs": [],
   "source": [
    "@torch.no_grad()\n",
    "def get_all_predictions(network_model, data_loader):\n",
    "    all_predictions = torch.tensor([])\n",
    "    all_correct = 0\n",
    "    for batch in data_loader:\n",
    "        images, labels = batch\n",
    "        predictions = network_model(images)\n",
    "\n",
    "        all_predictions = torch.cat(\n",
    "            tensors=(all_predictions, predictions),\n",
    "            dim=0\n",
    "        )\n",
    "        all_correct += get_num_correct(predictions, labels)\n",
    "    return all_predictions, all_correct"
   ],
   "metadata": {
    "collapsed": false,
    "pycharm": {
     "name": "#%%\n"
    }
   }
  },
  {
   "cell_type": "markdown",
   "source": [
    "Note at the top, we have annotated the function using the @torch.no_grad() PyTorch decoration. This is because we want\n",
    "this functions execution to omit gradient tracking.\n",
    "\n",
    "We specifically need the gradient calculation feature anytime we are going to calculate gradients using the backward()\n",
    "function. Otherwise, it is a good idea to turn it off because having it off will reduce memory consumption for\n",
    "computations, e.g. when we are using networks only for predicting (inference).\n",
    "\n",
    "We can disable gradient computations for specific or local spots in our code, e.g. like what we just saw with the\n",
    "annotated function ( function decorator @torch.no_grad() ).\n",
    "\n",
    "As another example, we can use Python's 'with' context manger keyword to specify that a specify block\n",
    "of code should exclude gradient computations."
   ],
   "metadata": {
    "collapsed": false,
    "pycharm": {
     "name": "#%% md\n"
    }
   }
  },
  {
   "cell_type": "code",
   "execution_count": 50,
   "outputs": [],
   "source": [
    "with torch.no_grad():\n",
    "    big_loader = torch.utils.data.DataLoader(\n",
    "        dataset=train_set,\n",
    "        batch_size=10000,\n",
    "        shuffle=False\n",
    "    )\n",
    "    all_predictions, all_correct = get_all_predictions(network, big_loader)"
   ],
   "metadata": {
    "collapsed": false,
    "pycharm": {
     "name": "#%%\n"
    }
   }
  },
  {
   "cell_type": "markdown",
   "source": [
    "# Using The Predictions Tensor"
   ],
   "metadata": {
    "collapsed": false,
    "pycharm": {
     "name": "#%% md\n"
    }
   }
  },
  {
   "cell_type": "code",
   "execution_count": 51,
   "outputs": [
    {
     "name": "stdout",
     "output_type": "stream",
     "text": [
      "Total Correct: 53539\n",
      "Accuracy: 89.23166666666667%\n"
     ]
    }
   ],
   "source": [
    "print('Total Correct:', all_correct)\n",
    "print('Accuracy: {}%'.format((all_correct/len(train_set) * 100)))"
   ],
   "metadata": {
    "collapsed": false,
    "pycharm": {
     "name": "#%%\n"
    }
   }
  },
  {
   "cell_type": "markdown",
   "source": [
    "# Building The Confusion Matrix\n",
    "Our task in building the confusion matrix is to count the number of predicted values against the true values (targets).\n",
    "\n",
    "This will create a matrix that acts as a heat map telling us where the predicted values fall relative to the true\n",
    "values.\n",
    "\n",
    "To do this, we need to have the targets tensor and the predicted label from the train_preds tensor."
   ],
   "metadata": {
    "collapsed": false,
    "pycharm": {
     "name": "#%% md\n"
    }
   }
  },
  {
   "cell_type": "code",
   "execution_count": 52,
   "outputs": [],
   "source": [
    "stacked_h = torch.stack(\n",
    "    tensors=(\n",
    "        train_set.targets, all_predictions.argmax(dim=1)\n",
    "    ),\n",
    "    dim=1\n",
    ")"
   ],
   "metadata": {
    "collapsed": false,
    "pycharm": {
     "name": "#%%\n"
    }
   }
  },
  {
   "cell_type": "code",
   "execution_count": 53,
   "outputs": [
    {
     "name": "stdout",
     "output_type": "stream",
     "text": [
      "tensor([[9, 9],\n",
      "        [0, 0],\n",
      "        [0, 0],\n",
      "        ...,\n",
      "        [3, 3],\n",
      "        [0, 0],\n",
      "        [5, 5]])\n"
     ]
    }
   ],
   "source": [
    "print(stacked_h)"
   ],
   "metadata": {
    "collapsed": false,
    "pycharm": {
     "name": "#%%\n"
    }
   }
  },
  {
   "cell_type": "code",
   "execution_count": 54,
   "outputs": [],
   "source": [
    "cmt = torch.zeros(10, 10, dtype=torch.int64)"
   ],
   "metadata": {
    "collapsed": false,
    "pycharm": {
     "name": "#%%\n"
    }
   }
  },
  {
   "cell_type": "code",
   "execution_count": 55,
   "outputs": [
    {
     "name": "stdout",
     "output_type": "stream",
     "text": [
      "tensor([[0, 0, 0, 0, 0, 0, 0, 0, 0, 0],\n",
      "        [0, 0, 0, 0, 0, 0, 0, 0, 0, 0],\n",
      "        [0, 0, 0, 0, 0, 0, 0, 0, 0, 0],\n",
      "        [0, 0, 0, 0, 0, 0, 0, 0, 0, 0],\n",
      "        [0, 0, 0, 0, 0, 0, 0, 0, 0, 0],\n",
      "        [0, 0, 0, 0, 0, 0, 0, 0, 0, 0],\n",
      "        [0, 0, 0, 0, 0, 0, 0, 0, 0, 0],\n",
      "        [0, 0, 0, 0, 0, 0, 0, 0, 0, 0],\n",
      "        [0, 0, 0, 0, 0, 0, 0, 0, 0, 0],\n",
      "        [0, 0, 0, 0, 0, 0, 0, 0, 0, 0]])\n"
     ]
    }
   ],
   "source": [
    "print(cmt)"
   ],
   "metadata": {
    "collapsed": false,
    "pycharm": {
     "name": "#%%\n"
    }
   }
  },
  {
   "cell_type": "code",
   "execution_count": 56,
   "outputs": [],
   "source": [
    "for pred_true_pair in stacked_h:\n",
    "    pred, true = pred_true_pair.tolist()\n",
    "    cmt[pred, true] = cmt[pred, true] + 1"
   ],
   "metadata": {
    "collapsed": false,
    "pycharm": {
     "name": "#%%\n"
    }
   }
  },
  {
   "cell_type": "code",
   "execution_count": 57,
   "outputs": [
    {
     "name": "stdout",
     "output_type": "stream",
     "text": [
      "tensor([[5214,    5,  115,  165,   11,    1,  439,    0,   50,    0],\n",
      "        [  11, 5891,    1,   81,    6,    1,    2,    1,    6,    0],\n",
      "        [  56,    2, 5294,   86,  326,    1,  204,    0,   31,    0],\n",
      "        [ 116,   25,   14, 5570,  194,    1,   61,    0,   19,    0],\n",
      "        [   7,    9,  886,  180, 4757,    0,  139,    0,   22,    0],\n",
      "        [   0,    0,    6,    1,    0, 5888,    0,   79,    6,   20],\n",
      "        [ 887,    7,  691,  168,  679,    2, 3486,    0,   80,    0],\n",
      "        [   0,    0,    0,    0,    0,   47,    0, 5703,    2,  248],\n",
      "        [  10,    2,   23,   11,   12,    4,   24,    9, 5904,    1],\n",
      "        [   0,    0,    0,    1,    0,   42,    3,  117,    5, 5832]])\n"
     ]
    }
   ],
   "source": [
    "print(cmt)"
   ],
   "metadata": {
    "collapsed": false,
    "pycharm": {
     "name": "#%%\n"
    }
   }
  },
  {
   "cell_type": "markdown",
   "source": [
    "# Plotting Confusion Matrix\n",
    "To generate the actual confusion matrix as a numpy.ndarray, we use the confusion_matrix() function from the\n",
    "sklearn.metrics library. Let's get this imported along with our other needed imports."
   ],
   "metadata": {
    "collapsed": false,
    "pycharm": {
     "name": "#%% md\n"
    }
   }
  },
  {
   "cell_type": "code",
   "execution_count": 58,
   "outputs": [],
   "source": [
    "from sklearn.metrics import confusion_matrix"
   ],
   "metadata": {
    "collapsed": false,
    "pycharm": {
     "name": "#%%\n"
    }
   }
  },
  {
   "cell_type": "code",
   "execution_count": 59,
   "outputs": [],
   "source": [
    "cm = confusion_matrix(\n",
    "    y_true=train_set.targets,\n",
    "    y_pred=all_predictions.argmax(dim=1),\n",
    ")"
   ],
   "metadata": {
    "collapsed": false,
    "pycharm": {
     "name": "#%%\n"
    }
   }
  },
  {
   "cell_type": "code",
   "execution_count": 60,
   "outputs": [
    {
     "name": "stdout",
     "output_type": "stream",
     "text": [
      "[[5214    5  115  165   11    1  439    0   50    0]\n",
      " [  11 5891    1   81    6    1    2    1    6    0]\n",
      " [  56    2 5294   86  326    1  204    0   31    0]\n",
      " [ 116   25   14 5570  194    1   61    0   19    0]\n",
      " [   7    9  886  180 4757    0  139    0   22    0]\n",
      " [   0    0    6    1    0 5888    0   79    6   20]\n",
      " [ 887    7  691  168  679    2 3486    0   80    0]\n",
      " [   0    0    0    0    0   47    0 5703    2  248]\n",
      " [  10    2   23   11   12    4   24    9 5904    1]\n",
      " [   0    0    0    1    0   42    3  117    5 5832]]\n"
     ]
    }
   ],
   "source": [
    "print(cm)"
   ],
   "metadata": {
    "collapsed": false,
    "pycharm": {
     "name": "#%%\n"
    }
   }
  },
  {
   "cell_type": "code",
   "execution_count": 61,
   "outputs": [],
   "source": [
    "from plot_confusion_matrix import plot_confusion_matrix"
   ],
   "metadata": {
    "collapsed": false,
    "pycharm": {
     "name": "#%%\n"
    }
   }
  },
  {
   "cell_type": "code",
   "execution_count": 62,
   "outputs": [
    {
     "name": "stdout",
     "output_type": "stream",
     "text": [
      "Confusion matrix, without normalization\n",
      "[[5214    5  115  165   11    1  439    0   50    0]\n",
      " [  11 5891    1   81    6    1    2    1    6    0]\n",
      " [  56    2 5294   86  326    1  204    0   31    0]\n",
      " [ 116   25   14 5570  194    1   61    0   19    0]\n",
      " [   7    9  886  180 4757    0  139    0   22    0]\n",
      " [   0    0    6    1    0 5888    0   79    6   20]\n",
      " [ 887    7  691  168  679    2 3486    0   80    0]\n",
      " [   0    0    0    0    0   47    0 5703    2  248]\n",
      " [  10    2   23   11   12    4   24    9 5904    1]\n",
      " [   0    0    0    1    0   42    3  117    5 5832]]\n"
     ]
    },
    {
     "data": {
      "text/plain": "<Figure size 1080x1080 with 2 Axes>",
      "image/png": "[encoded data removed]"
     },
     "metadata": {
      "needs_background": "light"
     },
     "output_type": "display_data"
    }
   ],
   "source": [
    "plot_confusion_matrix(\n",
    "    cm=cm,\n",
    "    classes=train_set.classes)"
   ],
   "metadata": {
    "collapsed": false,
    "pycharm": {
     "name": "#%%\n"
    }
   }
  },
  {
   "cell_type": "markdown",
   "source": [
    "# Interpreting The Confusion Matrix\n",
    "The confusion matrix has three axes:\n",
    "\n",
    "    1.  Prediction label (class)\n",
    "    2.  True label\n",
    "    3.  Heat map value (color)\n",
    "\n",
    "The prediction label and true labels show us which prediction class we are dealing with. The matrix diagonal represents\n",
    "locations in the matrix where the prediction and the truth are the same, so this is where we want the heat map to be\n",
    "darker.\n",
    "\n",
    "Any values that are not on the diagonal are incorrect predictions because the prediction and the true label don't match.\n",
    "To read the plot, we can use these steps:\n",
    "\n",
    "    1.  Choose a prediction label on the horizontal axis.\n",
    "    2.  Check the diagonal location for this label to see the total number correct.\n",
    "    3.  Check the other non-diagonal locations to see where the network is confused."
   ],
   "metadata": {
    "collapsed": false,
    "pycharm": {
     "name": "#%% md\n"
    }
   }
  },
  {
   "cell_type": "code",
   "execution_count": 63,
   "outputs": [],
   "source": [
    "from torch.utils.tensorboard import SummaryWriter"
   ],
   "metadata": {
    "collapsed": false,
    "pycharm": {
     "name": "#%%\n"
    }
   }
  }
 ],
 "metadata": {
  "kernelspec": {
   "display_name": "Python 3",
   "language": "python",
   "name": "python3"
  },
  "language_info": {
   "codemirror_mode": {
    "name": "ipython",
    "version": 2
   },
   "file_extension": ".py",
   "mimetype": "text/x-python",
   "name": "python",
   "nbconvert_exporter": "python",
   "pygments_lexer": "ipython2",
   "version": "2.7.6"
  }
 },
 "nbformat": 4,
 "nbformat_minor": 0
}